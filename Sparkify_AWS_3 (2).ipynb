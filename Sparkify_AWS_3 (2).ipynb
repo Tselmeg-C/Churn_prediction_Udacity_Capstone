{
 "cells": [
  {
   "cell_type": "code",
   "execution_count": 1,
   "metadata": {},
   "outputs": [
    {
     "data": {
      "application/vnd.jupyter.widget-view+json": {
       "model_id": "38ab14ff30a34d45a3de21e893cbd178",
       "version_major": 2,
       "version_minor": 0
      },
      "text/plain": [
       "VBox()"
      ]
     },
     "metadata": {},
     "output_type": "display_data"
    },
    {
     "name": "stdout",
     "output_type": "stream",
     "text": [
      "Starting Spark application\n"
     ]
    },
    {
     "data": {
      "text/html": [
       "<table>\n",
       "<tr><th>ID</th><th>YARN Application ID</th><th>Kind</th><th>State</th><th>Spark UI</th><th>Driver log</th><th>Current session?</th></tr><tr><td>0</td><td>application_1597523960888_0001</td><td>pyspark</td><td>idle</td><td><a target=\"_blank\" href=\"http://ip-172-31-21-69.eu-central-1.compute.internal:20888/proxy/application_1597523960888_0001/\">Link</a></td><td><a target=\"_blank\" href=\"http://ip-172-31-31-195.eu-central-1.compute.internal:8042/node/containerlogs/container_1597523960888_0001_01_000001/livy\">Link</a></td><td>✔</td></tr></table>"
      ],
      "text/plain": [
       "<IPython.core.display.HTML object>"
      ]
     },
     "metadata": {},
     "output_type": "display_data"
    },
    {
     "data": {
      "application/vnd.jupyter.widget-view+json": {
       "model_id": "",
       "version_major": 2,
       "version_minor": 0
      },
      "text/plain": [
       "FloatProgress(value=0.0, bar_style='info', description='Progress:', layout=Layout(height='25px', width='50%'),…"
      ]
     },
     "metadata": {},
     "output_type": "display_data"
    },
    {
     "name": "stdout",
     "output_type": "stream",
     "text": [
      "SparkSession available as 'spark'.\n"
     ]
    },
    {
     "data": {
      "application/vnd.jupyter.widget-view+json": {
       "model_id": "",
       "version_major": 2,
       "version_minor": 0
      },
      "text/plain": [
       "FloatProgress(value=0.0, bar_style='info', description='Progress:', layout=Layout(height='25px', width='50%'),…"
      ]
     },
     "metadata": {},
     "output_type": "display_data"
    },
    {
     "name": "stdout",
     "output_type": "stream",
     "text": [
      "Welcome to my EMR Notebook!"
     ]
    }
   ],
   "source": [
    "print(\"Welcome to my EMR Notebook!\")"
   ]
  },
  {
   "cell_type": "code",
   "execution_count": 2,
   "metadata": {},
   "outputs": [
    {
     "data": {
      "text/html": [
       "Current session configs: <tt>{'conf': {'spark.pyspark.python': 'python3', 'spark.pyspark.virtualenv.enabled': 'true', 'spark.pyspark.virtualenv.type': 'native', 'spark.pyspark.virtualenv.bin.path': '/usr/bin/virtualenv'}, 'kind': 'pyspark'}</tt><br>"
      ],
      "text/plain": [
       "<IPython.core.display.HTML object>"
      ]
     },
     "metadata": {},
     "output_type": "display_data"
    },
    {
     "data": {
      "text/html": [
       "<table>\n",
       "<tr><th>ID</th><th>YARN Application ID</th><th>Kind</th><th>State</th><th>Spark UI</th><th>Driver log</th><th>Current session?</th></tr><tr><td>0</td><td>application_1597523960888_0001</td><td>pyspark</td><td>idle</td><td><a target=\"_blank\" href=\"http://ip-172-31-21-69.eu-central-1.compute.internal:20888/proxy/application_1597523960888_0001/\">Link</a></td><td><a target=\"_blank\" href=\"http://ip-172-31-31-195.eu-central-1.compute.internal:8042/node/containerlogs/container_1597523960888_0001_01_000001/livy\">Link</a></td><td>✔</td></tr></table>"
      ],
      "text/plain": [
       "<IPython.core.display.HTML object>"
      ]
     },
     "metadata": {},
     "output_type": "display_data"
    }
   ],
   "source": [
    "%%info"
   ]
  },
  {
   "cell_type": "code",
   "execution_count": 3,
   "metadata": {},
   "outputs": [
    {
     "data": {
      "application/vnd.jupyter.widget-view+json": {
       "model_id": "014be3b3d5e54856915bcb64d9afa1dd",
       "version_major": 2,
       "version_minor": 0
      },
      "text/plain": [
       "VBox()"
      ]
     },
     "metadata": {},
     "output_type": "display_data"
    },
    {
     "data": {
      "application/vnd.jupyter.widget-view+json": {
       "model_id": "",
       "version_major": 2,
       "version_minor": 0
      },
      "text/plain": [
       "FloatProgress(value=0.0, bar_style='info', description='Progress:', layout=Layout(height='25px', width='50%'),…"
      ]
     },
     "metadata": {},
     "output_type": "display_data"
    },
    {
     "name": "stdout",
     "output_type": "stream",
     "text": [
      "Package                    Version\n",
      "-------------------------- -------\n",
      "beautifulsoup4             4.9.0  \n",
      "boto                       2.49.0 \n",
      "jmespath                   0.9.5  \n",
      "lxml                       4.5.0  \n",
      "mysqlclient                1.4.2  \n",
      "nltk                       3.4.5  \n",
      "nose                       1.3.4  \n",
      "numpy                      1.16.5 \n",
      "pip                        9.0.1  \n",
      "py-dateutil                2.2    \n",
      "python37-sagemaker-pyspark 1.3.0  \n",
      "pytz                       2019.3 \n",
      "PyYAML                     5.3.1  \n",
      "setuptools                 28.8.0 \n",
      "six                        1.13.0 \n",
      "soupsieve                  1.9.5  \n",
      "wheel                      0.29.0 \n",
      "windmill                   1.6"
     ]
    }
   ],
   "source": [
    "sc.list_packages()"
   ]
  },
  {
   "cell_type": "code",
   "execution_count": 4,
   "metadata": {
    "scrolled": false
   },
   "outputs": [
    {
     "data": {
      "application/vnd.jupyter.widget-view+json": {
       "model_id": "40f7240b701244b4bf61fc50dfe9a7b2",
       "version_major": 2,
       "version_minor": 0
      },
      "text/plain": [
       "VBox()"
      ]
     },
     "metadata": {},
     "output_type": "display_data"
    },
    {
     "data": {
      "application/vnd.jupyter.widget-view+json": {
       "model_id": "",
       "version_major": 2,
       "version_minor": 0
      },
      "text/plain": [
       "FloatProgress(value=0.0, bar_style='info', description='Progress:', layout=Layout(height='25px', width='50%'),…"
      ]
     },
     "metadata": {},
     "output_type": "display_data"
    },
    {
     "name": "stdout",
     "output_type": "stream",
     "text": [
      "Collecting pandas==0.25.1\n",
      "  Downloading https://files.pythonhosted.org/packages/7e/ab/ea76361f9d3e732e114adcd801d2820d5319c23d0ac5482fa3b412db217e/pandas-0.25.1-cp37-cp37m-manylinux1_x86_64.whl (10.4MB)\n",
      "Requirement already satisfied: pytz>=2017.2 in /usr/local/lib/python3.7/site-packages (from pandas==0.25.1)\n",
      "Requirement already satisfied: numpy>=1.13.3 in /usr/local/lib64/python3.7/site-packages (from pandas==0.25.1)\n",
      "Collecting python-dateutil>=2.6.1 (from pandas==0.25.1)\n",
      "  Downloading https://files.pythonhosted.org/packages/d4/70/d60450c3dd48ef87586924207ae8907090de0b306af2bce5d134d78615cb/python_dateutil-2.8.1-py2.py3-none-any.whl (227kB)\n",
      "Requirement already satisfied: six>=1.5 in /usr/local/lib/python3.7/site-packages (from python-dateutil>=2.6.1->pandas==0.25.1)\n",
      "Installing collected packages: python-dateutil, pandas\n",
      "Successfully installed pandas-0.25.1 python-dateutil-2.8.1\n",
      "\n",
      "Collecting matplotlib\n",
      "  Downloading https://files.pythonhosted.org/packages/f1/b9/712584f12f840968a14969a1fe298ffdeaa9c4b484b3bfd973c74c4a481d/matplotlib-3.3.1-cp37-cp37m-manylinux1_x86_64.whl (11.6MB)\n",
      "Collecting certifi>=2020.06.20 (from matplotlib)\n",
      "  Downloading https://files.pythonhosted.org/packages/5e/c4/6c4fe722df5343c33226f0b4e0bb042e4dc13483228b4718baf286f86d87/certifi-2020.6.20-py2.py3-none-any.whl (156kB)\n",
      "Requirement already satisfied: numpy>=1.15 in /usr/local/lib64/python3.7/site-packages (from matplotlib)\n",
      "Requirement already satisfied: python-dateutil>=2.1 in /mnt/tmp/1597524246795-0/lib/python3.7/site-packages (from matplotlib)\n",
      "Collecting pyparsing!=2.0.4,!=2.1.2,!=2.1.6,>=2.0.3 (from matplotlib)\n",
      "  Downloading https://files.pythonhosted.org/packages/8a/bb/488841f56197b13700afd5658fc279a2025a39e22449b7cf29864669b15d/pyparsing-2.4.7-py2.py3-none-any.whl (67kB)\n",
      "Collecting pillow>=6.2.0 (from matplotlib)\n",
      "  Downloading https://files.pythonhosted.org/packages/e8/f2/6722dd0c22e3a143ac792ccb2424924ac72af4adea756b1165b4cad50da7/Pillow-7.2.0-cp37-cp37m-manylinux1_x86_64.whl (2.2MB)\n",
      "Collecting cycler>=0.10 (from matplotlib)\n",
      "  Downloading https://files.pythonhosted.org/packages/f7/d2/e07d3ebb2bd7af696440ce7e754c59dd546ffe1bbe732c8ab68b9c834e61/cycler-0.10.0-py2.py3-none-any.whl\n",
      "Collecting kiwisolver>=1.0.1 (from matplotlib)\n",
      "  Downloading https://files.pythonhosted.org/packages/31/b9/6202dcae729998a0ade30e80ac00f616542ef445b088ec970d407dfd41c0/kiwisolver-1.2.0-cp37-cp37m-manylinux1_x86_64.whl (88kB)\n",
      "Requirement already satisfied: six>=1.5 in /usr/local/lib/python3.7/site-packages (from python-dateutil>=2.1->matplotlib)\n",
      "Installing collected packages: certifi, pyparsing, pillow, cycler, kiwisolver, matplotlib\n",
      "Successfully installed certifi-2020.6.20 cycler-0.10.0 kiwisolver-1.2.0 matplotlib-3.3.1 pillow-7.2.0 pyparsing-2.4.7\n",
      "\n",
      "Collecting seaborn==0.10.1\n",
      "  Downloading https://files.pythonhosted.org/packages/c7/e6/54aaaafd0b87f51dfba92ba73da94151aa3bc179e5fe88fc5dfb3038e860/seaborn-0.10.1-py3-none-any.whl (215kB)\n",
      "Requirement already satisfied: pandas>=0.22.0 in /mnt/tmp/1597524246795-0/lib/python3.7/site-packages (from seaborn==0.10.1)\n",
      "Requirement already satisfied: numpy>=1.13.3 in /usr/local/lib64/python3.7/site-packages (from seaborn==0.10.1)\n",
      "Collecting scipy>=1.0.1 (from seaborn==0.10.1)\n",
      "  Downloading https://files.pythonhosted.org/packages/65/f9/f7a7e5009711579c72da2725174825e5056741bf4001815d097eef1b2e17/scipy-1.5.2-cp37-cp37m-manylinux1_x86_64.whl (25.9MB)\n",
      "Requirement already satisfied: matplotlib>=2.1.2 in /mnt/tmp/1597524246795-0/lib/python3.7/site-packages (from seaborn==0.10.1)\n",
      "Requirement already satisfied: pytz>=2017.2 in /usr/local/lib/python3.7/site-packages (from pandas>=0.22.0->seaborn==0.10.1)\n",
      "Requirement already satisfied: python-dateutil>=2.6.1 in /mnt/tmp/1597524246795-0/lib/python3.7/site-packages (from pandas>=0.22.0->seaborn==0.10.1)\n",
      "Requirement already satisfied: certifi>=2020.06.20 in /mnt/tmp/1597524246795-0/lib/python3.7/site-packages (from matplotlib>=2.1.2->seaborn==0.10.1)\n",
      "Requirement already satisfied: pyparsing!=2.0.4,!=2.1.2,!=2.1.6,>=2.0.3 in /mnt/tmp/1597524246795-0/lib/python3.7/site-packages (from matplotlib>=2.1.2->seaborn==0.10.1)\n",
      "Requirement already satisfied: pillow>=6.2.0 in /mnt/tmp/1597524246795-0/lib/python3.7/site-packages (from matplotlib>=2.1.2->seaborn==0.10.1)\n",
      "Requirement already satisfied: cycler>=0.10 in /mnt/tmp/1597524246795-0/lib/python3.7/site-packages (from matplotlib>=2.1.2->seaborn==0.10.1)\n",
      "Requirement already satisfied: kiwisolver>=1.0.1 in /mnt/tmp/1597524246795-0/lib/python3.7/site-packages (from matplotlib>=2.1.2->seaborn==0.10.1)\n",
      "Requirement already satisfied: six>=1.5 in /usr/local/lib/python3.7/site-packages (from python-dateutil>=2.6.1->pandas>=0.22.0->seaborn==0.10.1)\n",
      "Installing collected packages: scipy, seaborn\n",
      "Successfully installed scipy-1.5.2 seaborn-0.10.1\n",
      "\n",
      "Collecting ipython==7.17.0\n",
      "  Downloading https://files.pythonhosted.org/packages/e7/ba/0ea438e2acd68ce79fde9cf57b4b1f18386969d8a013cd549254b151dde1/ipython-7.17.0-py3-none-any.whl (786kB)\n",
      "Requirement already satisfied: setuptools>=18.5 in /mnt/tmp/1597524246795-0/lib/python3.7/site-packages (from ipython==7.17.0)\n",
      "Collecting decorator (from ipython==7.17.0)\n",
      "  Downloading https://files.pythonhosted.org/packages/ed/1b/72a1821152d07cf1d8b6fce298aeb06a7eb90f4d6d41acec9861e7cc6df0/decorator-4.4.2-py2.py3-none-any.whl\n",
      "Collecting traitlets>=4.2 (from ipython==7.17.0)\n",
      "  Downloading https://files.pythonhosted.org/packages/ca/ab/872a23e29cec3cf2594af7e857f18b687ad21039c1f9b922fac5b9b142d5/traitlets-4.3.3-py2.py3-none-any.whl (75kB)\n",
      "Collecting pexpect; sys_platform != \"win32\" (from ipython==7.17.0)\n",
      "  Downloading https://files.pythonhosted.org/packages/39/7b/88dbb785881c28a102619d46423cb853b46dbccc70d3ac362d99773a78ce/pexpect-4.8.0-py2.py3-none-any.whl (59kB)\n",
      "Collecting jedi>=0.10 (from ipython==7.17.0)\n",
      "  Downloading https://files.pythonhosted.org/packages/c3/d4/36136b18daae06ad798966735f6c3fb96869c1be9f8245d2a8f556e40c36/jedi-0.17.2-py2.py3-none-any.whl (1.4MB)\n",
      "Collecting prompt-toolkit!=3.0.0,!=3.0.1,<3.1.0,>=2.0.0 (from ipython==7.17.0)\n",
      "  Downloading https://files.pythonhosted.org/packages/72/65/a3ef98b56d57a6d0a04cea5810ecbf3700a225d296ca298b3442dddebb42/prompt_toolkit-3.0.6-py3-none-any.whl (354kB)\n",
      "Collecting pickleshare (from ipython==7.17.0)\n",
      "  Downloading https://files.pythonhosted.org/packages/9a/41/220f49aaea88bc6fa6cba8d05ecf24676326156c23b991e80b3f2fc24c77/pickleshare-0.7.5-py2.py3-none-any.whl\n",
      "Collecting backcall (from ipython==7.17.0)\n",
      "  Downloading https://files.pythonhosted.org/packages/4c/1c/ff6546b6c12603d8dd1070aa3c3d273ad4c07f5771689a7b69a550e8c951/backcall-0.2.0-py2.py3-none-any.whl\n",
      "Collecting pygments (from ipython==7.17.0)\n",
      "  Downloading https://files.pythonhosted.org/packages/2d/68/106af3ae51daf807e9cdcba6a90e518954eb8b70341cee52995540a53ead/Pygments-2.6.1-py3-none-any.whl (914kB)\n",
      "Collecting ipython-genutils (from traitlets>=4.2->ipython==7.17.0)\n",
      "  Downloading https://files.pythonhosted.org/packages/fa/bc/9bd3b5c2b4774d5f33b2d544f1460be9df7df2fe42f352135381c347c69a/ipython_genutils-0.2.0-py2.py3-none-any.whl\n",
      "Requirement already satisfied: six in /usr/local/lib/python3.7/site-packages (from traitlets>=4.2->ipython==7.17.0)\n",
      "Collecting ptyprocess>=0.5 (from pexpect; sys_platform != \"win32\"->ipython==7.17.0)\n",
      "  Downloading https://files.pythonhosted.org/packages/d1/29/605c2cc68a9992d18dada28206eeada56ea4bd07a239669da41674648b6f/ptyprocess-0.6.0-py2.py3-none-any.whl\n",
      "Collecting parso<0.8.0,>=0.7.0 (from jedi>=0.10->ipython==7.17.0)\n",
      "  Downloading https://files.pythonhosted.org/packages/93/d1/e635bdde32890db5aeb2ffbde17e74f68986305a4466b0aa373b861e3f00/parso-0.7.1-py2.py3-none-any.whl (109kB)\n",
      "Collecting wcwidth (from prompt-toolkit!=3.0.0,!=3.0.1,<3.1.0,>=2.0.0->ipython==7.17.0)\n",
      "  Downloading https://files.pythonhosted.org/packages/59/7c/e39aca596badaf1b78e8f547c807b04dae603a433d3e7a7e04d67f2ef3e5/wcwidth-0.2.5-py2.py3-none-any.whl\n",
      "Installing collected packages: decorator, ipython-genutils, traitlets, ptyprocess, pexpect, parso, jedi, wcwidth, prompt-toolkit, pickleshare, backcall, pygments, ipython\n",
      "Successfully installed backcall-0.2.0 decorator-4.4.2 ipython-7.17.0 ipython-genutils-0.2.0 jedi-0.17.2 parso-0.7.1 pexpect-4.8.0 pickleshare-0.7.5 prompt-toolkit-3.0.6 ptyprocess-0.6.0 pygments-2.6.1 traitlets-4.3.3 wcwidth-0.2.5"
     ]
    }
   ],
   "source": [
    "sc.install_pypi_package(\"pandas==0.25.1\") #Install pandas version 0.25.1 \n",
    "sc.install_pypi_package(\"matplotlib\") #Install matplotlib from given PyPI repository\n",
    "sc.install_pypi_package(\"seaborn==0.10.1\") #Install seaborn version 0.10.1\n",
    "sc.install_pypi_package(\"ipython==7.17.0\") #install ipython version 7.17.0"
   ]
  },
  {
   "cell_type": "code",
   "execution_count": 5,
   "metadata": {
    "scrolled": true
   },
   "outputs": [
    {
     "data": {
      "application/vnd.jupyter.widget-view+json": {
       "model_id": "",
       "version_major": 2,
       "version_minor": 0
      },
      "text/plain": [
       "VBox()"
      ]
     },
     "metadata": {},
     "output_type": "display_data"
    },
    {
     "data": {
      "application/vnd.jupyter.widget-view+json": {
       "model_id": "",
       "version_major": 2,
       "version_minor": 0
      },
      "text/plain": [
       "FloatProgress(value=0.0, bar_style='info', description='Progress:', layout=Layout(height='25px', width='50%'),…"
      ]
     },
     "metadata": {},
     "output_type": "display_data"
    },
    {
     "name": "stderr",
     "output_type": "stream",
     "text": [
      "'SparkContext' object has no attribute 'list_packages'\n",
      "Traceback (most recent call last):\n",
      "AttributeError: 'SparkContext' object has no attribute 'list_packages'\n",
      "\n"
     ]
    }
   ],
   "source": [
    "sc.list_packages()"
   ]
  },
  {
   "cell_type": "code",
   "execution_count": 6,
   "metadata": {},
   "outputs": [
    {
     "data": {
      "application/vnd.jupyter.widget-view+json": {
       "model_id": "132eb41ec10249dc990bf9e5c622f7e9",
       "version_major": 2,
       "version_minor": 0
      },
      "text/plain": [
       "VBox()"
      ]
     },
     "metadata": {},
     "output_type": "display_data"
    },
    {
     "data": {
      "application/vnd.jupyter.widget-view+json": {
       "model_id": "",
       "version_major": 2,
       "version_minor": 0
      },
      "text/plain": [
       "FloatProgress(value=0.0, bar_style='info', description='Progress:', layout=Layout(height='25px', width='50%'),…"
      ]
     },
     "metadata": {},
     "output_type": "display_data"
    },
    {
     "name": "stderr",
     "output_type": "stream",
     "text": [
      "'NoneType' object has no attribute 'run_line_magic'\n",
      "Traceback (most recent call last):\n",
      "AttributeError: 'NoneType' object has no attribute 'run_line_magic'\n",
      "\n"
     ]
    }
   ],
   "source": [
    "# import libraries\n",
    "from pyspark import SparkConf, SparkContext\n",
    "from pyspark.sql import SparkSession,Window\n",
    "from pyspark.sql.types import *\n",
    "from pyspark.sql.functions import *\n",
    "\n",
    "from pyspark.ml import Pipeline\n",
    "from pyspark.ml.classification import LogisticRegression,GBTClassifier, RandomForestClassifier\n",
    "from pyspark.ml.evaluation import BinaryClassificationEvaluator,MulticlassClassificationEvaluator\n",
    "from pyspark.ml.feature import StandardScaler, StringIndexer, VectorAssembler\n",
    "from pyspark.ml.tuning import CrossValidator, ParamGridBuilder\n",
    "\n",
    "import re\n",
    "import datetime\n",
    "\n",
    "import numpy as np\n",
    "import pandas as pd\n",
    "import seaborn as sb\n",
    "import matplotlib.pyplot as plt\n",
    "\n",
    "#from IPython import get_ipython \n",
    "#get_ipython().run_line_magic('matplotlib', 'inline')\n"
   ]
  },
  {
   "cell_type": "code",
   "execution_count": 7,
   "metadata": {},
   "outputs": [
    {
     "data": {
      "application/vnd.jupyter.widget-view+json": {
       "model_id": "02e2b426983a46b28fa207467905e815",
       "version_major": 2,
       "version_minor": 0
      },
      "text/plain": [
       "VBox()"
      ]
     },
     "metadata": {},
     "output_type": "display_data"
    },
    {
     "data": {
      "application/vnd.jupyter.widget-view+json": {
       "model_id": "",
       "version_major": 2,
       "version_minor": 0
      },
      "text/plain": [
       "FloatProgress(value=0.0, bar_style='info', description='Progress:', layout=Layout(height='25px', width='50%'),…"
      ]
     },
     "metadata": {},
     "output_type": "display_data"
    }
   ],
   "source": [
    "# Create spark session\n",
    "spark = SparkSession \\\n",
    "    .builder \\\n",
    "    .appName(\"Sparkify\") \\\n",
    "    .getOrCreate()"
   ]
  },
  {
   "cell_type": "code",
   "execution_count": 8,
   "metadata": {},
   "outputs": [
    {
     "data": {
      "application/vnd.jupyter.widget-view+json": {
       "model_id": "",
       "version_major": 2,
       "version_minor": 0
      },
      "text/plain": [
       "VBox()"
      ]
     },
     "metadata": {},
     "output_type": "display_data"
    },
    {
     "data": {
      "application/vnd.jupyter.widget-view+json": {
       "model_id": "",
       "version_major": 2,
       "version_minor": 0
      },
      "text/plain": [
       "FloatProgress(value=0.0, bar_style='info', description='Progress:', layout=Layout(height='25px', width='50%'),…"
      ]
     },
     "metadata": {},
     "output_type": "display_data"
    },
    {
     "name": "stdout",
     "output_type": "stream",
     "text": [
      "[('spark.eventLog.enabled', 'true'), ('spark.executorEnv.PYTHONPATH', '{{PWD}}/pyspark.zip<CPS>{{PWD}}/py4j-0.10.7-src.zip<CPS>{{PWD}}/pyspark.zip<CPS>{{PWD}}/py4j-0.10.7-src.zip'), ('spark.driver.extraLibraryPath', '/usr/lib/hadoop/lib/native:/usr/lib/hadoop-lzo/lib/native'), ('spark.sql.parquet.output.committer.class', 'com.amazon.emr.committer.EmrOptimizedSparkSqlParquetOutputCommitter'), ('spark.yarn.tags', 'livy-session-0-N37y9IAx'), ('spark.blacklist.decommissioning.timeout', '1h'), ('spark.yarn.appMasterEnv.SPARK_PUBLIC_DNS', '$(hostname -f)'), ('spark.driver.port', '42987'), ('spark.executor.extraJavaOptions', \"-verbose:gc -XX:+PrintGCDetails -XX:+PrintGCDateStamps -XX:+UseConcMarkSweepGC -XX:CMSInitiatingOccupancyFraction=70 -XX:MaxHeapFreeRatio=70 -XX:+CMSClassUnloadingEnabled -XX:OnOutOfMemoryError='kill -9 %p'\"), ('spark.eventLog.dir', 'hdfs:///var/log/spark/apps'), ('spark.repl.class.outputDir', '/tmp/spark7349066966843980159'), ('spark.sql.warehouse.dir', 'hdfs:///user/spark/warehouse'), ('spark.history.fs.logDirectory', 'hdfs:///var/log/spark/apps'), ('spark.ui.filters', 'org.apache.hadoop.yarn.server.webproxy.amfilter.AmIpFilter'), ('spark.pyspark.python', 'python3'), ('spark.driver.appUIAddress', 'http://ip-172-31-24-149.eu-central-1.compute.internal:4040'), ('spark.repl.local.jars', 'file:///usr/lib/livy/rsc-jars/livy-api-0.5.0-incubating.jar,file:///usr/lib/livy/rsc-jars/netty-all-4.0.37.Final.jar,file:///usr/lib/livy/rsc-jars/livy-rsc-0.5.0-incubating.jar,file:///usr/lib/livy/repl_2.11-jars/livy-core_2.11-0.5.0-incubating.jar,file:///usr/lib/livy/repl_2.11-jars/livy-repl_2.11-0.5.0-incubating.jar,file:///usr/lib/livy/repl_2.11-jars/commons-codec-1.9.jar'), ('spark.jars', 'file:/usr/lib/livy/rsc-jars/livy-api-0.5.0-incubating.jar,file:/usr/lib/livy/rsc-jars/netty-all-4.0.37.Final.jar,file:/usr/lib/livy/rsc-jars/livy-rsc-0.5.0-incubating.jar,file:/usr/lib/livy/repl_2.11-jars/livy-core_2.11-0.5.0-incubating.jar,file:/usr/lib/livy/repl_2.11-jars/livy-repl_2.11-0.5.0-incubating.jar,file:/usr/lib/livy/repl_2.11-jars/commons-codec-1.9.jar'), ('spark.hadoop.yarn.timeline-service.enabled', 'false'), ('spark.executor.id', 'driver'), ('spark.yarn.secondary.jars', 'livy-api-0.5.0-incubating.jar,netty-all-4.0.37.Final.jar,livy-rsc-0.5.0-incubating.jar,livy-core_2.11-0.5.0-incubating.jar,livy-repl_2.11-0.5.0-incubating.jar,commons-codec-1.9.jar'), ('spark.driver.extraJavaOptions', \"-XX:+UseConcMarkSweepGC -XX:CMSInitiatingOccupancyFraction=70 -XX:MaxHeapFreeRatio=70 -XX:+CMSClassUnloadingEnabled -XX:OnOutOfMemoryError='kill -9 %p'\"), ('spark.app.id', 'application_1597494953864_0001'), ('spark.decommissioning.timeout.threshold', '20'), ('spark.sql.catalogImplementation', 'hive'), ('spark.ui.proxyBase', '/proxy/application_1597494953864_0001'), ('spark.stage.attempt.ignoreOnDecommissionFetchFailure', 'true'), ('spark.pyspark.virtualenv.enabled', 'true'), ('spark.livy.spark_major_version', '2'), ('spark.yarn.historyServer.address', 'ip-172-31-24-149.eu-central-1.compute.internal:18080'), ('spark.app.name', 'Sparkify'), ('spark.executor.extraLibraryPath', '/usr/lib/hadoop/lib/native:/usr/lib/hadoop-lzo/lib/native'), ('spark.pyspark.virtualenv.bin.path', '/usr/bin/virtualenv'), ('spark.yarn.dist.jars', 'file:///usr/lib/livy/rsc-jars/livy-api-0.5.0-incubating.jar,file:///usr/lib/livy/rsc-jars/netty-all-4.0.37.Final.jar,file:///usr/lib/livy/rsc-jars/livy-rsc-0.5.0-incubating.jar,file:///usr/lib/livy/repl_2.11-jars/livy-core_2.11-0.5.0-incubating.jar,file:///usr/lib/livy/repl_2.11-jars/livy-repl_2.11-0.5.0-incubating.jar,file:///usr/lib/livy/repl_2.11-jars/commons-codec-1.9.jar'), ('spark.hadoop.mapreduce.fileoutputcommitter.algorithm.version.emr_internal_use_only.EmrFileSystem', '2'), ('spark.yarn.submit.waitAppCompletion', 'false'), ('spark.pyspark.virtualenv.type', 'native'), ('spark.yarn.dist.pyFiles', 'file:///usr/lib/spark/python/lib/pyspark.zip,file:///usr/lib/spark/python/lib/py4j-0.10.7-src.zip'), ('spark.yarn.dist.archives', 'file:/usr/lib/spark/R/lib/sparkr.zip#sparkr'), ('spark.yarn.maxAppAttempts', '1'), ('spark.sql.hive.metastore.sharedPrefixes', 'com.amazonaws.services.dynamodbv2'), ('spark.executor.memory', '5120M'), ('spark.repl.class.uri', 'spark://ip-172-31-24-149.eu-central-1.compute.internal:42987/classes'), ('spark.submit.deployMode', 'client'), ('spark.sql.parquet.fs.optimized.committer.optimization-enabled', 'true'), ('spark.driver.extraClassPath', '/usr/lib/hadoop-lzo/lib/*:/usr/lib/hadoop/hadoop-aws.jar:/usr/share/aws/aws-java-sdk/*:/usr/share/aws/emr/emrfs/conf:/usr/share/aws/emr/emrfs/lib/*:/usr/share/aws/emr/emrfs/auxlib/*:/usr/share/aws/emr/goodies/lib/emr-spark-goodies.jar:/usr/share/aws/emr/security/conf:/usr/share/aws/emr/security/lib/*:/usr/share/aws/hmclient/lib/aws-glue-datacatalog-spark-client.jar:/usr/share/java/Hive-JSON-Serde/hive-openx-serde.jar:/usr/share/aws/sagemaker-spark-sdk/lib/sagemaker-spark-sdk.jar:/usr/share/aws/emr/s3select/lib/emr-s3-select-spark-connector.jar'), ('spark.hadoop.mapreduce.fileoutputcommitter.cleanup-failures.ignored.emr_internal_use_only.EmrFileSystem', 'true'), ('spark.history.ui.port', '18080'), ('spark.shuffle.service.enabled', 'true'), ('spark.resourceManager.cleanupExpiredHost', 'true'), ('spark.executor.extraClassPath', '/usr/lib/hadoop-lzo/lib/*:/usr/lib/hadoop/hadoop-aws.jar:/usr/share/aws/aws-java-sdk/*:/usr/share/aws/emr/emrfs/conf:/usr/share/aws/emr/emrfs/lib/*:/usr/share/aws/emr/emrfs/auxlib/*:/usr/share/aws/emr/goodies/lib/emr-spark-goodies.jar:/usr/share/aws/emr/security/conf:/usr/share/aws/emr/security/lib/*:/usr/share/aws/hmclient/lib/aws-glue-datacatalog-spark-client.jar:/usr/share/java/Hive-JSON-Serde/hive-openx-serde.jar:/usr/share/aws/sagemaker-spark-sdk/lib/sagemaker-spark-sdk.jar:/usr/share/aws/emr/s3select/lib/emr-s3-select-spark-connector.jar'), ('spark.yarn.dist.files', 'file:/etc/spark/conf/hive-site.xml'), ('spark.executor.cores', '2'), ('spark.files.fetchFailure.unRegisterOutputOnHost', 'true'), ('spark.org.apache.hadoop.yarn.server.webproxy.amfilter.AmIpFilter.param.PROXY_URI_BASES', 'http://ip-172-31-24-149.eu-central-1.compute.internal:20888/proxy/application_1597494953864_0001'), ('spark.master', 'yarn'), ('spark.driver.host', 'ip-172-31-24-149.eu-central-1.compute.internal'), ('spark.org.apache.hadoop.yarn.server.webproxy.amfilter.AmIpFilter.param.PROXY_HOSTS', 'ip-172-31-24-149.eu-central-1.compute.internal'), ('spark.submit.pyFiles', '/usr/lib/spark/python/lib/pyspark.zip,/usr/lib/spark/python/lib/py4j-0.10.7-src.zip'), ('spark.yarn.isPython', 'true'), ('spark.dynamicAllocation.enabled', 'true'), ('spark.blacklist.decommissioning.enabled', 'true')]"
     ]
    }
   ],
   "source": [
    "# session overview\n",
    "spark.sparkContext.getConf().getAll()"
   ]
  },
  {
   "cell_type": "code",
   "execution_count": 9,
   "metadata": {},
   "outputs": [
    {
     "data": {
      "application/vnd.jupyter.widget-view+json": {
       "model_id": "",
       "version_major": 2,
       "version_minor": 0
      },
      "text/plain": [
       "VBox()"
      ]
     },
     "metadata": {},
     "output_type": "display_data"
    },
    {
     "data": {
      "application/vnd.jupyter.widget-view+json": {
       "model_id": "",
       "version_major": 2,
       "version_minor": 0
      },
      "text/plain": [
       "FloatProgress(value=0.0, bar_style='info', description='Progress:', layout=Layout(height='25px', width='50%'),…"
      ]
     },
     "metadata": {},
     "output_type": "display_data"
    },
    {
     "name": "stdout",
     "output_type": "stream",
     "text": [
      "<pyspark.sql.session.SparkSession object at 0x7f2739132e80>"
     ]
    }
   ],
   "source": [
    "spark"
   ]
  },
  {
   "cell_type": "markdown",
   "metadata": {},
   "source": [
    "## Load and Clean Dataset\n",
    "Load and clean the dataset, checking for invalid or missing data - for example, records without userids or sessionids."
   ]
  },
  {
   "cell_type": "code",
   "execution_count": 70,
   "metadata": {},
   "outputs": [
    {
     "data": {
      "application/vnd.jupyter.widget-view+json": {
       "model_id": "8c3c95764ce64e47b4b180cef9163d4f",
       "version_major": 2,
       "version_minor": 0
      },
      "text/plain": [
       "VBox()"
      ]
     },
     "metadata": {},
     "output_type": "display_data"
    },
    {
     "data": {
      "application/vnd.jupyter.widget-view+json": {
       "model_id": "",
       "version_major": 2,
       "version_minor": 0
      },
      "text/plain": [
       "FloatProgress(value=0.0, bar_style='info', description='Progress:', layout=Layout(height='25px', width='50%'),…"
      ]
     },
     "metadata": {},
     "output_type": "display_data"
    },
    {
     "name": "stdout",
     "output_type": "stream",
     "text": [
      "Row(artist='Popol Vuh', auth='Logged In', firstName='Shlok', gender='M', itemInSession=278, lastName='Johnson', length=524.32934, level='paid', location='Dallas-Fort Worth-Arlington, TX', method='PUT', page='NextSong', registration=1533734541000, sessionId=22683, song='Ich mache einen Spiegel - Dream Part 4', status=200, ts=1538352001000, userAgent='\"Mozilla/5.0 (Windows NT 6.1; WOW64) AppleWebKit/537.36 (KHTML, like Gecko) Chrome/36.0.1985.143 Safari/537.36\"', userId='1749042')"
     ]
    }
   ],
   "source": [
    "# Read in full sparkify dataset\n",
    "user_log = \"s3n://udacity-dsnd/sparkify/sparkify_event_data.json\"\n",
    "#user_log = \"s3://aws-emr-resources-057584263306-eu-central-1/notebooks/e-1DYCDZU9IGL1MSTRN75J0HLSI/mini_sparkify_event_data.json\"\n",
    "df = spark.read.json(user_log)\n",
    "df.head()"
   ]
  },
  {
   "cell_type": "code",
   "execution_count": 71,
   "metadata": {},
   "outputs": [
    {
     "data": {
      "application/vnd.jupyter.widget-view+json": {
       "model_id": "e51764ded7ee4d448427e7930bbd9cad",
       "version_major": 2,
       "version_minor": 0
      },
      "text/plain": [
       "VBox()"
      ]
     },
     "metadata": {},
     "output_type": "display_data"
    },
    {
     "data": {
      "application/vnd.jupyter.widget-view+json": {
       "model_id": "",
       "version_major": 2,
       "version_minor": 0
      },
      "text/plain": [
       "FloatProgress(value=0.0, bar_style='info', description='Progress:', layout=Layout(height='25px', width='50%'),…"
      ]
     },
     "metadata": {},
     "output_type": "display_data"
    },
    {
     "name": "stdout",
     "output_type": "stream",
     "text": [
      "root\n",
      " |-- artist: string (nullable = true)\n",
      " |-- auth: string (nullable = true)\n",
      " |-- firstName: string (nullable = true)\n",
      " |-- gender: string (nullable = true)\n",
      " |-- itemInSession: long (nullable = true)\n",
      " |-- lastName: string (nullable = true)\n",
      " |-- length: double (nullable = true)\n",
      " |-- level: string (nullable = true)\n",
      " |-- location: string (nullable = true)\n",
      " |-- method: string (nullable = true)\n",
      " |-- page: string (nullable = true)\n",
      " |-- registration: long (nullable = true)\n",
      " |-- sessionId: long (nullable = true)\n",
      " |-- song: string (nullable = true)\n",
      " |-- status: long (nullable = true)\n",
      " |-- ts: long (nullable = true)\n",
      " |-- userAgent: string (nullable = true)\n",
      " |-- userId: string (nullable = true)"
     ]
    }
   ],
   "source": [
    "# check columns\n",
    "df.printSchema()"
   ]
  },
  {
   "cell_type": "code",
   "execution_count": 72,
   "metadata": {},
   "outputs": [
    {
     "data": {
      "application/vnd.jupyter.widget-view+json": {
       "model_id": "72e616f3f3734a1f8e9828579cea6ab4",
       "version_major": 2,
       "version_minor": 0
      },
      "text/plain": [
       "VBox()"
      ]
     },
     "metadata": {},
     "output_type": "display_data"
    },
    {
     "data": {
      "application/vnd.jupyter.widget-view+json": {
       "model_id": "",
       "version_major": 2,
       "version_minor": 0
      },
      "text/plain": [
       "FloatProgress(value=0.0, bar_style='info', description='Progress:', layout=Layout(height='25px', width='50%'),…"
      ]
     },
     "metadata": {},
     "output_type": "display_data"
    },
    {
     "name": "stdout",
     "output_type": "stream",
     "text": [
      "+--------------------+---------+---------+------+-------------+--------+----------+-----+--------------------+------+--------+-------------+---------+--------------------+------+-------------+--------------------+-------+\n",
      "|              artist|     auth|firstName|gender|itemInSession|lastName|    length|level|            location|method|    page| registration|sessionId|                song|status|           ts|           userAgent| userId|\n",
      "+--------------------+---------+---------+------+-------------+--------+----------+-----+--------------------+------+--------+-------------+---------+--------------------+------+-------------+--------------------+-------+\n",
      "|           Popol Vuh|Logged In|    Shlok|     M|          278| Johnson| 524.32934| paid|Dallas-Fort Worth...|   PUT|NextSong|1533734541000|    22683|Ich mache einen S...|   200|1538352001000|\"Mozilla/5.0 (Win...|1749042|\n",
      "|         Los Bunkers|Logged In|  Vianney|     F|            9|  Miller| 238.39302| paid|San Francisco-Oak...|   PUT|NextSong|1537500318000|    20836|         MiÃÂ©ntele|   200|1538352002000|\"Mozilla/5.0 (Mac...|1563081|\n",
      "|                Lush|Logged In|     Vina|     F|          109|  Bailey| 140.35546| paid|            Hilo, HI|   PUT|NextSong|1536414505000|     4593|           Baby Talk|   200|1538352002000|Mozilla/5.0 (Maci...|1697168|\n",
      "|Barry Tuckwell/Ac...|Logged In|   Andres|     M|           71|   Foley| 277.15873| paid|       Watertown, SD|   PUT|NextSong|1534386660000|     6370|Horn Concerto No....|   200|1538352003000|\"Mozilla/5.0 (Mac...|1222580|\n",
      "|                 Yes|Logged In|  Aaliyah|     F|           21| Ramirez|1121.25342| paid|Baltimore-Columbi...|   PUT|NextSong|1537381415000|    22316|Close To The Edge...|   200|1538352003000|\"Mozilla/5.0 (Win...|1714398|\n",
      "+--------------------+---------+---------+------+-------------+--------+----------+-----+--------------------+------+--------+-------------+---------+--------------------+------+-------------+--------------------+-------+\n",
      "only showing top 5 rows"
     ]
    }
   ],
   "source": [
    "# show first 5 rows\n",
    "df.show(n=5)"
   ]
  },
  {
   "cell_type": "code",
   "execution_count": 73,
   "metadata": {},
   "outputs": [
    {
     "data": {
      "application/vnd.jupyter.widget-view+json": {
       "model_id": "33e014e49cdc426da217e6e75de2d46c",
       "version_major": 2,
       "version_minor": 0
      },
      "text/plain": [
       "VBox()"
      ]
     },
     "metadata": {},
     "output_type": "display_data"
    },
    {
     "data": {
      "application/vnd.jupyter.widget-view+json": {
       "model_id": "",
       "version_major": 2,
       "version_minor": 0
      },
      "text/plain": [
       "FloatProgress(value=0.0, bar_style='info', description='Progress:', layout=Layout(height='25px', width='50%'),…"
      ]
     },
     "metadata": {},
     "output_type": "display_data"
    },
    {
     "name": "stdout",
     "output_type": "stream",
     "text": [
      "26259199"
     ]
    }
   ],
   "source": [
    "# count rows\n",
    "df.count()"
   ]
  },
  {
   "cell_type": "code",
   "execution_count": 83,
   "metadata": {},
   "outputs": [
    {
     "data": {
      "application/vnd.jupyter.widget-view+json": {
       "model_id": "2a6f19a1264d4c3998249985c9a4a7c7",
       "version_major": 2,
       "version_minor": 0
      },
      "text/plain": [
       "VBox()"
      ]
     },
     "metadata": {},
     "output_type": "display_data"
    },
    {
     "data": {
      "application/vnd.jupyter.widget-view+json": {
       "model_id": "",
       "version_major": 2,
       "version_minor": 0
      },
      "text/plain": [
       "FloatProgress(value=0.0, bar_style='info', description='Progress:', layout=Layout(height='25px', width='50%'),…"
      ]
     },
     "metadata": {},
     "output_type": "display_data"
    },
    {
     "name": "stdout",
     "output_type": "stream",
     "text": [
      "+-------+----+---------+------+-------------+--------+-------+-----+--------+------+----+------------+---------+-------+------+---+---------+------+\n",
      "| artist|auth|firstName|gender|itemInSession|lastName| length|level|location|method|page|registration|sessionId|   song|status| ts|userAgent|userId|\n",
      "+-------+----+---------+------+-------------+--------+-------+-----+--------+------+----+------------+---------+-------+------+---+---------+------+\n",
      "|5408927|   0|   778479|778479|            0|  778479|5408927|    0|  778479|     0|   0|      778479|        0|5408927|     0|  0|   778479|     0|\n",
      "+-------+----+---------+------+-------------+--------+-------+-----+--------+------+----+------------+---------+-------+------+---+---------+------+"
     ]
    }
   ],
   "source": [
    "### Get count of both null and missing values in pyspark\n",
    "df.select([count(when(isnan(c) | col(c).isNull(), c)).alias(c) for c in df.columns]).show()"
   ]
  },
  {
   "cell_type": "code",
   "execution_count": 84,
   "metadata": {},
   "outputs": [
    {
     "data": {
      "application/vnd.jupyter.widget-view+json": {
       "model_id": "89b441b1a348466e95dec7d669bc2092",
       "version_major": 2,
       "version_minor": 0
      },
      "text/plain": [
       "VBox()"
      ]
     },
     "metadata": {},
     "output_type": "display_data"
    },
    {
     "data": {
      "application/vnd.jupyter.widget-view+json": {
       "model_id": "",
       "version_major": 2,
       "version_minor": 0
      },
      "text/plain": [
       "FloatProgress(value=0.0, bar_style='info', description='Progress:', layout=Layout(height='25px', width='50%'),…"
      ]
     },
     "metadata": {},
     "output_type": "display_data"
    },
    {
     "name": "stdout",
     "output_type": "stream",
     "text": [
      "+-------+\n",
      "| userId|\n",
      "+-------+\n",
      "|1261737|\n",
      "+-------+"
     ]
    }
   ],
   "source": [
    "# check \"userId\" with missing \"firstName\"\n",
    "df.select(['userId']).where(df.firstName.isNull()).dropDuplicates().show()"
   ]
  },
  {
   "cell_type": "code",
   "execution_count": 85,
   "metadata": {},
   "outputs": [
    {
     "data": {
      "application/vnd.jupyter.widget-view+json": {
       "model_id": "705d7a76c6e44a589bc20c916c20a984",
       "version_major": 2,
       "version_minor": 0
      },
      "text/plain": [
       "VBox()"
      ]
     },
     "metadata": {},
     "output_type": "display_data"
    },
    {
     "data": {
      "application/vnd.jupyter.widget-view+json": {
       "model_id": "",
       "version_major": 2,
       "version_minor": 0
      },
      "text/plain": [
       "FloatProgress(value=0.0, bar_style='info', description='Progress:', layout=Layout(height='25px', width='50%'),…"
      ]
     },
     "metadata": {},
     "output_type": "display_data"
    },
    {
     "name": "stdout",
     "output_type": "stream",
     "text": [
      "+------+----------+---------+------+-------------+--------+------+-----+--------+------+-----+------------+---------+----+------+-------------+---------+-------+\n",
      "|artist|      auth|firstName|gender|itemInSession|lastName|length|level|location|method| page|registration|sessionId|song|status|           ts|userAgent| userId|\n",
      "+------+----------+---------+------+-------------+--------+------+-----+--------+------+-----+------------+---------+----+------+-------------+---------+-------+\n",
      "|  null|Logged Out|     null|  null|           87|    null|  null| paid|    null|   GET| Home|        null|     8615|null|   200|1538352008000|     null|1261737|\n",
      "|  null|Logged Out|     null|  null|            0|    null|  null| free|    null|   PUT|Login|        null|     7433|null|   307|1538352041000|     null|1261737|\n",
      "|  null|Logged Out|     null|  null|            4|    null|  null| free|    null|   GET| Home|        null|    25003|null|   200|1538352182000|     null|1261737|\n",
      "|  null|Logged Out|     null|  null|            2|    null|  null| free|    null|   GET| Home|        null|     9930|null|   200|1538352254000|     null|1261737|\n",
      "|  null|Logged Out|     null|  null|            3|    null|  null| free|    null|   PUT|Login|        null|     9930|null|   307|1538352255000|     null|1261737|\n",
      "|  null|Logged Out|     null|  null|            0|    null|  null| free|    null|   PUT|Login|        null|    23471|null|   307|1538352259000|     null|1261737|\n",
      "|  null|Logged Out|     null|  null|           44|    null|  null| free|    null|   GET| Home|        null|     6317|null|   200|1538352278000|     null|1261737|\n",
      "|  null|Logged Out|     null|  null|           43|    null|  null| free|    null|   GET| Home|        null|    22951|null|   200|1538352361000|     null|1261737|\n",
      "|  null|Logged Out|     null|  null|           44|    null|  null| free|    null|   GET| Home|        null|    22951|null|   200|1538352365000|     null|1261737|\n",
      "|  null|Logged Out|     null|  null|           95|    null|  null| paid|    null|   GET| Home|        null|     6071|null|   200|1538352404000|     null|1261737|\n",
      "|  null|Logged Out|     null|  null|           96|    null|  null| paid|    null|   PUT|Login|        null|     6071|null|   307|1538352405000|     null|1261737|\n",
      "|  null|Logged Out|     null|  null|          137|    null|  null| paid|    null|   GET| Home|        null|     9422|null|   200|1538352461000|     null|1261737|\n",
      "|  null|Logged Out|     null|  null|           68|    null|  null| paid|    null|   GET| Home|        null|    21447|null|   200|1538352464000|     null|1261737|\n",
      "|  null|Logged Out|     null|  null|           69|    null|  null| paid|    null|   PUT|Login|        null|    21447|null|   307|1538352465000|     null|1261737|\n",
      "|  null|Logged Out|     null|  null|          138|    null|  null| paid|    null|   GET| Home|        null|     9422|null|   200|1538352481000|     null|1261737|\n",
      "|  null|Logged Out|     null|  null|          139|    null|  null| paid|    null|   PUT|Login|        null|     9422|null|   307|1538352482000|     null|1261737|\n",
      "|  null|Logged Out|     null|  null|          279|    null|  null| paid|    null|   GET| Home|        null|     9659|null|   200|1538352501000|     null|1261737|\n",
      "|  null|Logged Out|     null|  null|           29|    null|  null| free|    null|   GET| Home|        null|    10467|null|   200|1538352507000|     null|1261737|\n",
      "|  null|Logged Out|     null|  null|          150|    null|  null| paid|    null|   GET| Home|        null|    13098|null|   200|1538352520000|     null|1261737|\n",
      "|  null|Logged Out|     null|  null|          280|    null|  null| paid|    null|   GET| Home|        null|     9659|null|   200|1538352542000|     null|1261737|\n",
      "+------+----------+---------+------+-------------+--------+------+-----+--------+------+-----+------------+---------+----+------+-------------+---------+-------+\n",
      "only showing top 20 rows"
     ]
    }
   ],
   "source": [
    "# show rows with userId as 1261737\n",
    "df.where(df.userId == \"1261737\").show()"
   ]
  },
  {
   "cell_type": "code",
   "execution_count": 86,
   "metadata": {},
   "outputs": [
    {
     "data": {
      "application/vnd.jupyter.widget-view+json": {
       "model_id": "f1ace020239f4f94852a07119752c4e7",
       "version_major": 2,
       "version_minor": 0
      },
      "text/plain": [
       "VBox()"
      ]
     },
     "metadata": {},
     "output_type": "display_data"
    },
    {
     "data": {
      "application/vnd.jupyter.widget-view+json": {
       "model_id": "",
       "version_major": 2,
       "version_minor": 0
      },
      "text/plain": [
       "FloatProgress(value=0.0, bar_style='info', description='Progress:', layout=Layout(height='25px', width='50%'),…"
      ]
     },
     "metadata": {},
     "output_type": "display_data"
    },
    {
     "name": "stdout",
     "output_type": "stream",
     "text": [
      "778479"
     ]
    }
   ],
   "source": [
    "# count rows with \"userId\" as 1261737\n",
    "df.where(df.userId == \"1261737\").count()"
   ]
  },
  {
   "cell_type": "code",
   "execution_count": 74,
   "metadata": {},
   "outputs": [
    {
     "data": {
      "application/vnd.jupyter.widget-view+json": {
       "model_id": "55d996b168984f718ba01b5f42179232",
       "version_major": 2,
       "version_minor": 0
      },
      "text/plain": [
       "VBox()"
      ]
     },
     "metadata": {},
     "output_type": "display_data"
    },
    {
     "data": {
      "application/vnd.jupyter.widget-view+json": {
       "model_id": "",
       "version_major": 2,
       "version_minor": 0
      },
      "text/plain": [
       "FloatProgress(value=0.0, bar_style='info', description='Progress:', layout=Layout(height='25px', width='50%'),…"
      ]
     },
     "metadata": {},
     "output_type": "display_data"
    },
    {
     "name": "stdout",
     "output_type": "stream",
     "text": [
      "25480720"
     ]
    }
   ],
   "source": [
    "# delete rows with \"userId\" as 1261737\n",
    "df_clean = df.filter(df.userId != \"1261737\")\n",
    "df_clean.count()"
   ]
  },
  {
   "cell_type": "code",
   "execution_count": 75,
   "metadata": {},
   "outputs": [
    {
     "data": {
      "application/vnd.jupyter.widget-view+json": {
       "model_id": "742ebc945da64545ac93beaf80aa46c1",
       "version_major": 2,
       "version_minor": 0
      },
      "text/plain": [
       "VBox()"
      ]
     },
     "metadata": {},
     "output_type": "display_data"
    },
    {
     "data": {
      "application/vnd.jupyter.widget-view+json": {
       "model_id": "",
       "version_major": 2,
       "version_minor": 0
      },
      "text/plain": [
       "FloatProgress(value=0.0, bar_style='info', description='Progress:', layout=Layout(height='25px', width='50%'),…"
      ]
     },
     "metadata": {},
     "output_type": "display_data"
    },
    {
     "name": "stdout",
     "output_type": "stream",
     "text": [
      "22277"
     ]
    }
   ],
   "source": [
    "# check unique userId \n",
    "df_clean.select('userId').dropDuplicates().count()"
   ]
  },
  {
   "cell_type": "code",
   "execution_count": 89,
   "metadata": {},
   "outputs": [
    {
     "data": {
      "application/vnd.jupyter.widget-view+json": {
       "model_id": "4126d35c6c6c4bd28ad452b64b4a7039",
       "version_major": 2,
       "version_minor": 0
      },
      "text/plain": [
       "VBox()"
      ]
     },
     "metadata": {},
     "output_type": "display_data"
    },
    {
     "data": {
      "application/vnd.jupyter.widget-view+json": {
       "model_id": "",
       "version_major": 2,
       "version_minor": 0
      },
      "text/plain": [
       "FloatProgress(value=0.0, bar_style='info', description='Progress:', layout=Layout(height='25px', width='50%'),…"
      ]
     },
     "metadata": {},
     "output_type": "display_data"
    },
    {
     "name": "stdout",
     "output_type": "stream",
     "text": [
      "+-------+\n",
      "| userId|\n",
      "+-------+\n",
      "|1000025|\n",
      "|1000035|\n",
      "|1000083|\n",
      "|1000103|\n",
      "|1000164|\n",
      "+-------+\n",
      "only showing top 5 rows"
     ]
    }
   ],
   "source": [
    "# show unique IDs\n",
    "df_clean.select(\"userId\").dropDuplicates().sort(\"userId\").show(5) "
   ]
  },
  {
   "cell_type": "code",
   "execution_count": 90,
   "metadata": {},
   "outputs": [
    {
     "data": {
      "application/vnd.jupyter.widget-view+json": {
       "model_id": "aa0f5fd95755487f98dcba13ba3e938a",
       "version_major": 2,
       "version_minor": 0
      },
      "text/plain": [
       "VBox()"
      ]
     },
     "metadata": {},
     "output_type": "display_data"
    },
    {
     "data": {
      "application/vnd.jupyter.widget-view+json": {
       "model_id": "",
       "version_major": 2,
       "version_minor": 0
      },
      "text/plain": [
       "FloatProgress(value=0.0, bar_style='info', description='Progress:', layout=Layout(height='25px', width='50%'),…"
      ]
     },
     "metadata": {},
     "output_type": "display_data"
    },
    {
     "name": "stdout",
     "output_type": "stream",
     "text": [
      "+------+---------+---------+------+-------------+--------+------+-----+--------------------+------+---------+-------------+---------+----+------+-------------+--------------------+-------+\n",
      "|artist|     auth|firstName|gender|itemInSession|lastName|length|level|            location|method|     page| registration|sessionId|song|status|           ts|           userAgent| userId|\n",
      "+------+---------+---------+------+-------------+--------+------+-----+--------------------+------+---------+-------------+---------+----+------+-------------+--------------------+-------+\n",
      "|  null|Logged In|  Valarie|     F|          206|   Moore|  null| paid|Los Angeles-Long ...|   GET|     Home|1537790336000|     2948|null|   200|1538352008000|\"Mozilla/5.0 (Win...|1009070|\n",
      "|  null|Logged In|   Sophia|     F|            9|  Dalton|  null| free|         El Paso, TX|   PUT|Thumbs Up|1536693084000|      655|null|   307|1538352011000|\"Mozilla/5.0 (Mac...|1526624|\n",
      "|  null|Logged In|  Anthony|     M|           12|    Diaz|  null| paid|New York-Newark-J...|   GET|    Error|1538045178000|    11807|null|   404|1538352013000|\"Mozilla/5.0 (Mac...|1507202|\n",
      "|  null|Logged In|  Cameron|     F|           69|   Davis|  null| free|   Memphis, TN-MS-AR|   GET|     Help|1536089370000|    11234|null|   200|1538352016000|\"Mozilla/5.0 (Win...|1852704|\n",
      "|  null|Logged In|   Andres|     M|          189|  Robles|  null| paid|           Ocala, FL|   PUT|Thumbs Up|1538099365000|      646|null|   307|1538352016000|\"Mozilla/5.0 (Mac...|1915980|\n",
      "+------+---------+---------+------+-------------+--------+------+-----+--------------------+------+---------+-------------+---------+----+------+-------------+--------------------+-------+\n",
      "only showing top 5 rows"
     ]
    }
   ],
   "source": [
    "# check rows with missing value in \"artist\" \n",
    "df_clean.where(df_clean.artist.isNull()).show(5)"
   ]
  },
  {
   "cell_type": "code",
   "execution_count": 91,
   "metadata": {},
   "outputs": [
    {
     "data": {
      "application/vnd.jupyter.widget-view+json": {
       "model_id": "9c41efe9293a4a1cb95823a3d80c1ddf",
       "version_major": 2,
       "version_minor": 0
      },
      "text/plain": [
       "VBox()"
      ]
     },
     "metadata": {},
     "output_type": "display_data"
    },
    {
     "data": {
      "application/vnd.jupyter.widget-view+json": {
       "model_id": "",
       "version_major": 2,
       "version_minor": 0
      },
      "text/plain": [
       "FloatProgress(value=0.0, bar_style='info', description='Progress:', layout=Layout(height='25px', width='50%'),…"
      ]
     },
     "metadata": {},
     "output_type": "display_data"
    },
    {
     "name": "stdout",
     "output_type": "stream",
     "text": [
      "+--------------------+-------+---------+--------+-----+--------------------+\n",
      "|              artist| userId|firstname|    page|level|                song|\n",
      "+--------------------+-------+---------+--------+-----+--------------------+\n",
      "|                null|1009070|  Valarie|    Home| paid|                null|\n",
      "|     Dilated Peoples|1009070|  Valarie|NextSong| paid|          Guaranteed|\n",
      "|Michel Camilo / T...|1009070|  Valarie|NextSong| paid|     BÃÂ©same Mucho|\n",
      "|       Elliott Smith|1009070|  Valarie|NextSong| paid|           2:45 a.m.|\n",
      "|            Paramore|1009070|  Valarie|NextSong| paid|The Only Exceptio...|\n",
      "|          Stray Cats|1009070|  Valarie|NextSong| paid|      Rock This Town|\n",
      "|                Muse|1009070|  Valarie|NextSong| paid|          Invincible|\n",
      "|           The Germs|1009070|  Valarie|NextSong| paid|       Lexicon Devil|\n",
      "|        Paolo Nutini|1009070|  Valarie|NextSong| paid|Loving You [Album...|\n",
      "|       Jorge Drexler|1009070|  Valarie|NextSong| paid|          Transporte|\n",
      "|        Simon Harris|1009070|  Valarie|NextSong| paid|      Sample Track 2|\n",
      "|         OneRepublic|1009070|  Valarie|NextSong| paid|             Secrets|\n",
      "|     Octopus Project|1009070|  Valarie|NextSong| paid|         Hypnopaedia|\n",
      "|      Regina Spektor|1009070|  Valarie|NextSong| paid|Hotel Song (Album...|\n",
      "|                Bond|1009070|  Valarie|NextSong| paid|           Explosive|\n",
      "|    Michael BublÃÂ©|1009070|  Valarie|NextSong| paid|For Once In My Li...|\n",
      "|         Blind Melon|1009070|  Valarie|NextSong| paid|No Rain (Ripped A...|\n",
      "|  The Pussycat Dolls|1009070|  Valarie|NextSong| paid|            Elevator|\n",
      "|         Extremoduro|1009070|  Valarie|NextSong| paid|     Sol de invierno|\n",
      "|      Twisted Method|1009070|  Valarie|NextSong| paid|           Change Me|\n",
      "+--------------------+-------+---------+--------+-----+--------------------+\n",
      "only showing top 20 rows"
     ]
    }
   ],
   "source": [
    "# list activities of a user who has a missing value in the artist column 1009070\n",
    "df_clean.select([\"artist\",\"userId\", \"firstname\", \"page\", \"level\", \"song\"]).where(df_clean.userId == \"1009070\").show()"
   ]
  },
  {
   "cell_type": "code",
   "execution_count": 92,
   "metadata": {},
   "outputs": [
    {
     "data": {
      "application/vnd.jupyter.widget-view+json": {
       "model_id": "cb6927894d394e03afeddee0e2989a38",
       "version_major": 2,
       "version_minor": 0
      },
      "text/plain": [
       "VBox()"
      ]
     },
     "metadata": {},
     "output_type": "display_data"
    },
    {
     "data": {
      "application/vnd.jupyter.widget-view+json": {
       "model_id": "",
       "version_major": 2,
       "version_minor": 0
      },
      "text/plain": [
       "FloatProgress(value=0.0, bar_style='info', description='Progress:', layout=Layout(height='25px', width='50%'),…"
      ]
     },
     "metadata": {},
     "output_type": "display_data"
    },
    {
     "name": "stdout",
     "output_type": "stream",
     "text": [
      "+--------------------+-------+\n",
      "|                page|  count|\n",
      "+--------------------+-------+\n",
      "|           Downgrade| 184240|\n",
      "|       Save Settings|  29516|\n",
      "|               Error|  25048|\n",
      "|     Add to Playlist| 597921|\n",
      "|                Help| 129448|\n",
      "|      Submit Upgrade|  15135|\n",
      "|              Cancel|   5003|\n",
      "|    Submit Downgrade|   6494|\n",
      "|         Thumbs Down| 239212|\n",
      "|                Home| 933124|\n",
      "|         Roll Advert| 385212|\n",
      "|               About|  48377|\n",
      "|             Upgrade|  50507|\n",
      "|Cancellation Conf...|   5003|\n",
      "|           Thumbs Up|1151465|\n",
      "|              Logout| 296005|\n",
      "|            Settings| 147074|\n",
      "|          Add Friend| 381664|\n",
      "+--------------------+-------+"
     ]
    }
   ],
   "source": [
    "#check page related to \"null\" artist\n",
    "df_clean.select('page').where(df_clean.artist.isNull()).groupBy('page').count().show()\n",
    "# there is no \"next song\" page in the listed page categories, artist name is \"null\" for all the other pages, except \"next song\" page"
   ]
  },
  {
   "cell_type": "code",
   "execution_count": 93,
   "metadata": {},
   "outputs": [
    {
     "data": {
      "application/vnd.jupyter.widget-view+json": {
       "model_id": "a3c241ab4afc421abaf412493e03ba46",
       "version_major": 2,
       "version_minor": 0
      },
      "text/plain": [
       "VBox()"
      ]
     },
     "metadata": {},
     "output_type": "display_data"
    },
    {
     "data": {
      "application/vnd.jupyter.widget-view+json": {
       "model_id": "",
       "version_major": 2,
       "version_minor": 0
      },
      "text/plain": [
       "FloatProgress(value=0.0, bar_style='info', description='Progress:', layout=Layout(height='25px', width='50%'),…"
      ]
     },
     "metadata": {},
     "output_type": "display_data"
    },
    {
     "name": "stdout",
     "output_type": "stream",
     "text": [
      "+------------+\n",
      "|      artist|\n",
      "+------------+\n",
      "|        null|\n",
      "|         !!!|\n",
      "|    !Deladap|\n",
      "|& And Oceans|\n",
      "|'68 Comeback|\n",
      "+------------+\n",
      "only showing top 5 rows"
     ]
    }
   ],
   "source": [
    "# check artist column\n",
    "df_clean.select(\"artist\").dropDuplicates().sort(\"artist\").show(5) "
   ]
  },
  {
   "cell_type": "code",
   "execution_count": 46,
   "metadata": {},
   "outputs": [
    {
     "data": {
      "application/vnd.jupyter.widget-view+json": {
       "model_id": "7c41b6a127df408faa0bd7988054128b",
       "version_major": 2,
       "version_minor": 0
      },
      "text/plain": [
       "VBox()"
      ]
     },
     "metadata": {},
     "output_type": "display_data"
    },
    {
     "data": {
      "application/vnd.jupyter.widget-view+json": {
       "model_id": "",
       "version_major": 2,
       "version_minor": 0
      },
      "text/plain": [
       "FloatProgress(value=0.0, bar_style='info', description='Progress:', layout=Layout(height='25px', width='50%'),…"
      ]
     },
     "metadata": {},
     "output_type": "display_data"
    }
   ],
   "source": [
    "# drop all missing values\n",
    "#df_no_null = df_clean.dropna(how = \"any\")\n",
    "#df_no_null.count() "
   ]
  },
  {
   "cell_type": "code",
   "execution_count": 47,
   "metadata": {},
   "outputs": [
    {
     "data": {
      "application/vnd.jupyter.widget-view+json": {
       "model_id": "ec59b55e426e46b8926ab81876eb233e",
       "version_major": 2,
       "version_minor": 0
      },
      "text/plain": [
       "VBox()"
      ]
     },
     "metadata": {},
     "output_type": "display_data"
    },
    {
     "data": {
      "application/vnd.jupyter.widget-view+json": {
       "model_id": "",
       "version_major": 2,
       "version_minor": 0
      },
      "text/plain": [
       "FloatProgress(value=0.0, bar_style='info', description='Progress:', layout=Layout(height='25px', width='50%'),…"
      ]
     },
     "metadata": {},
     "output_type": "display_data"
    }
   ],
   "source": [
    "# check unique userId \n",
    "#df_no_null.select('userId').dropDuplicates().count()"
   ]
  },
  {
   "cell_type": "code",
   "execution_count": 48,
   "metadata": {},
   "outputs": [
    {
     "data": {
      "application/vnd.jupyter.widget-view+json": {
       "model_id": "bc1d1a15c139444d80c93f9f5c9680f7",
       "version_major": 2,
       "version_minor": 0
      },
      "text/plain": [
       "VBox()"
      ]
     },
     "metadata": {},
     "output_type": "display_data"
    },
    {
     "data": {
      "application/vnd.jupyter.widget-view+json": {
       "model_id": "",
       "version_major": 2,
       "version_minor": 0
      },
      "text/plain": [
       "FloatProgress(value=0.0, bar_style='info', description='Progress:', layout=Layout(height='25px', width='50%'),…"
      ]
     },
     "metadata": {},
     "output_type": "display_data"
    },
    {
     "name": "stdout",
     "output_type": "stream",
     "text": [
      "+---------+\n",
      "|     auth|\n",
      "+---------+\n",
      "|Cancelled|\n",
      "|Logged In|\n",
      "+---------+\n",
      "\n",
      "+------+\n",
      "|gender|\n",
      "+------+\n",
      "|     M|\n",
      "|     F|\n",
      "+------+\n",
      "\n",
      "+-----+\n",
      "|level|\n",
      "+-----+\n",
      "| free|\n",
      "| paid|\n",
      "+-----+\n",
      "\n",
      "+------+\n",
      "|method|\n",
      "+------+\n",
      "|   GET|\n",
      "|   PUT|\n",
      "+------+\n",
      "\n",
      "+--------------------+\n",
      "|                page|\n",
      "+--------------------+\n",
      "|           Downgrade|\n",
      "|       Save Settings|\n",
      "|               Error|\n",
      "|     Add to Playlist|\n",
      "|                Help|\n",
      "|      Submit Upgrade|\n",
      "|              Cancel|\n",
      "|    Submit Downgrade|\n",
      "|         Thumbs Down|\n",
      "|                Home|\n",
      "|         Roll Advert|\n",
      "|               About|\n",
      "|             Upgrade|\n",
      "|Cancellation Conf...|\n",
      "|            NextSong|\n",
      "|           Thumbs Up|\n",
      "|              Logout|\n",
      "|            Settings|\n",
      "|          Add Friend|\n",
      "+--------------------+\n",
      "\n",
      "+---------+\n",
      "|sessionId|\n",
      "+---------+\n",
      "|      474|\n",
      "|      418|\n",
      "|       65|\n",
      "|      541|\n",
      "|      558|\n",
      "|      415|\n",
      "|      385|\n",
      "|      736|\n",
      "|      932|\n",
      "|      463|\n",
      "|      939|\n",
      "|      570|\n",
      "|      149|\n",
      "|      600|\n",
      "|      876|\n",
      "|      650|\n",
      "|      343|\n",
      "|      439|\n",
      "|      970|\n",
      "|      958|\n",
      "+---------+\n",
      "only showing top 20 rows\n",
      "\n",
      "+------+\n",
      "|status|\n",
      "+------+\n",
      "|   200|\n",
      "|   404|\n",
      "|   307|\n",
      "+------+\n",
      "\n",
      "+--------------------+\n",
      "|           userAgent|\n",
      "+--------------------+\n",
      "|Mozilla/5.0 (X11;...|\n",
      "|Mozilla/5.0 (Maci...|\n",
      "|\"Mozilla/5.0 (Mac...|\n",
      "|\"Mozilla/5.0 (Win...|\n",
      "|\"Mozilla/5.0 (Mac...|\n",
      "|\"Mozilla/5.0 (iPa...|\n",
      "|\"Mozilla/5.0 (Mac...|\n",
      "|\"Mozilla/5.0 (Win...|\n",
      "|\"Mozilla/5.0 (Mac...|\n",
      "|Mozilla/5.0 (Maci...|\n",
      "|\"Mozilla/5.0 (Mac...|\n",
      "|Mozilla/5.0 (comp...|\n",
      "|\"Mozilla/5.0 (Win...|\n",
      "|Mozilla/5.0 (Wind...|\n",
      "|Mozilla/5.0 (comp...|\n",
      "|\"Mozilla/5.0 (Mac...|\n",
      "|Mozilla/5.0 (Wind...|\n",
      "|\"Mozilla/5.0 (Mac...|\n",
      "|\"Mozilla/5.0 (Win...|\n",
      "|\"Mozilla/5.0 (Mac...|\n",
      "+--------------------+\n",
      "only showing top 20 rows\n",
      "\n",
      "+--------------------+\n",
      "|            location|\n",
      "+--------------------+\n",
      "|Atlantic City-Ham...|\n",
      "|San Diego-Carlsba...|\n",
      "|Seattle-Tacoma-Be...|\n",
      "|          Dayton, OH|\n",
      "|Birmingham-Hoover...|\n",
      "|           Price, UT|\n",
      "|Buffalo-Cheektowa...|\n",
      "|San Antonio-New B...|\n",
      "|       Duluth, MN-WI|\n",
      "|        Logan, UT-ID|\n",
      "|        Danville, VA|\n",
      "|Washington-Arling...|\n",
      "|Albany-Schenectad...|\n",
      "|Baltimore-Columbi...|\n",
      "|          Laurel, MS|\n",
      "|   Stockton-Lodi, CA|\n",
      "|      Morgantown, WV|\n",
      "|        Kankakee, IL|\n",
      "|           Flint, MI|\n",
      "|          Muncie, IN|\n",
      "+--------------------+\n",
      "only showing top 20 rows"
     ]
    }
   ],
   "source": [
    "# check tags in categorical columns\n",
    "for item in ['auth','gender','level','method','page','sessionId','status','userAgent','location']:\n",
    "    df_clean.select(item).dropDuplicates().show()"
   ]
  },
  {
   "cell_type": "code",
   "execution_count": 49,
   "metadata": {},
   "outputs": [
    {
     "data": {
      "application/vnd.jupyter.widget-view+json": {
       "model_id": "df0d68753b084d288d000eb743a18e49",
       "version_major": 2,
       "version_minor": 0
      },
      "text/plain": [
       "VBox()"
      ]
     },
     "metadata": {},
     "output_type": "display_data"
    },
    {
     "data": {
      "application/vnd.jupyter.widget-view+json": {
       "model_id": "",
       "version_major": 2,
       "version_minor": 0
      },
      "text/plain": [
       "FloatProgress(value=0.0, bar_style='info', description='Progress:', layout=Layout(height='25px', width='50%'),…"
      ]
     },
     "metadata": {},
     "output_type": "display_data"
    },
    {
     "name": "stdout",
     "output_type": "stream",
     "text": [
      "+--------------------+\n",
      "|            location|\n",
      "+--------------------+\n",
      "|Atlantic City-Ham...|\n",
      "|San Diego-Carlsba...|\n",
      "|Seattle-Tacoma-Be...|\n",
      "|          Dayton, OH|\n",
      "|Birmingham-Hoover...|\n",
      "+--------------------+\n",
      "only showing top 5 rows\n",
      "\n",
      "114"
     ]
    }
   ],
   "source": [
    "# check location column\n",
    "df_clean.select(\"location\").dropDuplicates().show(5) \n",
    "df_clean.select(\"location\").dropDuplicates().count()"
   ]
  },
  {
   "cell_type": "markdown",
   "metadata": {},
   "source": [
    "### Simplify \"location\""
   ]
  },
  {
   "cell_type": "code",
   "execution_count": 76,
   "metadata": {},
   "outputs": [
    {
     "data": {
      "application/vnd.jupyter.widget-view+json": {
       "model_id": "3c97ff41733046fc8696508682b2c90d",
       "version_major": 2,
       "version_minor": 0
      },
      "text/plain": [
       "VBox()"
      ]
     },
     "metadata": {},
     "output_type": "display_data"
    },
    {
     "data": {
      "application/vnd.jupyter.widget-view+json": {
       "model_id": "",
       "version_major": 2,
       "version_minor": 0
      },
      "text/plain": [
       "FloatProgress(value=0.0, bar_style='info', description='Progress:', layout=Layout(height='25px', width='50%'),…"
      ]
     },
     "metadata": {},
     "output_type": "display_data"
    }
   ],
   "source": [
    "# create column \"state\" with Abbreviation of US states extracted from \"location\" column\n",
    "df_clean = df_clean.withColumn('state', trim(split(col('location'),',').getItem(1)))"
   ]
  },
  {
   "cell_type": "code",
   "execution_count": 77,
   "metadata": {},
   "outputs": [
    {
     "data": {
      "application/vnd.jupyter.widget-view+json": {
       "model_id": "1ffaeeedf7b64ed98a21586a1d723245",
       "version_major": 2,
       "version_minor": 0
      },
      "text/plain": [
       "VBox()"
      ]
     },
     "metadata": {},
     "output_type": "display_data"
    },
    {
     "data": {
      "application/vnd.jupyter.widget-view+json": {
       "model_id": "",
       "version_major": 2,
       "version_minor": 0
      },
      "text/plain": [
       "FloatProgress(value=0.0, bar_style='info', description='Progress:', layout=Layout(height='25px', width='50%'),…"
      ]
     },
     "metadata": {},
     "output_type": "display_data"
    },
    {
     "name": "stdout",
     "output_type": "stream",
     "text": [
      "100"
     ]
    }
   ],
   "source": [
    "# check unique \"state\" \n",
    "df_clean.select('state').dropDuplicates().count()"
   ]
  },
  {
   "cell_type": "code",
   "execution_count": 78,
   "metadata": {},
   "outputs": [
    {
     "data": {
      "application/vnd.jupyter.widget-view+json": {
       "model_id": "f0a0812f1b014a559c1f0ca341272945",
       "version_major": 2,
       "version_minor": 0
      },
      "text/plain": [
       "VBox()"
      ]
     },
     "metadata": {},
     "output_type": "display_data"
    },
    {
     "data": {
      "application/vnd.jupyter.widget-view+json": {
       "model_id": "",
       "version_major": 2,
       "version_minor": 0
      },
      "text/plain": [
       "FloatProgress(value=0.0, bar_style='info', description='Progress:', layout=Layout(height='25px', width='50%'),…"
      ]
     },
     "metadata": {},
     "output_type": "display_data"
    }
   ],
   "source": [
    "# drop location column\n",
    "df_clean = df_clean.drop('location','firstName','lastName')"
   ]
  },
  {
   "cell_type": "markdown",
   "metadata": {},
   "source": [
    "### Create 'epoch time' from timestamp"
   ]
  },
  {
   "cell_type": "code",
   "execution_count": 79,
   "metadata": {},
   "outputs": [
    {
     "data": {
      "application/vnd.jupyter.widget-view+json": {
       "model_id": "52223be3980e4d24ba1eba705a2455a1",
       "version_major": 2,
       "version_minor": 0
      },
      "text/plain": [
       "VBox()"
      ]
     },
     "metadata": {},
     "output_type": "display_data"
    },
    {
     "data": {
      "application/vnd.jupyter.widget-view+json": {
       "model_id": "",
       "version_major": 2,
       "version_minor": 0
      },
      "text/plain": [
       "FloatProgress(value=0.0, bar_style='info', description='Progress:', layout=Layout(height='25px', width='50%'),…"
      ]
     },
     "metadata": {},
     "output_type": "display_data"
    },
    {
     "name": "stdout",
     "output_type": "stream",
     "text": [
      "+--------------------+---------+------+-------------+----------+-----+------+--------+-------------+---------+--------------------+------+-------------+--------------------+-------+-----+-------------------+----------+-----+\n",
      "|              artist|     auth|gender|itemInSession|    length|level|method|    page| registration|sessionId|                song|status|           ts|           userAgent| userId|state|         epoch_time|      date|month|\n",
      "+--------------------+---------+------+-------------+----------+-----+------+--------+-------------+---------+--------------------+------+-------------+--------------------+-------+-----+-------------------+----------+-----+\n",
      "|           Popol Vuh|Logged In|     M|          278| 524.32934| paid|   PUT|NextSong|1533734541000|    22683|Ich mache einen S...|   200|1538352001000|\"Mozilla/5.0 (Win...|1749042|   TX|2018-10-01 00:00:01|2018-10-01|   10|\n",
      "|         Los Bunkers|Logged In|     F|            9| 238.39302| paid|   PUT|NextSong|1537500318000|    20836|         MiÃÂ©ntele|   200|1538352002000|\"Mozilla/5.0 (Mac...|1563081|   CA|2018-10-01 00:00:02|2018-10-01|   10|\n",
      "|                Lush|Logged In|     F|          109| 140.35546| paid|   PUT|NextSong|1536414505000|     4593|           Baby Talk|   200|1538352002000|Mozilla/5.0 (Maci...|1697168|   HI|2018-10-01 00:00:02|2018-10-01|   10|\n",
      "|Barry Tuckwell/Ac...|Logged In|     M|           71| 277.15873| paid|   PUT|NextSong|1534386660000|     6370|Horn Concerto No....|   200|1538352003000|\"Mozilla/5.0 (Mac...|1222580|   SD|2018-10-01 00:00:03|2018-10-01|   10|\n",
      "|                 Yes|Logged In|     F|           21|1121.25342| paid|   PUT|NextSong|1537381415000|    22316|Close To The Edge...|   200|1538352003000|\"Mozilla/5.0 (Win...|1714398|   MD|2018-10-01 00:00:03|2018-10-01|   10|\n",
      "+--------------------+---------+------+-------------+----------+-----+------+--------+-------------+---------+--------------------+------+-------------+--------------------+-------+-----+-------------------+----------+-----+\n",
      "only showing top 5 rows"
     ]
    }
   ],
   "source": [
    "# convert ts to epoch time and create month, date, hour columns out of it\n",
    "df_clean = df_clean.withColumn('epoch_time', from_unixtime(col('ts').cast(LongType())/1000).cast(TimestampType()))\n",
    "df_clean = df_clean.withColumn('date', from_unixtime(col('ts')/1000).cast(DateType()))\n",
    "df_clean = df_clean.withColumn('month', month(col('epoch_time')))\n",
    "#df_clean = df_clean.withColumn('hour', hour(col('epoch_time')))  \n",
    "df_clean.show(5)"
   ]
  },
  {
   "cell_type": "markdown",
   "metadata": {},
   "source": [
    "### Simplify \"userAgent\""
   ]
  },
  {
   "cell_type": "code",
   "execution_count": 80,
   "metadata": {},
   "outputs": [
    {
     "data": {
      "application/vnd.jupyter.widget-view+json": {
       "model_id": "14fba5e51b27465c914db18d39991897",
       "version_major": 2,
       "version_minor": 0
      },
      "text/plain": [
       "VBox()"
      ]
     },
     "metadata": {},
     "output_type": "display_data"
    },
    {
     "data": {
      "application/vnd.jupyter.widget-view+json": {
       "model_id": "",
       "version_major": 2,
       "version_minor": 0
      },
      "text/plain": [
       "FloatProgress(value=0.0, bar_style='info', description='Progress:', layout=Layout(height='25px', width='50%'),…"
      ]
     },
     "metadata": {},
     "output_type": "display_data"
    }
   ],
   "source": [
    "agent = udf(lambda x: str(re.findall(r'\\((.*?)\\)', x)[0].split(\";\")[0].split()[0]) if x is not None else None, StringType())"
   ]
  },
  {
   "cell_type": "code",
   "execution_count": 81,
   "metadata": {},
   "outputs": [
    {
     "data": {
      "application/vnd.jupyter.widget-view+json": {
       "model_id": "57c7f8a51bca4c83ab0b845ee4034d36",
       "version_major": 2,
       "version_minor": 0
      },
      "text/plain": [
       "VBox()"
      ]
     },
     "metadata": {},
     "output_type": "display_data"
    },
    {
     "data": {
      "application/vnd.jupyter.widget-view+json": {
       "model_id": "",
       "version_major": 2,
       "version_minor": 0
      },
      "text/plain": [
       "FloatProgress(value=0.0, bar_style='info', description='Progress:', layout=Layout(height='25px', width='50%'),…"
      ]
     },
     "metadata": {},
     "output_type": "display_data"
    }
   ],
   "source": [
    "df_clean = df_clean.withColumn(\"agent\", agent(df_clean.userAgent))"
   ]
  },
  {
   "cell_type": "code",
   "execution_count": 82,
   "metadata": {},
   "outputs": [
    {
     "data": {
      "application/vnd.jupyter.widget-view+json": {
       "model_id": "886139d355aa402d9ab74ffee111bf93",
       "version_major": 2,
       "version_minor": 0
      },
      "text/plain": [
       "VBox()"
      ]
     },
     "metadata": {},
     "output_type": "display_data"
    },
    {
     "data": {
      "application/vnd.jupyter.widget-view+json": {
       "model_id": "",
       "version_major": 2,
       "version_minor": 0
      },
      "text/plain": [
       "FloatProgress(value=0.0, bar_style='info', description='Progress:', layout=Layout(height='25px', width='50%'),…"
      ]
     },
     "metadata": {},
     "output_type": "display_data"
    },
    {
     "name": "stdout",
     "output_type": "stream",
     "text": [
      "+--------------------+---------+------+-------------+----------+-----+------+--------+-------------+---------+--------------------+------+-------------+-------+-----+-------------------+----------+-----+---------+\n",
      "|              artist|     auth|gender|itemInSession|    length|level|method|    page| registration|sessionId|                song|status|           ts| userId|state|         epoch_time|      date|month|    agent|\n",
      "+--------------------+---------+------+-------------+----------+-----+------+--------+-------------+---------+--------------------+------+-------------+-------+-----+-------------------+----------+-----+---------+\n",
      "|           Popol Vuh|Logged In|     M|          278| 524.32934| paid|   PUT|NextSong|1533734541000|    22683|Ich mache einen S...|   200|1538352001000|1749042|   TX|2018-10-01 00:00:01|2018-10-01|   10|  Windows|\n",
      "|         Los Bunkers|Logged In|     F|            9| 238.39302| paid|   PUT|NextSong|1537500318000|    20836|         MiÃÂ©ntele|   200|1538352002000|1563081|   CA|2018-10-01 00:00:02|2018-10-01|   10|Macintosh|\n",
      "|                Lush|Logged In|     F|          109| 140.35546| paid|   PUT|NextSong|1536414505000|     4593|           Baby Talk|   200|1538352002000|1697168|   HI|2018-10-01 00:00:02|2018-10-01|   10|Macintosh|\n",
      "|Barry Tuckwell/Ac...|Logged In|     M|           71| 277.15873| paid|   PUT|NextSong|1534386660000|     6370|Horn Concerto No....|   200|1538352003000|1222580|   SD|2018-10-01 00:00:03|2018-10-01|   10|Macintosh|\n",
      "|                 Yes|Logged In|     F|           21|1121.25342| paid|   PUT|NextSong|1537381415000|    22316|Close To The Edge...|   200|1538352003000|1714398|   MD|2018-10-01 00:00:03|2018-10-01|   10|  Windows|\n",
      "+--------------------+---------+------+-------------+----------+-----+------+--------+-------------+---------+--------------------+------+-------------+-------+-----+-------------------+----------+-----+---------+\n",
      "only showing top 5 rows"
     ]
    }
   ],
   "source": [
    "df_clean = df_clean.drop('userAgent')\n",
    "df_clean.show(5)"
   ]
  },
  {
   "cell_type": "markdown",
   "metadata": {},
   "source": [
    "### Define Churn\n",
    "Create a column \"Churn\" to use as the label for model. Using the \"Cancellation Confirmation\" events to define churn, which happen for both paid and free users. "
   ]
  },
  {
   "cell_type": "code",
   "execution_count": 88,
   "metadata": {},
   "outputs": [
    {
     "data": {
      "application/vnd.jupyter.widget-view+json": {
       "model_id": "3c5d8eb51d404bf2b1d76aa56dd7e5c5",
       "version_major": 2,
       "version_minor": 0
      },
      "text/plain": [
       "VBox()"
      ]
     },
     "metadata": {},
     "output_type": "display_data"
    },
    {
     "data": {
      "application/vnd.jupyter.widget-view+json": {
       "model_id": "",
       "version_major": 2,
       "version_minor": 0
      },
      "text/plain": [
       "FloatProgress(value=0.0, bar_style='info', description='Progress:', layout=Layout(height='25px', width='50%'),…"
      ]
     },
     "metadata": {},
     "output_type": "display_data"
    },
    {
     "name": "stdout",
     "output_type": "stream",
     "text": [
      "+------+---------+------+-------------+------+-----+------+-------------------------+-------------+---------+----+------+-------------+-------+--------+-------------------+----------+-----+---------+\n",
      "|artist|auth     |gender|itemInSession|length|level|method|page                     |registration |sessionId|song|status|ts           |userId |state   |epoch_time         |date      |month|agent    |\n",
      "+------+---------+------+-------------+------+-----+------+-------------------------+-------------+---------+----+------+-------------+-------+--------+-------------------+----------+-----+---------+\n",
      "|null  |Cancelled|M     |32           |null  |paid |GET   |Cancellation Confirmation|1536683985000|24588    |null|200   |1538360145000|1768454|OH      |2018-10-01 02:15:45|2018-10-01|10   |Windows  |\n",
      "|null  |Cancelled|M     |16           |null  |free |GET   |Cancellation Confirmation|1534620941000|4031     |null|200   |1538362976000|1381915|IL-IN-WI|2018-10-01 03:02:56|2018-10-01|10   |Macintosh|\n",
      "|null  |Cancelled|F     |3            |null  |free |GET   |Cancellation Confirmation|1538234292000|21329    |null|200   |1538366008000|1298443|OH      |2018-10-01 03:53:28|2018-10-01|10   |Windows  |\n",
      "|null  |Cancelled|F     |48           |null  |free |GET   |Cancellation Confirmation|1537869544000|14061    |null|200   |1538371144000|1379352|VA-NC   |2018-10-01 05:19:04|2018-10-01|10   |Windows  |\n",
      "|null  |Cancelled|F     |76           |null  |free |GET   |Cancellation Confirmation|1537389992000|22282    |null|200   |1538371567000|1068112|OH-KY-IN|2018-10-01 05:26:07|2018-10-01|10   |Windows  |\n",
      "|null  |Cancelled|M     |5            |null  |paid |GET   |Cancellation Confirmation|1537377326000|24567    |null|200   |1538372613000|1362621|GA      |2018-10-01 05:43:33|2018-10-01|10   |Windows  |\n",
      "|null  |Cancelled|M     |25           |null  |free |GET   |Cancellation Confirmation|1536738486000|4018     |null|200   |1538376242000|1276848|NM      |2018-10-01 06:44:02|2018-10-01|10   |Macintosh|\n",
      "|null  |Cancelled|M     |9            |null  |free |GET   |Cancellation Confirmation|1535789345000|25539    |null|200   |1538376254000|1277353|WA      |2018-10-01 06:44:14|2018-10-01|10   |Macintosh|\n",
      "|null  |Cancelled|F     |330          |null  |paid |GET   |Cancellation Confirmation|1537668511000|23258    |null|200   |1538378849000|1274097|GA      |2018-10-01 07:27:29|2018-10-01|10   |Windows  |\n",
      "|null  |Cancelled|M     |5            |null  |free |GET   |Cancellation Confirmation|1537897957000|23580    |null|200   |1538379172000|1163202|MA-NH   |2018-10-01 07:32:52|2018-10-01|10   |Windows  |\n",
      "|null  |Cancelled|M     |5            |null  |paid |GET   |Cancellation Confirmation|1537661383000|25891    |null|200   |1538380782000|1809551|NE      |2018-10-01 07:59:42|2018-10-01|10   |Windows  |\n",
      "|null  |Cancelled|F     |38           |null  |free |GET   |Cancellation Confirmation|1536697401000|12819    |null|200   |1538383256000|1625954|CA      |2018-10-01 08:40:56|2018-10-01|10   |Macintosh|\n",
      "|null  |Cancelled|M     |113          |null  |paid |GET   |Cancellation Confirmation|1531351981000|25033    |null|200   |1538384374000|1015368|TX      |2018-10-01 08:59:34|2018-10-01|10   |Macintosh|\n",
      "|null  |Cancelled|F     |79           |null  |paid |GET   |Cancellation Confirmation|1538348356000|6816     |null|200   |1538385913000|1714714|LA      |2018-10-01 09:25:13|2018-10-01|10   |Macintosh|\n",
      "|null  |Cancelled|F     |163          |null  |paid |GET   |Cancellation Confirmation|1538166513000|19761    |null|200   |1538390470000|1467284|PA      |2018-10-01 10:41:10|2018-10-01|10   |Windows  |\n",
      "|null  |Cancelled|F     |38           |null  |paid |GET   |Cancellation Confirmation|1537407861000|22820    |null|200   |1538392538000|1417019|NM      |2018-10-01 11:15:38|2018-10-01|10   |Windows  |\n",
      "|null  |Cancelled|M     |27           |null  |paid |GET   |Cancellation Confirmation|1536276949000|22883    |null|200   |1538393550000|1191242|TX      |2018-10-01 11:32:30|2018-10-01|10   |Windows  |\n",
      "|null  |Cancelled|M     |340          |null  |paid |GET   |Cancellation Confirmation|1534936699000|8274     |null|200   |1538394076000|1487256|KS      |2018-10-01 11:41:16|2018-10-01|10   |Windows  |\n",
      "|null  |Cancelled|F     |38           |null  |paid |GET   |Cancellation Confirmation|1537265890000|9378     |null|200   |1538400351000|1231207|MA-NH   |2018-10-01 13:25:51|2018-10-01|10   |Macintosh|\n",
      "|null  |Cancelled|F     |35           |null  |paid |GET   |Cancellation Confirmation|1530637726000|26509    |null|200   |1538402639000|1985954|MO-IL   |2018-10-01 14:03:59|2018-10-01|10   |Macintosh|\n",
      "+------+---------+------+-------------+------+-----+------+-------------------------+-------------+---------+----+------+-------------+-------+--------+-------------------+----------+-----+---------+\n",
      "only showing top 20 rows"
     ]
    }
   ],
   "source": [
    "# find out users who churned their service\n",
    "df_clean.filter(\"page = 'Cancellation Confirmation'\").show(20,False)"
   ]
  },
  {
   "cell_type": "code",
   "execution_count": 89,
   "metadata": {},
   "outputs": [
    {
     "data": {
      "application/vnd.jupyter.widget-view+json": {
       "model_id": "08b697fc9a3240ce9aba3ad0edd89a6b",
       "version_major": 2,
       "version_minor": 0
      },
      "text/plain": [
       "VBox()"
      ]
     },
     "metadata": {},
     "output_type": "display_data"
    },
    {
     "data": {
      "application/vnd.jupyter.widget-view+json": {
       "model_id": "",
       "version_major": 2,
       "version_minor": 0
      },
      "text/plain": [
       "FloatProgress(value=0.0, bar_style='info', description='Progress:', layout=Layout(height='25px', width='50%'),…"
      ]
     },
     "metadata": {},
     "output_type": "display_data"
    },
    {
     "name": "stdout",
     "output_type": "stream",
     "text": [
      "+-------+-------------+---------+----------+-----+\n",
      "| userId|           ts|     auth|      page|level|\n",
      "+-------+-------------+---------+----------+-----+\n",
      "|1768454|1538354265000|Logged In|      Home| paid|\n",
      "|1768454|1538354361000|Logged In|  NextSong| paid|\n",
      "|1768454|1538354652000|Logged In|  NextSong| paid|\n",
      "|1768454|1538354843000|Logged In|  NextSong| paid|\n",
      "|1768454|1538355063000|Logged In|  NextSong| paid|\n",
      "|1768454|1538355064000|Logged In|Add Friend| paid|\n",
      "|1768454|1538355301000|Logged In|  NextSong| paid|\n",
      "|1768454|1538355537000|Logged In|  NextSong| paid|\n",
      "|1768454|1538355867000|Logged In|  NextSong| paid|\n",
      "|1768454|1538356072000|Logged In|  NextSong| paid|\n",
      "|1768454|1538356267000|Logged In|  NextSong| paid|\n",
      "|1768454|1538356506000|Logged In|  NextSong| paid|\n",
      "|1768454|1538356542000|Logged In|      Home| paid|\n",
      "|1768454|1538356843000|Logged In|  NextSong| paid|\n",
      "|1768454|1538356903000|Logged In| Downgrade| paid|\n",
      "|1768454|1538357038000|Logged In|  NextSong| paid|\n",
      "|1768454|1538357535000|Logged In|  NextSong| paid|\n",
      "|1768454|1538357794000|Logged In|  NextSong| paid|\n",
      "|1768454|1538357795000|Logged In| Thumbs Up| paid|\n",
      "|1768454|1538357984000|Logged In|  NextSong| paid|\n",
      "+-------+-------------+---------+----------+-----+\n",
      "only showing top 20 rows"
     ]
    }
   ],
   "source": [
    "# list activities of a user who churned the service\n",
    "#df_clean.select([\"userId\",\"ts\",\"page\", \"level\", \"song\"]).where(df_clean.userId == \"1768454\").show()\n",
    "df_clean.select([\"userId\", \"ts\", \"auth\",\"page\", \"level\"]).where(df_clean.userId == \"1768454\").sort(\"ts\").show()"
   ]
  },
  {
   "cell_type": "code",
   "execution_count": 90,
   "metadata": {},
   "outputs": [
    {
     "data": {
      "application/vnd.jupyter.widget-view+json": {
       "model_id": "ae94149076824df786530070b758a3bf",
       "version_major": 2,
       "version_minor": 0
      },
      "text/plain": [
       "VBox()"
      ]
     },
     "metadata": {},
     "output_type": "display_data"
    },
    {
     "data": {
      "application/vnd.jupyter.widget-view+json": {
       "model_id": "",
       "version_major": 2,
       "version_minor": 0
      },
      "text/plain": [
       "FloatProgress(value=0.0, bar_style='info', description='Progress:', layout=Layout(height='25px', width='50%'),…"
      ]
     },
     "metadata": {},
     "output_type": "display_data"
    }
   ],
   "source": [
    "# lable churn event,1 for churn, o for not\n",
    "flag_churn_event = udf(lambda x: 1 if x == \"Cancellation Confirmation\" else 0, IntegerType())\n",
    "df_clean = df_clean.withColumn(\"Churn\", flag_churn_event(\"page\"))\n",
    "\n",
    "# add churn user flag\n",
    "df_clean = df_clean.withColumn(\"label\", max('Churn').over(Window.partitionBy('UserId')))"
   ]
  },
  {
   "cell_type": "code",
   "execution_count": 91,
   "metadata": {},
   "outputs": [
    {
     "data": {
      "application/vnd.jupyter.widget-view+json": {
       "model_id": "0413420ca66045338ed11ec5102085fd",
       "version_major": 2,
       "version_minor": 0
      },
      "text/plain": [
       "VBox()"
      ]
     },
     "metadata": {},
     "output_type": "display_data"
    },
    {
     "data": {
      "application/vnd.jupyter.widget-view+json": {
       "model_id": "",
       "version_major": 2,
       "version_minor": 0
      },
      "text/plain": [
       "FloatProgress(value=0.0, bar_style='info', description='Progress:', layout=Layout(height='25px', width='50%'),…"
      ]
     },
     "metadata": {},
     "output_type": "display_data"
    },
    {
     "name": "stdout",
     "output_type": "stream",
     "text": [
      "+-------+-------------+--------+-----+-----+-----+\n",
      "| userId|           ts|    page|level|Churn|label|\n",
      "+-------+-------------+--------+-----+-----+-----+\n",
      "|1768454|1538354265000|    Home| paid|    0|    1|\n",
      "|1768454|1538354361000|NextSong| paid|    0|    1|\n",
      "|1768454|1538354652000|NextSong| paid|    0|    1|\n",
      "|1768454|1538354843000|NextSong| paid|    0|    1|\n",
      "|1768454|1538355063000|NextSong| paid|    0|    1|\n",
      "+-------+-------------+--------+-----+-----+-----+\n",
      "only showing top 5 rows"
     ]
    }
   ],
   "source": [
    "# list activities of a user who churned the service\n",
    "df_clean.select([\"userId\", \"ts\",\"page\",\"level\",\"Churn\",\"label\"]).where(df_clean.userId == \"1768454\").show(5)"
   ]
  },
  {
   "cell_type": "code",
   "execution_count": 23,
   "metadata": {},
   "outputs": [
    {
     "data": {
      "application/vnd.jupyter.widget-view+json": {
       "model_id": "6a94e50e01894b1a81b5e729545fe466",
       "version_major": 2,
       "version_minor": 0
      },
      "text/plain": [
       "VBox()"
      ]
     },
     "metadata": {},
     "output_type": "display_data"
    },
    {
     "data": {
      "application/vnd.jupyter.widget-view+json": {
       "model_id": "",
       "version_major": 2,
       "version_minor": 0
      },
      "text/plain": [
       "FloatProgress(value=0.0, bar_style='info', description='Progress:', layout=Layout(height='25px', width='50%'),…"
      ]
     },
     "metadata": {},
     "output_type": "display_data"
    },
    {
     "name": "stdout",
     "output_type": "stream",
     "text": [
      "+-----------------+---------+------+-------------+---------+-----+------+---------+-------------+---------+--------------------+------+-------------+------+-----+-------------------+----------+-----+---------+-----+-----+\n",
      "|           artist|     auth|gender|itemInSession|   length|level|method|     page| registration|sessionId|                song|status|           ts|userId|state|         epoch_time|      date|month|    agent|Churn|label|\n",
      "+-----------------+---------+------+-------------+---------+-----+------+---------+-------------+---------+--------------------+------+-------------+------+-----+-------------------+----------+-----+---------+-----+-----+\n",
      "|             null|Logged In|     M|            0|     null| free|   GET|     Home|1532610926000|        5|                null|   200|1538407015000|100005|   LA|2018-10-01 15:16:55|2018-10-01|   10|Macintosh|    0|    1|\n",
      "|  Michael Jackson|Logged In|     M|            1|314.53995| free|   PUT| NextSong|1532610926000|        5|            Thriller|   200|1538407016000|100005|   LA|2018-10-01 15:16:56|2018-10-01|   10|Macintosh|    0|    1|\n",
      "|             null|Logged In|     M|            2|     null| free|   PUT|Thumbs Up|1532610926000|        5|                null|   307|1538407017000|100005|   LA|2018-10-01 15:16:57|2018-10-01|   10|Macintosh|    0|    1|\n",
      "|Frightened Rabbit|Logged In|     M|            3|253.93587| free|   PUT| NextSong|1532610926000|        5|Floating In The F...|   200|1538407330000|100005|   LA|2018-10-01 15:22:10|2018-10-01|   10|Macintosh|    0|    1|\n",
      "|          Afroman|Logged In|     M|            4|177.13587| free|   PUT| NextSong|1532610926000|        5|  The American Dream|   200|1538407583000|100005|   LA|2018-10-01 15:26:23|2018-10-01|   10|Macintosh|    0|    1|\n",
      "+-----------------+---------+------+-------------+---------+-----+------+---------+-------------+---------+--------------------+------+-------------+------+-----+-------------------+----------+-----+---------+-----+-----+\n",
      "only showing top 5 rows"
     ]
    }
   ],
   "source": [
    "df_clean.show(5)"
   ]
  },
  {
   "cell_type": "markdown",
   "metadata": {},
   "source": [
    "### Define downgrade \n",
    "\n",
    "Create a column \"downgraded\" using the \"Downgrade\" events. Flag users who downgraded at least once as 1 and users who never downgraded as 0. "
   ]
  },
  {
   "cell_type": "code",
   "execution_count": 92,
   "metadata": {},
   "outputs": [
    {
     "data": {
      "application/vnd.jupyter.widget-view+json": {
       "model_id": "fdf8a1442e5d45f49c67a4d4e535cfc7",
       "version_major": 2,
       "version_minor": 0
      },
      "text/plain": [
       "VBox()"
      ]
     },
     "metadata": {},
     "output_type": "display_data"
    },
    {
     "data": {
      "application/vnd.jupyter.widget-view+json": {
       "model_id": "",
       "version_major": 2,
       "version_minor": 0
      },
      "text/plain": [
       "FloatProgress(value=0.0, bar_style='info', description='Progress:', layout=Layout(height='25px', width='50%'),…"
      ]
     },
     "metadata": {},
     "output_type": "display_data"
    },
    {
     "name": "stdout",
     "output_type": "stream",
     "text": [
      "+------+---------+------+-------------+------+-----+------+---------+-------------+---------+----+------+-------------+-------+-----+-------------------+----------+-----+-------+-----+-----+\n",
      "|artist|     auth|gender|itemInSession|length|level|method|     page| registration|sessionId|song|status|           ts| userId|state|         epoch_time|      date|month|  agent|Churn|label|\n",
      "+------+---------+------+-------------+------+-----+------+---------+-------------+---------+----+------+-------------+-------+-----+-------------------+----------+-----+-------+-----+-----+\n",
      "|  null|Logged In|     M|           15|  null| paid|   GET|Downgrade|1538251620000|    15355|null|   200|1539799543000|1001393|   OH|2018-10-17 18:05:43|2018-10-17|   10|Windows|    0|    0|\n",
      "+------+---------+------+-------------+------+-----+------+---------+-------------+---------+----+------+-------------+-------+-----+-------------------+----------+-----+-------+-----+-----+\n",
      "only showing top 1 row"
     ]
    }
   ],
   "source": [
    "# find out users who downgraded their service\n",
    "df_clean.filter(\"page = 'Downgrade'\").show(1)"
   ]
  },
  {
   "cell_type": "code",
   "execution_count": 93,
   "metadata": {},
   "outputs": [
    {
     "data": {
      "application/vnd.jupyter.widget-view+json": {
       "model_id": "b9339344707643fb9b5a62da7244aacf",
       "version_major": 2,
       "version_minor": 0
      },
      "text/plain": [
       "VBox()"
      ]
     },
     "metadata": {},
     "output_type": "display_data"
    },
    {
     "data": {
      "application/vnd.jupyter.widget-view+json": {
       "model_id": "",
       "version_major": 2,
       "version_minor": 0
      },
      "text/plain": [
       "FloatProgress(value=0.0, bar_style='info', description='Progress:', layout=Layout(height='25px', width='50%'),…"
      ]
     },
     "metadata": {},
     "output_type": "display_data"
    },
    {
     "name": "stdout",
     "output_type": "stream",
     "text": [
      "+-------+-------------+---------+---------------+-----+\n",
      "| userId|           ts|     auth|           page|level|\n",
      "+-------+-------------+---------+---------------+-----+\n",
      "|1001393|1538365753000|Logged In|           Home| free|\n",
      "|1001393|1538365853000|Logged In|       NextSong| free|\n",
      "|1001393|1538366049000|Logged In|           Help| free|\n",
      "|1001393|1538366148000|Logged In|       NextSong| free|\n",
      "|1001393|1538366253000|Logged In|Add to Playlist| free|\n",
      "|1001393|1538366349000|Logged In|       NextSong| free|\n",
      "|1001393|1538366350000|Logged In|       Settings| free|\n",
      "|1001393|1538366351000|Logged In|  Save Settings| free|\n",
      "|1001393|1538366461000|Logged In|           Home| free|\n",
      "|1001393|1538366555000|Logged In|       NextSong| free|\n",
      "|1001393|1538366763000|Logged In|       NextSong| free|\n",
      "|1001393|1538367018000|Logged In|       NextSong| free|\n",
      "|1001393|1538367323000|Logged In|       NextSong| free|\n",
      "|1001393|1538367547000|Logged In|       NextSong| free|\n",
      "|1001393|1538367806000|Logged In|       NextSong| free|\n",
      "|1001393|1538367807000|Logged In|      Thumbs Up| free|\n",
      "|1001393|1538368013000|Logged In|       NextSong| free|\n",
      "|1001393|1538368242000|Logged In|       NextSong| free|\n",
      "|1001393|1538368569000|Logged In|       NextSong| free|\n",
      "|1001393|1538368787000|Logged In|       NextSong| free|\n",
      "+-------+-------------+---------+---------------+-----+\n",
      "only showing top 20 rows"
     ]
    }
   ],
   "source": [
    "# list activities of a user who downgraded the service\n",
    "df_clean.select([\"userId\", \"ts\", \"auth\",\"page\", \"level\"]).where(df_clean.userId == \"1001393\").sort(\"ts\").show()"
   ]
  },
  {
   "cell_type": "code",
   "execution_count": 94,
   "metadata": {},
   "outputs": [
    {
     "data": {
      "application/vnd.jupyter.widget-view+json": {
       "model_id": "98f02399918a474ba365ac1e7ed3b167",
       "version_major": 2,
       "version_minor": 0
      },
      "text/plain": [
       "VBox()"
      ]
     },
     "metadata": {},
     "output_type": "display_data"
    },
    {
     "data": {
      "application/vnd.jupyter.widget-view+json": {
       "model_id": "",
       "version_major": 2,
       "version_minor": 0
      },
      "text/plain": [
       "FloatProgress(value=0.0, bar_style='info', description='Progress:', layout=Layout(height='25px', width='50%'),…"
      ]
     },
     "metadata": {},
     "output_type": "display_data"
    }
   ],
   "source": [
    "# lable downgrade event,1 for downgraded, 0 for not\n",
    "flag_downgrade_event = udf(lambda x: 1 if x == \"Downgrade\" else 0, IntegerType())\n",
    "df_clean = df_clean.withColumn(\"Downgrade\", flag_downgrade_event(\"page\"))\n",
    "\n",
    "# add downgraded user flag\n",
    "df_clean = df_clean.withColumn(\"downgraded\", max('Downgrade').over(Window.partitionBy('UserId')))"
   ]
  },
  {
   "cell_type": "code",
   "execution_count": 95,
   "metadata": {},
   "outputs": [
    {
     "data": {
      "application/vnd.jupyter.widget-view+json": {
       "model_id": "f32aa88320d04ecb983ba92fc3cfef0f",
       "version_major": 2,
       "version_minor": 0
      },
      "text/plain": [
       "VBox()"
      ]
     },
     "metadata": {},
     "output_type": "display_data"
    },
    {
     "data": {
      "application/vnd.jupyter.widget-view+json": {
       "model_id": "",
       "version_major": 2,
       "version_minor": 0
      },
      "text/plain": [
       "FloatProgress(value=0.0, bar_style='info', description='Progress:', layout=Layout(height='25px', width='50%'),…"
      ]
     },
     "metadata": {},
     "output_type": "display_data"
    },
    {
     "name": "stdout",
     "output_type": "stream",
     "text": [
      "+-------+---------+---------------+-----+----------+-----+\n",
      "| userId|     auth|           page|level|downgraded|label|\n",
      "+-------+---------+---------------+-----+----------+-----+\n",
      "|1001393|Logged In|           Home| free|         1|    0|\n",
      "|1001393|Logged In|       NextSong| free|         1|    0|\n",
      "|1001393|Logged In|           Help| free|         1|    0|\n",
      "|1001393|Logged In|       NextSong| free|         1|    0|\n",
      "|1001393|Logged In|Add to Playlist| free|         1|    0|\n",
      "|1001393|Logged In|       NextSong| free|         1|    0|\n",
      "|1001393|Logged In|       Settings| free|         1|    0|\n",
      "|1001393|Logged In|  Save Settings| free|         1|    0|\n",
      "|1001393|Logged In|           Home| free|         1|    0|\n",
      "|1001393|Logged In|       NextSong| free|         1|    0|\n",
      "|1001393|Logged In|       NextSong| free|         1|    0|\n",
      "|1001393|Logged In|       NextSong| free|         1|    0|\n",
      "|1001393|Logged In|       NextSong| free|         1|    0|\n",
      "|1001393|Logged In|       NextSong| free|         1|    0|\n",
      "|1001393|Logged In|       NextSong| free|         1|    0|\n",
      "|1001393|Logged In|      Thumbs Up| free|         1|    0|\n",
      "|1001393|Logged In|       NextSong| free|         1|    0|\n",
      "|1001393|Logged In|       NextSong| free|         1|    0|\n",
      "|1001393|Logged In|       NextSong| free|         1|    0|\n",
      "|1001393|Logged In|       NextSong| free|         1|    0|\n",
      "+-------+---------+---------------+-----+----------+-----+\n",
      "only showing top 20 rows"
     ]
    }
   ],
   "source": [
    "# list activities of a user who downgraded the service\n",
    "df_clean.select([\"userId\", \"auth\",\"page\", \"level\", \"downgraded\",\"label\"]).where(df_clean.userId == \"1001393\").sort(\"ts\").show()"
   ]
  },
  {
   "cell_type": "code",
   "execution_count": 96,
   "metadata": {},
   "outputs": [
    {
     "data": {
      "application/vnd.jupyter.widget-view+json": {
       "model_id": "64e805107d1243cfb01eca27efb113d8",
       "version_major": 2,
       "version_minor": 0
      },
      "text/plain": [
       "VBox()"
      ]
     },
     "metadata": {},
     "output_type": "display_data"
    },
    {
     "data": {
      "application/vnd.jupyter.widget-view+json": {
       "model_id": "",
       "version_major": 2,
       "version_minor": 0
      },
      "text/plain": [
       "FloatProgress(value=0.0, bar_style='info', description='Progress:', layout=Layout(height='25px', width='50%'),…"
      ]
     },
     "metadata": {},
     "output_type": "display_data"
    }
   ],
   "source": [
    "# delete 'Downgrade','Churn' columns\n",
    "df_clean = df_clean.drop('Downgrade','Churn')"
   ]
  },
  {
   "cell_type": "code",
   "execution_count": 29,
   "metadata": {},
   "outputs": [
    {
     "data": {
      "application/vnd.jupyter.widget-view+json": {
       "model_id": "ae21a2bde4254496974d1e7543e47dff",
       "version_major": 2,
       "version_minor": 0
      },
      "text/plain": [
       "VBox()"
      ]
     },
     "metadata": {},
     "output_type": "display_data"
    },
    {
     "data": {
      "application/vnd.jupyter.widget-view+json": {
       "model_id": "",
       "version_major": 2,
       "version_minor": 0
      },
      "text/plain": [
       "FloatProgress(value=0.0, bar_style='info', description='Progress:', layout=Layout(height='25px', width='50%'),…"
      ]
     },
     "metadata": {},
     "output_type": "display_data"
    },
    {
     "name": "stdout",
     "output_type": "stream",
     "text": [
      "['artist', 'auth', 'gender', 'itemInSession', 'length', 'level', 'method', 'page', 'registration', 'sessionId', 'song', 'status', 'ts', 'userId', 'state', 'epoch_time', 'date', 'month', 'agent', 'label', 'downgraded']"
     ]
    }
   ],
   "source": [
    "df_clean.columns"
   ]
  },
  {
   "cell_type": "code",
   "execution_count": 28,
   "metadata": {},
   "outputs": [
    {
     "data": {
      "application/vnd.jupyter.widget-view+json": {
       "model_id": "d311e1389f93431cbe895818e7a84221",
       "version_major": 2,
       "version_minor": 0
      },
      "text/plain": [
       "VBox()"
      ]
     },
     "metadata": {},
     "output_type": "display_data"
    },
    {
     "data": {
      "application/vnd.jupyter.widget-view+json": {
       "model_id": "",
       "version_major": 2,
       "version_minor": 0
      },
      "text/plain": [
       "FloatProgress(value=0.0, bar_style='info', description='Progress:', layout=Layout(height='25px', width='50%'),…"
      ]
     },
     "metadata": {},
     "output_type": "display_data"
    },
    {
     "name": "stdout",
     "output_type": "stream",
     "text": [
      "25480720"
     ]
    }
   ],
   "source": [
    "df_clean.count()"
   ]
  },
  {
   "cell_type": "markdown",
   "metadata": {},
   "source": [
    "## Explore Data\n",
    "Perform some exploratory data analysis to observe the behavior for users who stayed vs users who churned. Exploring aggregates on these two groups of users, observing how much of a specific action they experienced per a certain time unit or number of songs played."
   ]
  },
  {
   "cell_type": "code",
   "execution_count": 29,
   "metadata": {},
   "outputs": [
    {
     "data": {
      "application/vnd.jupyter.widget-view+json": {
       "model_id": "5639a3a41e204ba28c28d57cdf261fe3",
       "version_major": 2,
       "version_minor": 0
      },
      "text/plain": [
       "VBox()"
      ]
     },
     "metadata": {},
     "output_type": "display_data"
    },
    {
     "data": {
      "application/vnd.jupyter.widget-view+json": {
       "model_id": "",
       "version_major": 2,
       "version_minor": 0
      },
      "text/plain": [
       "FloatProgress(value=0.0, bar_style='info', description='Progress:', layout=Layout(height='25px', width='50%'),…"
      ]
     },
     "metadata": {},
     "output_type": "display_data"
    },
    {
     "name": "stdout",
     "output_type": "stream",
     "text": [
      "+-----+----------+\n",
      "|label|user_count|\n",
      "+-----+----------+\n",
      "|    1|      5003|\n",
      "|    0|     17274|\n",
      "+-----+----------+"
     ]
    }
   ],
   "source": [
    "#number of stayed and churned users\n",
    "df_clean.groupBy('label').agg(countDistinct('userId').alias('user_count')).show()"
   ]
  },
  {
   "cell_type": "code",
   "execution_count": 97,
   "metadata": {},
   "outputs": [
    {
     "data": {
      "application/vnd.jupyter.widget-view+json": {
       "model_id": "13149474609d40c98816ff04068193da",
       "version_major": 2,
       "version_minor": 0
      },
      "text/plain": [
       "VBox()"
      ]
     },
     "metadata": {},
     "output_type": "display_data"
    },
    {
     "data": {
      "application/vnd.jupyter.widget-view+json": {
       "model_id": "",
       "version_major": 2,
       "version_minor": 0
      },
      "text/plain": [
       "FloatProgress(value=0.0, bar_style='info', description='Progress:', layout=Layout(height='25px', width='50%'),…"
      ]
     },
     "metadata": {},
     "output_type": "display_data"
    }
   ],
   "source": [
    "# Plotting a bar plot to show gender distribution between stayed and churned users\n",
    "gender_pd = df_clean.drop_duplicates(['userId', 'gender']).groupby(['label', 'gender']).count().sort(\"label\").toPandas()"
   ]
  },
  {
   "cell_type": "code",
   "execution_count": 98,
   "metadata": {},
   "outputs": [
    {
     "data": {
      "application/vnd.jupyter.widget-view+json": {
       "model_id": "753938259da24a9bb30cf9e42d2fa96f",
       "version_major": 2,
       "version_minor": 0
      },
      "text/plain": [
       "VBox()"
      ]
     },
     "metadata": {},
     "output_type": "display_data"
    },
    {
     "data": {
      "application/vnd.jupyter.widget-view+json": {
       "model_id": "",
       "version_major": 2,
       "version_minor": 0
      },
      "text/plain": [
       "FloatProgress(value=0.0, bar_style='info', description='Progress:', layout=Layout(height='25px', width='50%'),…"
      ]
     },
     "metadata": {},
     "output_type": "display_data"
    },
    {
     "data": {
      "image/png": "[encoded data removed]",
      "text/plain": [
       "<IPython.core.display.Image object>"
      ]
     },
     "metadata": {},
     "output_type": "display_data"
    }
   ],
   "source": [
    "plt.figure()\n",
    "plt.title('Gender of stayed and churned users')\n",
    "sb.barplot(x = 'label', y = 'count',data = gender_pd, hue = 'gender')\n",
    "plt.show()\n",
    "%matplot plt"
   ]
  },
  {
   "cell_type": "code",
   "execution_count": 99,
   "metadata": {},
   "outputs": [
    {
     "data": {
      "application/vnd.jupyter.widget-view+json": {
       "model_id": "88e7d43788ff4aceb9a4874eba2a0496",
       "version_major": 2,
       "version_minor": 0
      },
      "text/plain": [
       "VBox()"
      ]
     },
     "metadata": {},
     "output_type": "display_data"
    },
    {
     "data": {
      "application/vnd.jupyter.widget-view+json": {
       "model_id": "",
       "version_major": 2,
       "version_minor": 0
      },
      "text/plain": [
       "FloatProgress(value=0.0, bar_style='info', description='Progress:', layout=Layout(height='25px', width='50%'),…"
      ]
     },
     "metadata": {},
     "output_type": "display_data"
    }
   ],
   "source": [
    "# Plotting a bar plot to show level distribution between stayed and churned users\n",
    "level_pd = df_clean.drop_duplicates(['userId', 'level']).groupby(['label', 'level']).count().sort(\"label\").toPandas()"
   ]
  },
  {
   "cell_type": "code",
   "execution_count": 100,
   "metadata": {},
   "outputs": [
    {
     "data": {
      "application/vnd.jupyter.widget-view+json": {
       "model_id": "f758d44a321c48afb45ef343cb712a05",
       "version_major": 2,
       "version_minor": 0
      },
      "text/plain": [
       "VBox()"
      ]
     },
     "metadata": {},
     "output_type": "display_data"
    },
    {
     "data": {
      "application/vnd.jupyter.widget-view+json": {
       "model_id": "",
       "version_major": 2,
       "version_minor": 0
      },
      "text/plain": [
       "FloatProgress(value=0.0, bar_style='info', description='Progress:', layout=Layout(height='25px', width='50%'),…"
      ]
     },
     "metadata": {},
     "output_type": "display_data"
    },
    {
     "data": {
      "image/png": "[encoded data removed]",
      "text/plain": [
       "<IPython.core.display.Image object>"
      ]
     },
     "metadata": {},
     "output_type": "display_data"
    }
   ],
   "source": [
    "plt.figure()\n",
    "plt.title('Level of stayed and churned users')\n",
    "sb.barplot(x = 'label', y = 'count',data = level_pd, hue = 'level')\n",
    "plt.show()\n",
    "%matplot plt"
   ]
  },
  {
   "cell_type": "code",
   "execution_count": 101,
   "metadata": {},
   "outputs": [
    {
     "data": {
      "application/vnd.jupyter.widget-view+json": {
       "model_id": "a47d371e4d6d498f9ed41d5bf08fa711",
       "version_major": 2,
       "version_minor": 0
      },
      "text/plain": [
       "VBox()"
      ]
     },
     "metadata": {},
     "output_type": "display_data"
    },
    {
     "data": {
      "application/vnd.jupyter.widget-view+json": {
       "model_id": "",
       "version_major": 2,
       "version_minor": 0
      },
      "text/plain": [
       "FloatProgress(value=0.0, bar_style='info', description='Progress:', layout=Layout(height='25px', width='50%'),…"
      ]
     },
     "metadata": {},
     "output_type": "display_data"
    }
   ],
   "source": [
    "# Plotting a bar plot to show downgrade condition between stayed and churned users\n",
    "downgrade_pd = df_clean.drop_duplicates(['userId', 'downgraded']).groupby(['label', 'downgraded']).count().sort(\"label\").toPandas()"
   ]
  },
  {
   "cell_type": "code",
   "execution_count": 102,
   "metadata": {},
   "outputs": [
    {
     "data": {
      "application/vnd.jupyter.widget-view+json": {
       "model_id": "6f003f7eaed54cfb9efdf149ac2f6cf3",
       "version_major": 2,
       "version_minor": 0
      },
      "text/plain": [
       "VBox()"
      ]
     },
     "metadata": {},
     "output_type": "display_data"
    },
    {
     "data": {
      "application/vnd.jupyter.widget-view+json": {
       "model_id": "",
       "version_major": 2,
       "version_minor": 0
      },
      "text/plain": [
       "FloatProgress(value=0.0, bar_style='info', description='Progress:', layout=Layout(height='25px', width='50%'),…"
      ]
     },
     "metadata": {},
     "output_type": "display_data"
    },
    {
     "data": {
      "image/png": "[encoded data removed]",
      "text/plain": [
       "<IPython.core.display.Image object>"
      ]
     },
     "metadata": {},
     "output_type": "display_data"
    }
   ],
   "source": [
    "plt.figure()\n",
    "plt.title('Downgrade condition of stayed and churned users')\n",
    "sb.barplot(x = 'label', y = 'count',data = downgrade_pd, hue = 'downgraded')\n",
    "plt.show()\n",
    "%matplot plt"
   ]
  },
  {
   "cell_type": "markdown",
   "metadata": {},
   "source": [
    "### Registered days\n"
   ]
  },
  {
   "cell_type": "code",
   "execution_count": 103,
   "metadata": {},
   "outputs": [
    {
     "data": {
      "application/vnd.jupyter.widget-view+json": {
       "model_id": "26d731d75f7547a79cc820866e50b9dd",
       "version_major": 2,
       "version_minor": 0
      },
      "text/plain": [
       "VBox()"
      ]
     },
     "metadata": {},
     "output_type": "display_data"
    },
    {
     "data": {
      "application/vnd.jupyter.widget-view+json": {
       "model_id": "",
       "version_major": 2,
       "version_minor": 0
      },
      "text/plain": [
       "FloatProgress(value=0.0, bar_style='info', description='Progress:', layout=Layout(height='25px', width='50%'),…"
      ]
     },
     "metadata": {},
     "output_type": "display_data"
    },
    {
     "name": "stdout",
     "output_type": "stream",
     "text": [
      "+-------+--------+---------+------+-------------+---------+-----+------+--------+---------+--------------+------+-------------+-----+-------------------+----------+-----+-------+-----+----------+---------------+\n",
      "| userId|  artist|     auth|gender|itemInSession|   length|level|method|    page|sessionId|          song|status|           ts|state|         epoch_time|      date|month|  agent|label|downgraded|registered_days|\n",
      "+-------+--------+---------+------+-------------+---------+-----+------+--------+---------+--------------+------+-------------+-----+-------------------+----------+-----+-------+-----+----------+---------------+\n",
      "|1001393| OutKast|Logged In|     M|            0|369.31873| paid|   PUT|NextSong|    23637|         Roses|   200|1541959714000|   OH|2018-11-11 18:08:34|2018-11-11|   11|Windows|    0|         1|             59|\n",
      "|1001393|Maroon 5|Logged In|     M|            1|244.84526| paid|   PUT|NextSong|    23637|Sunday Morning|   200|1541960083000|   OH|2018-11-11 18:14:43|2018-11-11|   11|Windows|    0|         1|             59|\n",
      "+-------+--------+---------+------+-------------+---------+-----+------+--------+---------+--------------+------+-------------+-----+-------------------+----------+-----+-------+-----+----------+---------------+\n",
      "only showing top 2 rows"
     ]
    }
   ],
   "source": [
    "cancellation_df = df_clean.groupBy('userId').agg(max('ts').alias('lastinteraction'))\n",
    "df_clean = cancellation_df.join(df_clean, on='userId').withColumn('registered_days', ((col('lastinteraction')-col('registration'))/86400000).cast(IntegerType()))\n",
    "df_clean = df_clean.drop('lastinteraction','registration')\n",
    "df_clean.show(2)"
   ]
  },
  {
   "cell_type": "code",
   "execution_count": 104,
   "metadata": {},
   "outputs": [
    {
     "data": {
      "application/vnd.jupyter.widget-view+json": {
       "model_id": "742522fa936d427a98e3d1e160c904c9",
       "version_major": 2,
       "version_minor": 0
      },
      "text/plain": [
       "VBox()"
      ]
     },
     "metadata": {},
     "output_type": "display_data"
    },
    {
     "data": {
      "application/vnd.jupyter.widget-view+json": {
       "model_id": "",
       "version_major": 2,
       "version_minor": 0
      },
      "text/plain": [
       "FloatProgress(value=0.0, bar_style='info', description='Progress:', layout=Layout(height='25px', width='50%'),…"
      ]
     },
     "metadata": {},
     "output_type": "display_data"
    },
    {
     "data": {
      "image/png": "[encoded data removed]",
      "text/plain": [
       "<IPython.core.display.Image object>"
      ]
     },
     "metadata": {},
     "output_type": "display_data"
    }
   ],
   "source": [
    "registered_days = df_clean.select(['userId','registered_days','label']).drop_duplicates(['userId']).sort(\"label\").toPandas()\n",
    "plt.figure()\n",
    "sb.boxplot(y=\"registered_days\", x=\"label\", data=registered_days)\n",
    "plt.show()\n",
    "%matplot plt"
   ]
  },
  {
   "cell_type": "markdown",
   "metadata": {},
   "source": [
    "### Latest \"level\" of users before they churn"
   ]
  },
  {
   "cell_type": "code",
   "execution_count": 105,
   "metadata": {},
   "outputs": [
    {
     "data": {
      "application/vnd.jupyter.widget-view+json": {
       "model_id": "107accf0f6da4a6eb6cefcbad186a09c",
       "version_major": 2,
       "version_minor": 0
      },
      "text/plain": [
       "VBox()"
      ]
     },
     "metadata": {},
     "output_type": "display_data"
    },
    {
     "data": {
      "application/vnd.jupyter.widget-view+json": {
       "model_id": "",
       "version_major": 2,
       "version_minor": 0
      },
      "text/plain": [
       "FloatProgress(value=0.0, bar_style='info', description='Progress:', layout=Layout(height='25px', width='50%'),…"
      ]
     },
     "metadata": {},
     "output_type": "display_data"
    },
    {
     "name": "stdout",
     "output_type": "stream",
     "text": [
      "+-------+-------------+---------+------+-------------+---------+------+--------+---------+--------------------+------+-------------+-----+-------------------+----------+-----+-------+-----+----------+---------------+-----------+\n",
      "| userId|       artist|     auth|gender|itemInSession|   length|method|    page|sessionId|                song|status|           ts|state|         epoch_time|      date|month|  agent|label|downgraded|registered_days|valid_level|\n",
      "+-------+-------------+---------+------+-------------+---------+------+--------+---------+--------------------+------+-------------+-----+-------------------+----------+-----+-------+-----+----------+---------------+-----------+\n",
      "|1001393|Sheena Easton|Logged In|     M|            0|239.62077|   PUT|NextSong|    16255|Strut (1993 Digit...|   200|1540813195000|   OH|2018-10-29 11:39:55|2018-10-29|   10|Windows|    0|         1|             59|       paid|\n",
      "|1001393| Dennis Brown|Logged In|     M|            1|175.38567|   PUT|NextSong|    16255|         Here I Come|   200|1540813434000|   OH|2018-10-29 11:43:54|2018-10-29|   10|Windows|    0|         1|             59|       paid|\n",
      "+-------+-------------+---------+------+-------------+---------+------+--------+---------+--------------------+------+-------------+-----+-------------------+----------+-----+-------+-----+----------+---------------+-----------+\n",
      "only showing top 2 rows"
     ]
    }
   ],
   "source": [
    "level_df = df_clean.orderBy('ts', ascending=False).groupBy('userId').agg(first('level').alias('valid_level'))    \n",
    "df_clean = df_clean.drop('level')\n",
    "df_clean = df_clean.join(level_df, on='userId')\n",
    "df_clean.show(2)"
   ]
  },
  {
   "cell_type": "code",
   "execution_count": 106,
   "metadata": {},
   "outputs": [
    {
     "data": {
      "application/vnd.jupyter.widget-view+json": {
       "model_id": "0df3b34fb22e4db2b109f55b19c906dc",
       "version_major": 2,
       "version_minor": 0
      },
      "text/plain": [
       "VBox()"
      ]
     },
     "metadata": {},
     "output_type": "display_data"
    },
    {
     "data": {
      "application/vnd.jupyter.widget-view+json": {
       "model_id": "",
       "version_major": 2,
       "version_minor": 0
      },
      "text/plain": [
       "FloatProgress(value=0.0, bar_style='info', description='Progress:', layout=Layout(height='25px', width='50%'),…"
      ]
     },
     "metadata": {},
     "output_type": "display_data"
    }
   ],
   "source": [
    "# Plotting a bar plot to show level of stayed and churned users\n",
    "level_pd = df_clean.drop_duplicates(['userId', 'valid_level']).groupby(['label', 'valid_level']).count().sort(\"label\").toPandas()"
   ]
  },
  {
   "cell_type": "code",
   "execution_count": 107,
   "metadata": {},
   "outputs": [
    {
     "data": {
      "application/vnd.jupyter.widget-view+json": {
       "model_id": "af85f25f305c48e4a87a1638092bd66d",
       "version_major": 2,
       "version_minor": 0
      },
      "text/plain": [
       "VBox()"
      ]
     },
     "metadata": {},
     "output_type": "display_data"
    },
    {
     "data": {
      "application/vnd.jupyter.widget-view+json": {
       "model_id": "",
       "version_major": 2,
       "version_minor": 0
      },
      "text/plain": [
       "FloatProgress(value=0.0, bar_style='info', description='Progress:', layout=Layout(height='25px', width='50%'),…"
      ]
     },
     "metadata": {},
     "output_type": "display_data"
    },
    {
     "data": {
      "image/png": "[encoded data removed]",
      "text/plain": [
       "<IPython.core.display.Image object>"
      ]
     },
     "metadata": {},
     "output_type": "display_data"
    }
   ],
   "source": [
    "plt.figure()\n",
    "plt.title('Level of stayed and churned users')\n",
    "sb.barplot(x = 'label', y = 'count',data = level_pd, hue = 'valid_level')\n",
    "plt.show()\n",
    "%matplot plt"
   ]
  },
  {
   "cell_type": "markdown",
   "metadata": {},
   "source": [
    "### Number of songs per day"
   ]
  },
  {
   "cell_type": "code",
   "execution_count": 108,
   "metadata": {},
   "outputs": [
    {
     "data": {
      "application/vnd.jupyter.widget-view+json": {
       "model_id": "1a8351503eeb4de6a00f8a4e607a1a8a",
       "version_major": 2,
       "version_minor": 0
      },
      "text/plain": [
       "VBox()"
      ]
     },
     "metadata": {},
     "output_type": "display_data"
    },
    {
     "data": {
      "application/vnd.jupyter.widget-view+json": {
       "model_id": "",
       "version_major": 2,
       "version_minor": 0
      },
      "text/plain": [
       "FloatProgress(value=0.0, bar_style='info', description='Progress:', layout=Layout(height='25px', width='50%'),…"
      ]
     },
     "metadata": {},
     "output_type": "display_data"
    },
    {
     "name": "stdout",
     "output_type": "stream",
     "text": [
      "+-------+------+---------+------+-------------+------+------+----------+---------+----+------+-------------+-----+-------------------+----------+-----+-------+-----+----------+---------------+-----------+--------------+\n",
      "| userId|artist|     auth|gender|itemInSession|length|method|      page|sessionId|song|status|           ts|state|         epoch_time|      date|month|  agent|label|downgraded|registered_days|valid_level|avg_daily_song|\n",
      "+-------+------+---------+------+-------------+------+------+----------+---------+----+------+-------------+-----+-------------------+----------+-----+-------+-----+----------+---------------+-----------+--------------+\n",
      "|1001393|  null|Logged In|     M|            0|  null|   GET|      Home|     4382|null|   200|1539061413000|   OH|2018-10-09 05:03:33|2018-10-09|   10|Windows|    0|         1|             59|       paid|          61.5|\n",
      "|1001393|  null|Logged In|     M|            1|  null|   PUT|Add Friend|     4382|null|   307|1539061414000|   OH|2018-10-09 05:03:34|2018-10-09|   10|Windows|    0|         1|             59|       paid|          61.5|\n",
      "+-------+------+---------+------+-------------+------+------+----------+---------+----+------+-------------+-----+-------------------+----------+-----+-------+-----+----------+---------------+-----------+--------------+\n",
      "only showing top 2 rows"
     ]
    }
   ],
   "source": [
    "temp_daily_song = df_clean.groupBy('userId','date').agg(countDistinct('song').alias('songs')).sort('userId')\n",
    "daily_song = temp_daily_song.groupBy('userId').avg('songs').withColumnRenamed('avg(songs)', 'avg_daily_song')\n",
    "df_clean = df_clean.join(daily_song, on='userId')\n",
    "#df_clean = df_clean.drop('song')\n",
    "df_clean.show(2)\n",
    "avg_daily_song_pd = df_clean.select(['userId','avg_daily_song','label']).drop_duplicates(['userId']).sort(\"label\").toPandas()"
   ]
  },
  {
   "cell_type": "code",
   "execution_count": 109,
   "metadata": {},
   "outputs": [
    {
     "data": {
      "application/vnd.jupyter.widget-view+json": {
       "model_id": "008c4a7a7271489f846ff17379a0b9ee",
       "version_major": 2,
       "version_minor": 0
      },
      "text/plain": [
       "VBox()"
      ]
     },
     "metadata": {},
     "output_type": "display_data"
    },
    {
     "data": {
      "application/vnd.jupyter.widget-view+json": {
       "model_id": "",
       "version_major": 2,
       "version_minor": 0
      },
      "text/plain": [
       "FloatProgress(value=0.0, bar_style='info', description='Progress:', layout=Layout(height='25px', width='50%'),…"
      ]
     },
     "metadata": {},
     "output_type": "display_data"
    },
    {
     "data": {
      "image/png": "[encoded data removed]",
      "text/plain": [
       "<IPython.core.display.Image object>"
      ]
     },
     "metadata": {},
     "output_type": "display_data"
    }
   ],
   "source": [
    "plt.figure()\n",
    "sb.boxplot(y=\"avg_daily_song\", x=\"label\", data=avg_daily_song_pd)\n",
    "plt.show()\n",
    "%matplot plt"
   ]
  },
  {
   "cell_type": "markdown",
   "metadata": {},
   "source": [
    "### Daily average item per session"
   ]
  },
  {
   "cell_type": "code",
   "execution_count": 110,
   "metadata": {},
   "outputs": [
    {
     "data": {
      "application/vnd.jupyter.widget-view+json": {
       "model_id": "b7fe37a90db041b59686a531b08a3cb7",
       "version_major": 2,
       "version_minor": 0
      },
      "text/plain": [
       "VBox()"
      ]
     },
     "metadata": {},
     "output_type": "display_data"
    },
    {
     "data": {
      "application/vnd.jupyter.widget-view+json": {
       "model_id": "",
       "version_major": 2,
       "version_minor": 0
      },
      "text/plain": [
       "FloatProgress(value=0.0, bar_style='info', description='Progress:', layout=Layout(height='25px', width='50%'),…"
      ]
     },
     "metadata": {},
     "output_type": "display_data"
    },
    {
     "name": "stdout",
     "output_type": "stream",
     "text": [
      "+-------+-----------------+---------+------+---------+------+--------+---------+--------------------+------+-------------+-----+-------------------+----------+-----+-------+-----+----------+---------------+-----------+--------------+---------------+\n",
      "| userId|           artist|     auth|gender|   length|method|    page|sessionId|                song|status|           ts|state|         epoch_time|      date|month|  agent|label|downgraded|registered_days|valid_level|avg_daily_song|avg_daily_items|\n",
      "+-------+-----------------+---------+------+---------+------+--------+---------+--------------------+------+-------------+-----+-------------------+----------+-----+-------+-----+----------+---------------+-----------+--------------+---------------+\n",
      "|1001393|             null|Logged In|     M|     null|   GET|    Home|     3445|                null|   200|1538365753000|   OH|2018-10-01 03:49:13|2018-10-01|   10|Windows|    0|         1|             59|       paid|          61.5|         95.875|\n",
      "|1001393|Eric Burdon & War|Logged In|     M|295.70567|   PUT|NextSong|     3445|They Can't Take A...|   200|1538365853000|   OH|2018-10-01 03:50:53|2018-10-01|   10|Windows|    0|         1|             59|       paid|          61.5|         95.875|\n",
      "+-------+-----------------+---------+------+---------+------+--------+---------+--------------------+------+-------------+-----+-------------------+----------+-----+-------+-----+----------+---------------+-----------+--------------+---------------+\n",
      "only showing top 2 rows"
     ]
    }
   ],
   "source": [
    "daily_item_df = df_clean.groupby('userId','date').agg(max('itemInSession')).\\\n",
    "groupBy('userId').avg('max(itemInSession)').\\\n",
    "withColumnRenamed('avg(max(itemInSession))', 'avg_daily_items')\n",
    "df_clean = df_clean.join(daily_item_df, on='userId')\n",
    "df_clean = df_clean.drop('itemInSession')\n",
    "df_clean.show(2)\n",
    "avg_daily_items_pd = df_clean.select(['userId','avg_daily_items','label']).drop_duplicates(['userId']).sort(\"label\").toPandas()"
   ]
  },
  {
   "cell_type": "code",
   "execution_count": 111,
   "metadata": {},
   "outputs": [
    {
     "data": {
      "application/vnd.jupyter.widget-view+json": {
       "model_id": "76a16c3150d2415ebbd36e00130e50ca",
       "version_major": 2,
       "version_minor": 0
      },
      "text/plain": [
       "VBox()"
      ]
     },
     "metadata": {},
     "output_type": "display_data"
    },
    {
     "data": {
      "application/vnd.jupyter.widget-view+json": {
       "model_id": "",
       "version_major": 2,
       "version_minor": 0
      },
      "text/plain": [
       "FloatProgress(value=0.0, bar_style='info', description='Progress:', layout=Layout(height='25px', width='50%'),…"
      ]
     },
     "metadata": {},
     "output_type": "display_data"
    },
    {
     "data": {
      "image/png": "[encoded data removed]",
      "text/plain": [
       "<IPython.core.display.Image object>"
      ]
     },
     "metadata": {},
     "output_type": "display_data"
    }
   ],
   "source": [
    "plt.figure()\n",
    "sb.boxplot(y=\"avg_daily_items\", x=\"label\", data=avg_daily_items_pd)\n",
    "plt.show()\n",
    "%matplot plt"
   ]
  },
  {
   "cell_type": "markdown",
   "metadata": {},
   "source": [
    "### Average session duration"
   ]
  },
  {
   "cell_type": "code",
   "execution_count": 112,
   "metadata": {},
   "outputs": [
    {
     "data": {
      "application/vnd.jupyter.widget-view+json": {
       "model_id": "f444e01aeb394bdeba99b2dffbe050ad",
       "version_major": 2,
       "version_minor": 0
      },
      "text/plain": [
       "VBox()"
      ]
     },
     "metadata": {},
     "output_type": "display_data"
    },
    {
     "data": {
      "application/vnd.jupyter.widget-view+json": {
       "model_id": "",
       "version_major": 2,
       "version_minor": 0
      },
      "text/plain": [
       "FloatProgress(value=0.0, bar_style='info', description='Progress:', layout=Layout(height='25px', width='50%'),…"
      ]
     },
     "metadata": {},
     "output_type": "display_data"
    },
    {
     "name": "stderr",
     "output_type": "stream",
     "text": [
      "Exception in thread cell_monitor-111:\n",
      "Traceback (most recent call last):\n",
      "  File \"/opt/conda/lib/python3.7/threading.py\", line 926, in _bootstrap_inner\n",
      "    self.run()\n",
      "  File \"/opt/conda/lib/python3.7/threading.py\", line 870, in run\n",
      "    self._target(*self._args, **self._kwargs)\n",
      "  File \"/opt/conda/lib/python3.7/site-packages/awseditorssparkmonitoringwidget-1.0-py3.7.egg/awseditorssparkmonitoringwidget/cellmonitor.py\", line 178, in cell_monitor\n",
      "    job_binned_stages[job_id][stage_id] = all_stages[stage_id]\n",
      "KeyError: 3396\n",
      "\n"
     ]
    },
    {
     "name": "stdout",
     "output_type": "stream",
     "text": [
      "+-------+-----------------+---------+------+---------+------+--------+--------------------+------+-------------+-----+-------------------+----------+-----+-------+-----+----------+---------------+-----------+--------------+---------------+-------------------+\n",
      "| userId|           artist|     auth|gender|   length|method|    page|                song|status|           ts|state|         epoch_time|      date|month|  agent|label|downgraded|registered_days|valid_level|avg_daily_song|avg_daily_items|        avg_session|\n",
      "+-------+-----------------+---------+------+---------+------+--------+--------------------+------+-------------+-----+-------------------+----------+-----+-------+-----+----------+---------------+-----------+--------------+---------------+-------------------+\n",
      "|1001393|             null|Logged In|     M|     null|   GET|    Home|                null|   200|1538365753000|   OH|2018-10-01 03:49:13|2018-10-01|   10|Windows|    0|         1|             59|       paid|          61.5|         95.875|0.21680224867724865|\n",
      "|1001393|Eric Burdon & War|Logged In|     M|295.70567|   PUT|NextSong|They Can't Take A...|   200|1538365853000|   OH|2018-10-01 03:50:53|2018-10-01|   10|Windows|    0|         1|             59|       paid|          61.5|         95.875|0.21680224867724865|\n",
      "+-------+-----------------+---------+------+---------+------+--------+--------------------+------+-------------+-----+-------------------+----------+-----+-------+-----+----------+---------------+-----------+--------------+---------------+-------------------+\n",
      "only showing top 2 rows"
     ]
    }
   ],
   "source": [
    "session_duration = df_clean.groupBy('userId','sessionId').agg(((max('ts')-min('ts'))/86400000).alias('activesession'))\n",
    "session_duration_df = session_duration.groupBy('userId').avg('activesession').withColumnRenamed('avg(activesession)', 'avg_session')\n",
    "df_clean = df_clean.join(session_duration_df, on='userId')\n",
    "df_clean = df_clean.drop('sessionId')\n",
    "df_clean.show(2)\n",
    "avg_session_pd = df_clean.select(['userId','avg_session','label']).drop_duplicates(['userId']).sort(\"label\").toPandas()"
   ]
  },
  {
   "cell_type": "code",
   "execution_count": 113,
   "metadata": {},
   "outputs": [
    {
     "data": {
      "application/vnd.jupyter.widget-view+json": {
       "model_id": "4d7bb0fd167943f1b90293e0649d6709",
       "version_major": 2,
       "version_minor": 0
      },
      "text/plain": [
       "VBox()"
      ]
     },
     "metadata": {},
     "output_type": "display_data"
    },
    {
     "data": {
      "application/vnd.jupyter.widget-view+json": {
       "model_id": "",
       "version_major": 2,
       "version_minor": 0
      },
      "text/plain": [
       "FloatProgress(value=0.0, bar_style='info', description='Progress:', layout=Layout(height='25px', width='50%'),…"
      ]
     },
     "metadata": {},
     "output_type": "display_data"
    },
    {
     "data": {
      "image/png": "[encoded data removed]",
      "text/plain": [
       "<IPython.core.display.Image object>"
      ]
     },
     "metadata": {},
     "output_type": "display_data"
    }
   ],
   "source": [
    "plt.figure()\n",
    "sb.boxplot(y=\"avg_session\", x=\"label\", data=avg_session_pd)\n",
    "plt.show()\n",
    "%matplot plt"
   ]
  },
  {
   "cell_type": "markdown",
   "metadata": {},
   "source": [
    "### Agent used by stayed and churned users"
   ]
  },
  {
   "cell_type": "code",
   "execution_count": 114,
   "metadata": {},
   "outputs": [
    {
     "data": {
      "application/vnd.jupyter.widget-view+json": {
       "model_id": "e9ff6a4ade0c492e977aa23bca4f4706",
       "version_major": 2,
       "version_minor": 0
      },
      "text/plain": [
       "VBox()"
      ]
     },
     "metadata": {},
     "output_type": "display_data"
    },
    {
     "data": {
      "application/vnd.jupyter.widget-view+json": {
       "model_id": "",
       "version_major": 2,
       "version_minor": 0
      },
      "text/plain": [
       "FloatProgress(value=0.0, bar_style='info', description='Progress:', layout=Layout(height='25px', width='50%'),…"
      ]
     },
     "metadata": {},
     "output_type": "display_data"
    },
    {
     "name": "stderr",
     "output_type": "stream",
     "text": [
      "Exception in thread cell_monitor-113:\n",
      "Traceback (most recent call last):\n",
      "  File \"/opt/conda/lib/python3.7/threading.py\", line 926, in _bootstrap_inner\n",
      "    self.run()\n",
      "  File \"/opt/conda/lib/python3.7/threading.py\", line 870, in run\n",
      "    self._target(*self._args, **self._kwargs)\n",
      "  File \"/opt/conda/lib/python3.7/site-packages/awseditorssparkmonitoringwidget-1.0-py3.7.egg/awseditorssparkmonitoringwidget/cellmonitor.py\", line 178, in cell_monitor\n",
      "    job_binned_stages[job_id][stage_id] = all_stages[stage_id]\n",
      "KeyError: 3482\n",
      "\n"
     ]
    }
   ],
   "source": [
    "device_pd = df_clean.groupBy(\"agent\", \"label\").agg(countDistinct(\"UserId\").alias(\"users\")).sort(col(\"users\").desc()).toPandas()"
   ]
  },
  {
   "cell_type": "code",
   "execution_count": 115,
   "metadata": {},
   "outputs": [
    {
     "data": {
      "application/vnd.jupyter.widget-view+json": {
       "model_id": "6d23fe52928f4128b2a7c2c1429e864b",
       "version_major": 2,
       "version_minor": 0
      },
      "text/plain": [
       "VBox()"
      ]
     },
     "metadata": {},
     "output_type": "display_data"
    },
    {
     "data": {
      "application/vnd.jupyter.widget-view+json": {
       "model_id": "",
       "version_major": 2,
       "version_minor": 0
      },
      "text/plain": [
       "FloatProgress(value=0.0, bar_style='info', description='Progress:', layout=Layout(height='25px', width='50%'),…"
      ]
     },
     "metadata": {},
     "output_type": "display_data"
    },
    {
     "data": {
      "image/png": "[encoded data removed]",
      "text/plain": [
       "<IPython.core.display.Image object>"
      ]
     },
     "metadata": {},
     "output_type": "display_data"
    }
   ],
   "source": [
    "plt.figure()\n",
    "sb.barplot(x=\"agent\", y=\"users\", hue=\"label\", data=device_pd)\n",
    "plt.show()\n",
    "%matplot plt"
   ]
  },
  {
   "cell_type": "markdown",
   "metadata": {},
   "source": [
    "### State of stayed and churned users"
   ]
  },
  {
   "cell_type": "code",
   "execution_count": 116,
   "metadata": {},
   "outputs": [
    {
     "data": {
      "application/vnd.jupyter.widget-view+json": {
       "model_id": "17fa5659788e45ec830cd22cb6e7d8f2",
       "version_major": 2,
       "version_minor": 0
      },
      "text/plain": [
       "VBox()"
      ]
     },
     "metadata": {},
     "output_type": "display_data"
    },
    {
     "data": {
      "application/vnd.jupyter.widget-view+json": {
       "model_id": "",
       "version_major": 2,
       "version_minor": 0
      },
      "text/plain": [
       "FloatProgress(value=0.0, bar_style='info', description='Progress:', layout=Layout(height='25px', width='50%'),…"
      ]
     },
     "metadata": {},
     "output_type": "display_data"
    }
   ],
   "source": [
    "state_pd = df_clean.groupBy(\"state\", \"label\").agg(countDistinct(\"UserId\").alias(\"users\")).sort(col(\"users\").desc()).toPandas()\n",
    "#sb.barplot(x=\"state\", y=\"users\", hue=\"label\", data=state_pd)\n",
    "#sb.set(rc={'figure.figsize':(11.7,8.27)})"
   ]
  },
  {
   "cell_type": "code",
   "execution_count": 117,
   "metadata": {},
   "outputs": [
    {
     "data": {
      "application/vnd.jupyter.widget-view+json": {
       "model_id": "c944e98aa4354c81a67ca28838c31384",
       "version_major": 2,
       "version_minor": 0
      },
      "text/plain": [
       "VBox()"
      ]
     },
     "metadata": {},
     "output_type": "display_data"
    },
    {
     "data": {
      "application/vnd.jupyter.widget-view+json": {
       "model_id": "",
       "version_major": 2,
       "version_minor": 0
      },
      "text/plain": [
       "FloatProgress(value=0.0, bar_style='info', description='Progress:', layout=Layout(height='25px', width='50%'),…"
      ]
     },
     "metadata": {},
     "output_type": "display_data"
    },
    {
     "data": {
      "image/png": "[encoded data removed]",
      "text/plain": [
       "<IPython.core.display.Image object>"
      ]
     },
     "metadata": {},
     "output_type": "display_data"
    }
   ],
   "source": [
    "plt.figure(figsize=(25,25))\n",
    "ax = sb.barplot(y=\"state\", x=\"users\", hue=\"label\", data=state_pd)\n",
    "plt.xlabel('users',fontsize=24)\n",
    "plt.ylabel('state',fontsize=24)\n",
    "plt.legend(title='label', loc='best',fontsize=20)\n",
    "plt.title('User state location count',fontsize=26)\n",
    "plt.xticks(fontsize=20)\n",
    "plt.yticks(fontsize=20)\n",
    "sb.despine(ax=ax)\n",
    "plt.show()\n",
    "%matplot plt"
   ]
  },
  {
   "cell_type": "markdown",
   "metadata": {},
   "source": [
    "## Feature Engineering\n",
    "Once you've familiarized yourself with the data, build out the features you find promising to train your model on. To work with the full dataset, you can follow the following steps.\n",
    "- Write a script to extract the necessary features from the smaller subset of data\n",
    "- Ensure that your script is scalable, using the best practices discussed in Lesson 3\n",
    "- Try your script on the full data set, debugging your script if necessary\n",
    "\n",
    "If you are working in the classroom workspace, you can just extract features based on the small subset of data contained here. Be sure to transfer over this work to the larger dataset when you work on your Spark cluster."
   ]
  },
  {
   "cell_type": "code",
   "execution_count": 118,
   "metadata": {},
   "outputs": [
    {
     "data": {
      "application/vnd.jupyter.widget-view+json": {
       "model_id": "688c5cfe004d46afa735c7bceb75e863",
       "version_major": 2,
       "version_minor": 0
      },
      "text/plain": [
       "VBox()"
      ]
     },
     "metadata": {},
     "output_type": "display_data"
    },
    {
     "data": {
      "application/vnd.jupyter.widget-view+json": {
       "model_id": "",
       "version_major": 2,
       "version_minor": 0
      },
      "text/plain": [
       "FloatProgress(value=0.0, bar_style='info', description='Progress:', layout=Layout(height='25px', width='50%'),…"
      ]
     },
     "metadata": {},
     "output_type": "display_data"
    },
    {
     "name": "stdout",
     "output_type": "stream",
     "text": [
      "['userId', 'artist', 'auth', 'gender', 'length', 'method', 'page', 'song', 'status', 'ts', 'state', 'epoch_time', 'date', 'month', 'agent', 'label', 'downgraded', 'registered_days', 'valid_level', 'avg_daily_song', 'avg_daily_items', 'avg_session']"
     ]
    }
   ],
   "source": [
    "df_clean.columns"
   ]
  },
  {
   "cell_type": "code",
   "execution_count": 119,
   "metadata": {},
   "outputs": [
    {
     "data": {
      "application/vnd.jupyter.widget-view+json": {
       "model_id": "58be8eb73c5546c0a835f0e5843a8879",
       "version_major": 2,
       "version_minor": 0
      },
      "text/plain": [
       "VBox()"
      ]
     },
     "metadata": {},
     "output_type": "display_data"
    },
    {
     "data": {
      "application/vnd.jupyter.widget-view+json": {
       "model_id": "",
       "version_major": 2,
       "version_minor": 0
      },
      "text/plain": [
       "FloatProgress(value=0.0, bar_style='info', description='Progress:', layout=Layout(height='25px', width='50%'),…"
      ]
     },
     "metadata": {},
     "output_type": "display_data"
    }
   ],
   "source": [
    "df_model = df_clean.select(['userId','label','downgraded','gender','valid_level','agent','state','registered_days','avg_daily_items','avg_session','avg_daily_song']).dropDuplicates(['userId'])"
   ]
  },
  {
   "cell_type": "code",
   "execution_count": 120,
   "metadata": {},
   "outputs": [
    {
     "data": {
      "application/vnd.jupyter.widget-view+json": {
       "model_id": "a157a9801ba74c45b9a13fd08c739a9f",
       "version_major": 2,
       "version_minor": 0
      },
      "text/plain": [
       "VBox()"
      ]
     },
     "metadata": {},
     "output_type": "display_data"
    },
    {
     "data": {
      "application/vnd.jupyter.widget-view+json": {
       "model_id": "",
       "version_major": 2,
       "version_minor": 0
      },
      "text/plain": [
       "FloatProgress(value=0.0, bar_style='info', description='Progress:', layout=Layout(height='25px', width='50%'),…"
      ]
     },
     "metadata": {},
     "output_type": "display_data"
    },
    {
     "name": "stderr",
     "output_type": "stream",
     "text": [
      "Exception in thread cell_monitor-115:\n",
      "Traceback (most recent call last):\n",
      "  File \"/opt/conda/lib/python3.7/threading.py\", line 926, in _bootstrap_inner\n",
      "    self.run()\n",
      "  File \"/opt/conda/lib/python3.7/threading.py\", line 870, in run\n",
      "    self._target(*self._args, **self._kwargs)\n",
      "  File \"/opt/conda/lib/python3.7/site-packages/awseditorssparkmonitoringwidget-1.0-py3.7.egg/awseditorssparkmonitoringwidget/cellmonitor.py\", line 178, in cell_monitor\n",
      "    job_binned_stages[job_id][stage_id] = all_stages[stage_id]\n",
      "KeyError: 3583\n",
      "\n"
     ]
    },
    {
     "name": "stdout",
     "output_type": "stream",
     "text": [
      "+-------+-----+----------+------+-----------+---------+-----+---------------+------------------+-------------------+------------------+\n",
      "|userId |label|downgraded|gender|valid_level|agent    |state|registered_days|avg_daily_items   |avg_session        |avg_daily_song    |\n",
      "+-------+-----+----------+------+-----------+---------+-----+---------------+------------------+-------------------+------------------+\n",
      "|1001393|0    |1         |M     |paid       |Windows  |OH   |59             |95.875            |0.21680224867724868|61.5              |\n",
      "|1004316|0    |1         |M     |paid       |Windows  |CA   |59             |86.86666666666666 |0.19163734567901233|65.2              |\n",
      "|1008404|1    |1         |F     |paid       |Macintosh|FL   |111            |162.1891891891892 |0.27197680898491083|132.35135135135135|\n",
      "|1010669|0    |1         |M     |paid       |Macintosh|PA   |108            |162.6153846153846 |0.3761651234567901 |98.38461538461539 |\n",
      "|1011149|0    |1         |M     |paid       |Macintosh|CA   |76             |80.66666666666667 |0.187224537037037  |54.75             |\n",
      "|1021352|0    |0         |F     |free       |iPhone   |MN   |130            |81.33333333333333 |0.15029265873015873|41.44444444444444 |\n",
      "|1025974|1    |1         |F     |paid       |Macintosh|OK   |62             |104.36363636363636|0.17665930134680136|61.81818181818182 |\n",
      "|1028956|1    |1         |F     |paid       |Macintosh|OH   |48             |74.5              |0.14049537037037035|50.5              |\n",
      "|1031677|0    |0         |M     |free       |Windows  |NC-SC|24             |88.0              |0.19354166666666667|67.0              |\n",
      "|1045971|0    |1         |M     |free       |Windows  |TN   |110            |62.6875           |0.12919994212962962|44.3125           |\n",
      "+-------+-----+----------+------+-----------+---------+-----+---------------+------------------+-------------------+------------------+\n",
      "only showing top 10 rows\n",
      "\n",
      "['userId', 'label', 'downgraded', 'gender', 'valid_level', 'agent', 'state', 'registered_days', 'avg_daily_items', 'avg_session', 'avg_daily_song']"
     ]
    }
   ],
   "source": [
    "df_model.show(10,False)\n",
    "df_model.columns"
   ]
  },
  {
   "cell_type": "code",
   "execution_count": 121,
   "metadata": {},
   "outputs": [
    {
     "data": {
      "application/vnd.jupyter.widget-view+json": {
       "model_id": "5acee1c0410145d5becc73bafcfb2b24",
       "version_major": 2,
       "version_minor": 0
      },
      "text/plain": [
       "VBox()"
      ]
     },
     "metadata": {},
     "output_type": "display_data"
    },
    {
     "data": {
      "application/vnd.jupyter.widget-view+json": {
       "model_id": "",
       "version_major": 2,
       "version_minor": 0
      },
      "text/plain": [
       "FloatProgress(value=0.0, bar_style='info', description='Progress:', layout=Layout(height='25px', width='50%'),…"
      ]
     },
     "metadata": {},
     "output_type": "display_data"
    },
    {
     "name": "stderr",
     "output_type": "stream",
     "text": [
      "Exception in thread cell_monitor-120:\n",
      "Traceback (most recent call last):\n",
      "  File \"/opt/conda/lib/python3.7/threading.py\", line 926, in _bootstrap_inner\n",
      "    self.run()\n",
      "  File \"/opt/conda/lib/python3.7/threading.py\", line 870, in run\n",
      "    self._target(*self._args, **self._kwargs)\n",
      "  File \"/opt/conda/lib/python3.7/site-packages/awseditorssparkmonitoringwidget-1.0-py3.7.egg/awseditorssparkmonitoringwidget/cellmonitor.py\", line 178, in cell_monitor\n",
      "    job_binned_stages[job_id][stage_id] = all_stages[stage_id]\n",
      "KeyError: 3696\n",
      "\n"
     ]
    },
    {
     "name": "stdout",
     "output_type": "stream",
     "text": [
      "22277"
     ]
    }
   ],
   "source": [
    "df_model.count()"
   ]
  },
  {
   "cell_type": "markdown",
   "metadata": {},
   "source": [
    "### Transform categorical columns with StringIndexer"
   ]
  },
  {
   "cell_type": "code",
   "execution_count": 122,
   "metadata": {},
   "outputs": [
    {
     "data": {
      "application/vnd.jupyter.widget-view+json": {
       "model_id": "d8c7ee226b344ff19ef90f36bbc7447c",
       "version_major": 2,
       "version_minor": 0
      },
      "text/plain": [
       "VBox()"
      ]
     },
     "metadata": {},
     "output_type": "display_data"
    },
    {
     "data": {
      "application/vnd.jupyter.widget-view+json": {
       "model_id": "",
       "version_major": 2,
       "version_minor": 0
      },
      "text/plain": [
       "FloatProgress(value=0.0, bar_style='info', description='Progress:', layout=Layout(height='25px', width='50%'),…"
      ]
     },
     "metadata": {},
     "output_type": "display_data"
    },
    {
     "name": "stdout",
     "output_type": "stream",
     "text": [
      "+-----+----------+---------------+---------------+------------------+--------------+------------+-----------------+-----------+-----------+\n",
      "|label|downgraded|registered_days|avg_daily_items|       avg_session|avg_daily_song|gender_index|valid_level_index|agent_index|state_index|\n",
      "+-----+----------+---------------+---------------+------------------+--------------+------------+-----------------+-----------+-----------+\n",
      "|    0|         1|             59|         95.875|0.2168022486772487|          61.5|         0.0|              0.0|        0.0|        4.0|\n",
      "+-----+----------+---------------+---------------+------------------+--------------+------------+-----------------+-----------+-----------+\n",
      "only showing top 1 row"
     ]
    },
    {
     "name": "stderr",
     "output_type": "stream",
     "text": [
      "Exception in thread cell_monitor-139:\n",
      "Traceback (most recent call last):\n",
      "  File \"/opt/conda/lib/python3.7/threading.py\", line 926, in _bootstrap_inner\n",
      "    self.run()\n",
      "  File \"/opt/conda/lib/python3.7/threading.py\", line 870, in run\n",
      "    self._target(*self._args, **self._kwargs)\n",
      "  File \"/opt/conda/lib/python3.7/site-packages/awseditorssparkmonitoringwidget-1.0-py3.7.egg/awseditorssparkmonitoringwidget/cellmonitor.py\", line 178, in cell_monitor\n",
      "    job_binned_stages[job_id][stage_id] = all_stages[stage_id]\n",
      "KeyError: 6687\n",
      "\n"
     ]
    }
   ],
   "source": [
    "indexers = [StringIndexer(inputCol=column, outputCol=column+\"_index\").fit(df_model) for column in ['gender','valid_level','agent','state'] ]\n",
    "pipeline = Pipeline(stages=indexers)\n",
    "df_r = pipeline.fit(df_model).transform(df_model)\n",
    "df_model = df_r.drop('gender','valid_level','agent','state','userId')\n",
    "df_model.show(1)"
   ]
  },
  {
   "cell_type": "markdown",
   "metadata": {},
   "source": [
    "### Standard sclarizer\n",
    "Use StandardScaler to scalerize the created “scaled_feature” column"
   ]
  },
  {
   "cell_type": "code",
   "execution_count": 123,
   "metadata": {},
   "outputs": [
    {
     "data": {
      "application/vnd.jupyter.widget-view+json": {
       "model_id": "5504d359783546b2aea59310d545cefc",
       "version_major": 2,
       "version_minor": 0
      },
      "text/plain": [
       "VBox()"
      ]
     },
     "metadata": {},
     "output_type": "display_data"
    },
    {
     "data": {
      "application/vnd.jupyter.widget-view+json": {
       "model_id": "",
       "version_major": 2,
       "version_minor": 0
      },
      "text/plain": [
       "FloatProgress(value=0.0, bar_style='info', description='Progress:', layout=Layout(height='25px', width='50%'),…"
      ]
     },
     "metadata": {},
     "output_type": "display_data"
    },
    {
     "name": "stdout",
     "output_type": "stream",
     "text": [
      "+----------------------------------------------------------------+\n",
      "|features                                                        |\n",
      "+----------------------------------------------------------------+\n",
      "|[59.0,95.875,0.21680224867724865,61.5]                          |\n",
      "|[58.0,155.5,0.31459490740740736,107.42307692307692]             |\n",
      "|[59.0,86.86666666666666,0.1916373456790123,65.2]                |\n",
      "|[61.0,161.5,0.5334548611111112,117.0]                           |\n",
      "|[111.0,162.1891891891892,0.27197680898491083,132.35135135135135]|\n",
      "|[108.0,162.6153846153846,0.37616512345679015,98.38461538461539] |\n",
      "|[64.0,114.11111111111111,0.2274754050925926,64.5]               |\n",
      "|[76.0,80.66666666666667,0.18722453703703704,54.75]              |\n",
      "|[19.0,36.25,0.06375868055555556,22.5]                           |\n",
      "|[61.0,157.77777777777777,0.3818402777777778,101.0]              |\n",
      "|[130.0,81.33333333333333,0.15029265873015873,41.44444444444444] |\n",
      "|[62.0,104.36363636363636,0.17665930134680133,61.81818181818182] |\n",
      "|[48.0,74.5,0.14049537037037035,50.5]                            |\n",
      "|[24.0,88.0,0.19354166666666667,67.0]                            |\n",
      "|[110.0,62.6875,0.12919994212962962,44.3125]                     |\n",
      "|[127.0,99.02941176470588,0.20187991021324356,63.294117647058826]|\n",
      "|[66.0,125.75,0.2795705409356725,90.95]                          |\n",
      "|[93.0,61.8,0.10883680555555555,30.2]                            |\n",
      "|[100.0,28.9,0.07256815843621399,23.0]                           |\n",
      "|[74.0,63.7,0.14487847222222222,50.6]                            |\n",
      "+----------------------------------------------------------------+\n",
      "only showing top 20 rows"
     ]
    }
   ],
   "source": [
    "# assembeling numeric features to create a vector\n",
    "cols=['registered_days','avg_daily_items','avg_session','avg_daily_song']\n",
    "assembler = VectorAssembler(inputCols=cols,outputCol=\"features\")\n",
    "\n",
    "# use the transform method to transform df\n",
    "df_model = assembler.transform(df_model)\n",
    "df_model.select(\"features\").show(truncate=False)"
   ]
  },
  {
   "cell_type": "code",
   "execution_count": 124,
   "metadata": {},
   "outputs": [
    {
     "data": {
      "application/vnd.jupyter.widget-view+json": {
       "model_id": "3cc84af4927c4fb08801db31d905daa9",
       "version_major": 2,
       "version_minor": 0
      },
      "text/plain": [
       "VBox()"
      ]
     },
     "metadata": {},
     "output_type": "display_data"
    },
    {
     "data": {
      "application/vnd.jupyter.widget-view+json": {
       "model_id": "",
       "version_major": 2,
       "version_minor": 0
      },
      "text/plain": [
       "FloatProgress(value=0.0, bar_style='info', description='Progress:', layout=Layout(height='25px', width='50%'),…"
      ]
     },
     "metadata": {},
     "output_type": "display_data"
    },
    {
     "name": "stdout",
     "output_type": "stream",
     "text": [
      "+-----------------------------------------------------------------------------+\n",
      "|Scaled_features                                                              |\n",
      "+-----------------------------------------------------------------------------+\n",
      "|[1.4432028550033484,1.8153048912585479,1.7605856980437384,1.9553180852305552]|\n",
      "|[1.4187417896643086,2.944249393384138,2.5547303961935297,3.4153867492488685] |\n",
      "+-----------------------------------------------------------------------------+\n",
      "only showing top 2 rows"
     ]
    }
   ],
   "source": [
    "# standardize numeric feature vector\n",
    "standardscaler=StandardScaler().setInputCol(\"features\").setOutputCol(\"Scaled_features\")\n",
    "df_model = standardscaler.fit(df_model).transform(df_model)\n",
    "df_model.select(\"Scaled_features\").show(2,False)"
   ]
  },
  {
   "cell_type": "markdown",
   "metadata": {},
   "source": [
    "### Combine all features in one single feature vector"
   ]
  },
  {
   "cell_type": "code",
   "execution_count": 125,
   "metadata": {},
   "outputs": [
    {
     "data": {
      "application/vnd.jupyter.widget-view+json": {
       "model_id": "2aea90f2bd1f483680025c2d427d2365",
       "version_major": 2,
       "version_minor": 0
      },
      "text/plain": [
       "VBox()"
      ]
     },
     "metadata": {},
     "output_type": "display_data"
    },
    {
     "data": {
      "application/vnd.jupyter.widget-view+json": {
       "model_id": "",
       "version_major": 2,
       "version_minor": 0
      },
      "text/plain": [
       "FloatProgress(value=0.0, bar_style='info', description='Progress:', layout=Layout(height='25px', width='50%'),…"
      ]
     },
     "metadata": {},
     "output_type": "display_data"
    },
    {
     "name": "stdout",
     "output_type": "stream",
     "text": [
      "['label', 'downgraded', 'registered_days', 'avg_daily_items', 'avg_session', 'avg_daily_song', 'gender_index', 'valid_level_index', 'agent_index', 'state_index', 'features', 'Scaled_features']"
     ]
    }
   ],
   "source": [
    "df_model.columns"
   ]
  },
  {
   "cell_type": "code",
   "execution_count": 126,
   "metadata": {},
   "outputs": [
    {
     "data": {
      "application/vnd.jupyter.widget-view+json": {
       "model_id": "cab20ab22e544f398544d83355f662b5",
       "version_major": 2,
       "version_minor": 0
      },
      "text/plain": [
       "VBox()"
      ]
     },
     "metadata": {},
     "output_type": "display_data"
    },
    {
     "data": {
      "application/vnd.jupyter.widget-view+json": {
       "model_id": "",
       "version_major": 2,
       "version_minor": 0
      },
      "text/plain": [
       "FloatProgress(value=0.0, bar_style='info', description='Progress:', layout=Layout(height='25px', width='50%'),…"
      ]
     },
     "metadata": {},
     "output_type": "display_data"
    },
    {
     "name": "stdout",
     "output_type": "stream",
     "text": [
      "+-------------------------------------------------------------------------------------------------+\n",
      "|exp_features                                                                                     |\n",
      "+-------------------------------------------------------------------------------------------------+\n",
      "|[1.4432028550033484,1.8153048912585479,1.7605856980437384,1.9553180852305552,1.0,0.0,0.0,0.0,4.0]|\n",
      "|[1.4432028550033484,1.64474038995907,1.5562291077331407,2.072955108244426,1.0,0.0,0.0,0.0,0.0]   |\n",
      "|[2.715178252633418,3.0709030346220927,2.208641667786619,4.207951071577249,1.0,1.0,0.0,1.0,3.0]   |\n",
      "+-------------------------------------------------------------------------------------------------+\n",
      "only showing top 3 rows"
     ]
    }
   ],
   "source": [
    "cols=['Scaled_features','downgraded','gender_index','valid_level_index','agent_index','state_index']\n",
    "assembler = VectorAssembler(inputCols=cols,outputCol='exp_features')\n",
    "# use the transform method to transform df\n",
    "df_model = assembler.transform(df_model)\n",
    "df_model.select('exp_features').show(n=3,truncate=False)"
   ]
  },
  {
   "cell_type": "markdown",
   "metadata": {},
   "source": [
    "## Modeling\n",
    "Split the full dataset into train, test, and validation sets. Test out several of the machine learning methods you learned. Evaluate the accuracy of the various models, tuning parameters as necessary. Determine your winning model based on test accuracy and report results on the validation set. Since the churned users are a fairly small subset, I suggest using F1 score as the metric to optimize."
   ]
  },
  {
   "cell_type": "markdown",
   "metadata": {},
   "source": [
    "### Train test split\n",
    "As a first step break your data set into 80% of training data and set aside 20%. Set random seed to `42`."
   ]
  },
  {
   "cell_type": "code",
   "execution_count": 127,
   "metadata": {},
   "outputs": [
    {
     "data": {
      "application/vnd.jupyter.widget-view+json": {
       "model_id": "b442a35de5124c97b8017309634e1216",
       "version_major": 2,
       "version_minor": 0
      },
      "text/plain": [
       "VBox()"
      ]
     },
     "metadata": {},
     "output_type": "display_data"
    },
    {
     "data": {
      "application/vnd.jupyter.widget-view+json": {
       "model_id": "",
       "version_major": 2,
       "version_minor": 0
      },
      "text/plain": [
       "FloatProgress(value=0.0, bar_style='info', description='Progress:', layout=Layout(height='25px', width='50%'),…"
      ]
     },
     "metadata": {},
     "output_type": "display_data"
    }
   ],
   "source": [
    "rest, validation = df_model.randomSplit([0.8, 0.2], seed=42)"
   ]
  },
  {
   "cell_type": "markdown",
   "metadata": {},
   "source": [
    "### Check imbalance in the dataset"
   ]
  },
  {
   "cell_type": "code",
   "execution_count": 128,
   "metadata": {},
   "outputs": [
    {
     "data": {
      "application/vnd.jupyter.widget-view+json": {
       "model_id": "0593a0eb22f84b1588999e571907eddd",
       "version_major": 2,
       "version_minor": 0
      },
      "text/plain": [
       "VBox()"
      ]
     },
     "metadata": {},
     "output_type": "display_data"
    },
    {
     "data": {
      "application/vnd.jupyter.widget-view+json": {
       "model_id": "",
       "version_major": 2,
       "version_minor": 0
      },
      "text/plain": [
       "FloatProgress(value=0.0, bar_style='info', description='Progress:', layout=Layout(height='25px', width='50%'),…"
      ]
     },
     "metadata": {},
     "output_type": "display_data"
    },
    {
     "name": "stdout",
     "output_type": "stream",
     "text": [
      "The number of ones are 4013\n",
      "Percentage of ones are 22.485571804785117"
     ]
    }
   ],
   "source": [
    "dataset_size = float(rest.select('label').count())\n",
    "numPositives = rest.select('label').where('label == 1').count()\n",
    "per_ones = (float(numPositives)/float(dataset_size))*100\n",
    "numNegatives = float(dataset_size-numPositives)\n",
    "print('The number of ones are {}'.format(numPositives))\n",
    "print('Percentage of ones are {}'.format(per_ones))"
   ]
  },
  {
   "cell_type": "markdown",
   "metadata": {},
   "source": [
    "### Class weighing"
   ]
  },
  {
   "cell_type": "code",
   "execution_count": 129,
   "metadata": {},
   "outputs": [
    {
     "data": {
      "application/vnd.jupyter.widget-view+json": {
       "model_id": "1beafd14b8b440df91bb4cb5e89c6421",
       "version_major": 2,
       "version_minor": 0
      },
      "text/plain": [
       "VBox()"
      ]
     },
     "metadata": {},
     "output_type": "display_data"
    },
    {
     "data": {
      "application/vnd.jupyter.widget-view+json": {
       "model_id": "",
       "version_major": 2,
       "version_minor": 0
      },
      "text/plain": [
       "FloatProgress(value=0.0, bar_style='info', description='Progress:', layout=Layout(height='25px', width='50%'),…"
      ]
     },
     "metadata": {},
     "output_type": "display_data"
    },
    {
     "name": "stdout",
     "output_type": "stream",
     "text": [
      "BalancingRatio = 0.7751442819521488"
     ]
    }
   ],
   "source": [
    "BalancingRatio= numNegatives/dataset_size\n",
    "print('BalancingRatio = {}'.format(BalancingRatio))"
   ]
  },
  {
   "cell_type": "code",
   "execution_count": 130,
   "metadata": {},
   "outputs": [
    {
     "data": {
      "application/vnd.jupyter.widget-view+json": {
       "model_id": "72c0c3b6ee094241a9f85cd03e76aebf",
       "version_major": 2,
       "version_minor": 0
      },
      "text/plain": [
       "VBox()"
      ]
     },
     "metadata": {},
     "output_type": "display_data"
    },
    {
     "data": {
      "application/vnd.jupyter.widget-view+json": {
       "model_id": "",
       "version_major": 2,
       "version_minor": 0
      },
      "text/plain": [
       "FloatProgress(value=0.0, bar_style='info', description='Progress:', layout=Layout(height='25px', width='50%'),…"
      ]
     },
     "metadata": {},
     "output_type": "display_data"
    },
    {
     "name": "stdout",
     "output_type": "stream",
     "text": [
      "+------------------+\n",
      "|      classWeights|\n",
      "+------------------+\n",
      "|0.2248557180478512|\n",
      "|0.2248557180478512|\n",
      "|0.2248557180478512|\n",
      "|0.2248557180478512|\n",
      "|0.2248557180478512|\n",
      "+------------------+\n",
      "only showing top 5 rows"
     ]
    }
   ],
   "source": [
    "# creating a new column named “classWeights” in the “rest” dataset\n",
    "rest = rest.withColumn(\"classWeights\", when(rest.label == 1,BalancingRatio).otherwise(1-BalancingRatio))\n",
    "rest.select(\"classWeights\").show(5)"
   ]
  },
  {
   "cell_type": "markdown",
   "metadata": {},
   "source": [
    "### Logistic regression model"
   ]
  },
  {
   "cell_type": "code",
   "execution_count": 131,
   "metadata": {},
   "outputs": [
    {
     "data": {
      "application/vnd.jupyter.widget-view+json": {
       "model_id": "16f012b2a6094b759a2ec1c75d68c3f1",
       "version_major": 2,
       "version_minor": 0
      },
      "text/plain": [
       "VBox()"
      ]
     },
     "metadata": {},
     "output_type": "display_data"
    },
    {
     "data": {
      "application/vnd.jupyter.widget-view+json": {
       "model_id": "",
       "version_major": 2,
       "version_minor": 0
      },
      "text/plain": [
       "FloatProgress(value=0.0, bar_style='info', description='Progress:', layout=Layout(height='25px', width='50%'),…"
      ]
     },
     "metadata": {},
     "output_type": "display_data"
    },
    {
     "name": "stderr",
     "output_type": "stream",
     "text": [
      "Exception in thread cell_monitor-130:\n",
      "Traceback (most recent call last):\n",
      "  File \"/opt/conda/lib/python3.7/threading.py\", line 926, in _bootstrap_inner\n",
      "    self.run()\n",
      "  File \"/opt/conda/lib/python3.7/threading.py\", line 870, in run\n",
      "    self._target(*self._args, **self._kwargs)\n",
      "  File \"/opt/conda/lib/python3.7/site-packages/awseditorssparkmonitoringwidget-1.0-py3.7.egg/awseditorssparkmonitoringwidget/cellmonitor.py\", line 178, in cell_monitor\n",
      "    job_binned_stages[job_id][stage_id] = all_stages[stage_id]\n",
      "KeyError: 4683\n",
      "\n"
     ]
    },
    {
     "name": "stdout",
     "output_type": "stream",
     "text": [
      "+-----+----------+\n",
      "|label|prediction|\n",
      "+-----+----------+\n",
      "|    0|       1.0|\n",
      "|    0|       0.0|\n",
      "|    0|       1.0|\n",
      "|    0|       0.0|\n",
      "|    0|       0.0|\n",
      "|    0|       0.0|\n",
      "|    0|       0.0|\n",
      "|    0|       0.0|\n",
      "|    0|       0.0|\n",
      "|    0|       0.0|\n",
      "+-----+----------+\n",
      "only showing top 10 rows"
     ]
    }
   ],
   "source": [
    "lr = LogisticRegression(labelCol=\"label\", featuresCol=\"exp_features\",weightCol=\"classWeights\",maxIter=10)\n",
    "model = lr.fit(rest)\n",
    "predict_rest = model.transform(rest)\n",
    "predict_val = model.transform(validation)\n",
    "predict_val.select(\"label\",\"prediction\").show(10)"
   ]
  },
  {
   "cell_type": "code",
   "execution_count": 132,
   "metadata": {},
   "outputs": [
    {
     "data": {
      "application/vnd.jupyter.widget-view+json": {
       "model_id": "6dc2ee974bad4ad6adb6f2f580b42e1c",
       "version_major": 2,
       "version_minor": 0
      },
      "text/plain": [
       "VBox()"
      ]
     },
     "metadata": {},
     "output_type": "display_data"
    },
    {
     "data": {
      "application/vnd.jupyter.widget-view+json": {
       "model_id": "",
       "version_major": 2,
       "version_minor": 0
      },
      "text/plain": [
       "FloatProgress(value=0.0, bar_style='info', description='Progress:', layout=Layout(height='25px', width='50%'),…"
      ]
     },
     "metadata": {},
     "output_type": "display_data"
    },
    {
     "name": "stdout",
     "output_type": "stream",
     "text": [
      "+-----+--------------------+----------+--------------------+\n",
      "|label|       rawPrediction|prediction|         probability|\n",
      "+-----+--------------------+----------+--------------------+\n",
      "|    0|[-0.8467848306177...|       1.0|[0.30010774730474...|\n",
      "|    0|[0.04014060839957...|       0.0|[0.51003380487331...|\n",
      "|    0|[-0.0629861225313...|       1.0|[0.48425867317346...|\n",
      "|    0|[0.38391148110004...|       0.0|[0.59481615713828...|\n",
      "|    0|[0.07673638935555...|       0.0|[0.51917468912486...|\n",
      "+-----+--------------------+----------+--------------------+\n",
      "only showing top 5 rows"
     ]
    }
   ],
   "source": [
    "# Evaluating the LR model using BinaryClassificationEvaluator\n",
    "evaluator = BinaryClassificationEvaluator(rawPredictionCol=\"rawPrediction\",labelCol=\"label\")\n",
    "predict_val.select(\"label\",\"rawPrediction\",\"prediction\",\"probability\").show(5)\n",
    "#print(\"The area under ROC for train set is {}\".format(evaluator.evaluate(predict_rest)))\n",
    "#print(\"The area under ROC for test set is {}\".format(evaluator.evaluate(predict_val)))"
   ]
  },
  {
   "cell_type": "code",
   "execution_count": 133,
   "metadata": {},
   "outputs": [
    {
     "data": {
      "application/vnd.jupyter.widget-view+json": {
       "model_id": "957d73f8190941b19e59ae86af231201",
       "version_major": 2,
       "version_minor": 0
      },
      "text/plain": [
       "VBox()"
      ]
     },
     "metadata": {},
     "output_type": "display_data"
    },
    {
     "data": {
      "application/vnd.jupyter.widget-view+json": {
       "model_id": "",
       "version_major": 2,
       "version_minor": 0
      },
      "text/plain": [
       "FloatProgress(value=0.0, bar_style='info', description='Progress:', layout=Layout(height='25px', width='50%'),…"
      ]
     },
     "metadata": {},
     "output_type": "display_data"
    },
    {
     "name": "stdout",
     "output_type": "stream",
     "text": [
      "The F1 score on the train set is 69.15%\n",
      "The F1 score on the test set is 68.58%\n",
      "The areaUnderROC on the train set is 73.46%\n",
      "The areaUnderROC on the test set is 73.01%"
     ]
    }
   ],
   "source": [
    "#F1 score\n",
    "f1_score_evaluator = MulticlassClassificationEvaluator(metricName='f1')\n",
    "f1_score_rest = f1_score_evaluator.evaluate(predict_rest.select(col('label'), col('prediction')))\n",
    "f1_score_val = f1_score_evaluator.evaluate(predict_val.select(col('label'), col('prediction')))\n",
    "print('The F1 score on the train set is {:.2%}'.format(f1_score_rest))\n",
    "print('The F1 score on the test set is {:.2%}'.format(f1_score_val)) \n",
    "\n",
    "#area under ROC \n",
    "auc_evaluator = BinaryClassificationEvaluator()\n",
    "roc_value_rest = auc_evaluator.evaluate(predict_rest, {auc_evaluator.metricName: \"areaUnderROC\"})\n",
    "roc_value_val = auc_evaluator.evaluate(predict_val, {auc_evaluator.metricName: \"areaUnderROC\"})\n",
    "print('The areaUnderROC on the train set is {:.2%}'.format(roc_value_rest))\n",
    "print('The areaUnderROC on the test set is {:.2%}'.format(roc_value_val))"
   ]
  },
  {
   "cell_type": "markdown",
   "metadata": {},
   "source": [
    "### Random forest model"
   ]
  },
  {
   "cell_type": "code",
   "execution_count": 135,
   "metadata": {},
   "outputs": [
    {
     "data": {
      "application/vnd.jupyter.widget-view+json": {
       "model_id": "4c3b7c80e2b64399b478b6056ac63361",
       "version_major": 2,
       "version_minor": 0
      },
      "text/plain": [
       "VBox()"
      ]
     },
     "metadata": {},
     "output_type": "display_data"
    },
    {
     "data": {
      "application/vnd.jupyter.widget-view+json": {
       "model_id": "",
       "version_major": 2,
       "version_minor": 0
      },
      "text/plain": [
       "FloatProgress(value=0.0, bar_style='info', description='Progress:', layout=Layout(height='25px', width='50%'),…"
      ]
     },
     "metadata": {},
     "output_type": "display_data"
    },
    {
     "name": "stderr",
     "output_type": "stream",
     "text": [
      "'requirement failed: DecisionTree requires maxBins (= 32) to be at least as large as the number of values in each categorical feature, but categorical feature 8 has 100 values. Considering remove this and other categorical features with a large number of values, or add more training examples.'\n",
      "Traceback (most recent call last):\n",
      "  File \"/usr/lib/spark/python/lib/pyspark.zip/pyspark/ml/base.py\", line 132, in fit\n",
      "    return self._fit(dataset)\n",
      "  File \"/usr/lib/spark/python/lib/pyspark.zip/pyspark/ml/wrapper.py\", line 295, in _fit\n",
      "    java_model = self._fit_java(dataset)\n",
      "  File \"/usr/lib/spark/python/lib/pyspark.zip/pyspark/ml/wrapper.py\", line 292, in _fit_java\n",
      "    return self._java_obj.fit(dataset._jdf)\n",
      "  File \"/usr/lib/spark/python/lib/py4j-0.10.7-src.zip/py4j/java_gateway.py\", line 1257, in __call__\n",
      "    answer, self.gateway_client, self.target_id, self.name)\n",
      "  File \"/usr/lib/spark/python/lib/pyspark.zip/pyspark/sql/utils.py\", line 79, in deco\n",
      "    raise IllegalArgumentException(s.split(': ', 1)[1], stackTrace)\n",
      "pyspark.sql.utils.IllegalArgumentException: 'requirement failed: DecisionTree requires maxBins (= 32) to be at least as large as the number of values in each categorical feature, but categorical feature 8 has 100 values. Considering remove this and other categorical features with a large number of values, or add more training examples.'\n",
      "\n"
     ]
    }
   ],
   "source": [
    "rf = RandomForestClassifier(labelCol=\"label\", featuresCol=\"exp_features\")#,maxIter=10)#weightCol=\"classWeights\") \n",
    "model = rf.fit(rest)\n",
    "predict_rest = model.transform(rest)\n",
    "predict_val = model.transform(validation)\n",
    "predict_val.select(\"label\",\"prediction\").show(10)"
   ]
  },
  {
   "cell_type": "code",
   "execution_count": 136,
   "metadata": {},
   "outputs": [
    {
     "data": {
      "application/vnd.jupyter.widget-view+json": {
       "model_id": "d95fdcacc89349448e42e3924f8c7072",
       "version_major": 2,
       "version_minor": 0
      },
      "text/plain": [
       "VBox()"
      ]
     },
     "metadata": {},
     "output_type": "display_data"
    },
    {
     "data": {
      "application/vnd.jupyter.widget-view+json": {
       "model_id": "",
       "version_major": 2,
       "version_minor": 0
      },
      "text/plain": [
       "FloatProgress(value=0.0, bar_style='info', description='Progress:', layout=Layout(height='25px', width='50%'),…"
      ]
     },
     "metadata": {},
     "output_type": "display_data"
    },
    {
     "name": "stderr",
     "output_type": "stream",
     "text": [
      "Exception in thread cell_monitor-135:\n",
      "Traceback (most recent call last):\n",
      "  File \"/opt/conda/lib/python3.7/threading.py\", line 926, in _bootstrap_inner\n",
      "    self.run()\n",
      "  File \"/opt/conda/lib/python3.7/threading.py\", line 870, in run\n",
      "    self._target(*self._args, **self._kwargs)\n",
      "  File \"/opt/conda/lib/python3.7/site-packages/awseditorssparkmonitoringwidget-1.0-py3.7.egg/awseditorssparkmonitoringwidget/cellmonitor.py\", line 178, in cell_monitor\n",
      "    job_binned_stages[job_id][stage_id] = all_stages[stage_id]\n",
      "KeyError: 5874\n",
      "\n"
     ]
    },
    {
     "name": "stdout",
     "output_type": "stream",
     "text": [
      "+-----+--------------------+----------+--------------------+\n",
      "|label|       rawPrediction|prediction|         probability|\n",
      "+-----+--------------------+----------+--------------------+\n",
      "|    0|[-0.8467848306177...|       1.0|[0.30010774730474...|\n",
      "|    0|[0.04014060839957...|       0.0|[0.51003380487331...|\n",
      "|    0|[-0.0629861225313...|       1.0|[0.48425867317346...|\n",
      "|    0|[0.38391148110004...|       0.0|[0.59481615713828...|\n",
      "|    0|[0.07673638935555...|       0.0|[0.51917468912486...|\n",
      "+-----+--------------------+----------+--------------------+\n",
      "only showing top 5 rows\n",
      "\n",
      "The F1 score on the train set is 69.14%\n",
      "The F1 score on the test set is 68.64%\n",
      "The areaUnderROC on the train set is 73.45%\n",
      "The areaUnderROC on the test set is 73.01%"
     ]
    }
   ],
   "source": [
    "# Evaluating the RF model using BinaryClassificationEvaluator\n",
    "evaluator = BinaryClassificationEvaluator(rawPredictionCol=\"rawPrediction\",labelCol=\"label\")\n",
    "predict_val.select(\"label\",\"rawPrediction\",\"prediction\",\"probability\").show(5)\n",
    "\n",
    "#F1 score\n",
    "f1_score_evaluator = MulticlassClassificationEvaluator(metricName='f1')\n",
    "f1_score_rest = f1_score_evaluator.evaluate(predict_rest.select(col('label'), col('prediction')))\n",
    "f1_score_val = f1_score_evaluator.evaluate(predict_val.select(col('label'), col('prediction')))\n",
    "print('The F1 score on the train set is {:.2%}'.format(f1_score_rest))\n",
    "print('The F1 score on the test set is {:.2%}'.format(f1_score_val)) \n",
    "\n",
    "#area under ROC \n",
    "auc_evaluator = BinaryClassificationEvaluator()\n",
    "roc_value_rest = auc_evaluator.evaluate(predict_rest, {auc_evaluator.metricName: \"areaUnderROC\"})\n",
    "roc_value_val = auc_evaluator.evaluate(predict_val, {auc_evaluator.metricName: \"areaUnderROC\"})\n",
    "print('The areaUnderROC on the train set is {:.2%}'.format(roc_value_rest))\n",
    "print('The areaUnderROC on the test set is {:.2%}'.format(roc_value_val))"
   ]
  },
  {
   "cell_type": "markdown",
   "metadata": {},
   "source": [
    "### Gradient boosted tree model"
   ]
  },
  {
   "cell_type": "code",
   "execution_count": 137,
   "metadata": {},
   "outputs": [
    {
     "data": {
      "application/vnd.jupyter.widget-view+json": {
       "model_id": "06ee3cae2f284364a06dc926c99f8120",
       "version_major": 2,
       "version_minor": 0
      },
      "text/plain": [
       "VBox()"
      ]
     },
     "metadata": {},
     "output_type": "display_data"
    },
    {
     "data": {
      "application/vnd.jupyter.widget-view+json": {
       "model_id": "",
       "version_major": 2,
       "version_minor": 0
      },
      "text/plain": [
       "FloatProgress(value=0.0, bar_style='info', description='Progress:', layout=Layout(height='25px', width='50%'),…"
      ]
     },
     "metadata": {},
     "output_type": "display_data"
    },
    {
     "name": "stderr",
     "output_type": "stream",
     "text": [
      "Exception in thread cell_monitor-136:\n",
      "Traceback (most recent call last):\n",
      "  File \"/opt/conda/lib/python3.7/threading.py\", line 926, in _bootstrap_inner\n",
      "    self.run()\n",
      "  File \"/opt/conda/lib/python3.7/threading.py\", line 870, in run\n",
      "    self._target(*self._args, **self._kwargs)\n",
      "  File \"/opt/conda/lib/python3.7/site-packages/awseditorssparkmonitoringwidget-1.0-py3.7.egg/awseditorssparkmonitoringwidget/cellmonitor.py\", line 178, in cell_monitor\n",
      "    job_binned_stages[job_id][stage_id] = all_stages[stage_id]\n",
      "KeyError: 6077\n",
      "\n",
      "'requirement failed: DecisionTree requires maxBins (= 32) to be at least as large as the number of values in each categorical feature, but categorical feature 8 has 100 values. Considering remove this and other categorical features with a large number of values, or add more training examples.'\n",
      "Traceback (most recent call last):\n",
      "  File \"/usr/lib/spark/python/lib/pyspark.zip/pyspark/ml/base.py\", line 132, in fit\n",
      "    return self._fit(dataset)\n",
      "  File \"/usr/lib/spark/python/lib/pyspark.zip/pyspark/ml/wrapper.py\", line 295, in _fit\n",
      "    java_model = self._fit_java(dataset)\n",
      "  File \"/usr/lib/spark/python/lib/pyspark.zip/pyspark/ml/wrapper.py\", line 292, in _fit_java\n",
      "    return self._java_obj.fit(dataset._jdf)\n",
      "  File \"/usr/lib/spark/python/lib/py4j-0.10.7-src.zip/py4j/java_gateway.py\", line 1257, in __call__\n",
      "    answer, self.gateway_client, self.target_id, self.name)\n",
      "  File \"/usr/lib/spark/python/lib/pyspark.zip/pyspark/sql/utils.py\", line 79, in deco\n",
      "    raise IllegalArgumentException(s.split(': ', 1)[1], stackTrace)\n",
      "pyspark.sql.utils.IllegalArgumentException: 'requirement failed: DecisionTree requires maxBins (= 32) to be at least as large as the number of values in each categorical feature, but categorical feature 8 has 100 values. Considering remove this and other categorical features with a large number of values, or add more training examples.'\n",
      "\n"
     ]
    }
   ],
   "source": [
    "gbt = GBTClassifier(labelCol=\"label\", featuresCol=\"exp_features\", maxIter=10)\n",
    "model = gbt.fit(rest)\n",
    "predict_rest = model.transform(rest)\n",
    "predict_val = model.transform(validation)\n",
    "predict_val.select(\"label\",\"prediction\").show(10)"
   ]
  },
  {
   "cell_type": "code",
   "execution_count": 138,
   "metadata": {
    "scrolled": true
   },
   "outputs": [
    {
     "data": {
      "application/vnd.jupyter.widget-view+json": {
       "model_id": "c4dd5aadd19e410894e5df7201c40f26",
       "version_major": 2,
       "version_minor": 0
      },
      "text/plain": [
       "VBox()"
      ]
     },
     "metadata": {},
     "output_type": "display_data"
    },
    {
     "data": {
      "application/vnd.jupyter.widget-view+json": {
       "model_id": "",
       "version_major": 2,
       "version_minor": 0
      },
      "text/plain": [
       "FloatProgress(value=0.0, bar_style='info', description='Progress:', layout=Layout(height='25px', width='50%'),…"
      ]
     },
     "metadata": {},
     "output_type": "display_data"
    },
    {
     "name": "stderr",
     "output_type": "stream",
     "text": [
      "Exception in thread cell_monitor-137:\n",
      "Traceback (most recent call last):\n",
      "  File \"/opt/conda/lib/python3.7/threading.py\", line 926, in _bootstrap_inner\n",
      "    self.run()\n",
      "  File \"/opt/conda/lib/python3.7/threading.py\", line 870, in run\n",
      "    self._target(*self._args, **self._kwargs)\n",
      "  File \"/opt/conda/lib/python3.7/site-packages/awseditorssparkmonitoringwidget-1.0-py3.7.egg/awseditorssparkmonitoringwidget/cellmonitor.py\", line 178, in cell_monitor\n",
      "    job_binned_stages[job_id][stage_id] = all_stages[stage_id]\n",
      "KeyError: 6382\n",
      "\n"
     ]
    },
    {
     "name": "stdout",
     "output_type": "stream",
     "text": [
      "+-----+--------------------+----------+--------------------+\n",
      "|label|       rawPrediction|prediction|         probability|\n",
      "+-----+--------------------+----------+--------------------+\n",
      "|    0|[-0.8467848306177...|       1.0|[0.30010774730474...|\n",
      "|    0|[0.04014060839957...|       0.0|[0.51003380487331...|\n",
      "|    0|[-0.0629861225313...|       1.0|[0.48425867317346...|\n",
      "|    0|[0.38391148110004...|       0.0|[0.59481615713828...|\n",
      "|    0|[0.07673638935555...|       0.0|[0.51917468912486...|\n",
      "+-----+--------------------+----------+--------------------+\n",
      "only showing top 5 rows\n",
      "\n",
      "The F1 score on the train set is 69.16%\n",
      "The F1 score on the test set is 68.64%\n",
      "The areaUnderROC on the train set is 73.45%\n",
      "The areaUnderROC on the test set is 73.01%"
     ]
    }
   ],
   "source": [
    "# Evaluating the RF model using BinaryClassificationEvaluator\n",
    "evaluator = BinaryClassificationEvaluator(rawPredictionCol=\"rawPrediction\",labelCol=\"label\")\n",
    "predict_val.select(\"label\",\"rawPrediction\",\"prediction\",\"probability\").show(5)\n",
    "\n",
    "#F1 score\n",
    "f1_score_evaluator = MulticlassClassificationEvaluator(metricName='f1')\n",
    "f1_score_rest = f1_score_evaluator.evaluate(predict_rest.select(col('label'), col('prediction')))\n",
    "f1_score_val = f1_score_evaluator.evaluate(predict_val.select(col('label'), col('prediction')))\n",
    "print('The F1 score on the train set is {:.2%}'.format(f1_score_rest))\n",
    "print('The F1 score on the test set is {:.2%}'.format(f1_score_val)) \n",
    "\n",
    "#area under ROC \n",
    "auc_evaluator = BinaryClassificationEvaluator()\n",
    "roc_value_rest = auc_evaluator.evaluate(predict_rest, {auc_evaluator.metricName: \"areaUnderROC\"})\n",
    "roc_value_val = auc_evaluator.evaluate(predict_val, {auc_evaluator.metricName: \"areaUnderROC\"})\n",
    "print('The areaUnderROC on the train set is {:.2%}'.format(roc_value_rest))\n",
    "print('The areaUnderROC on the test set is {:.2%}'.format(roc_value_val))"
   ]
  },
  {
   "cell_type": "markdown",
   "metadata": {},
   "source": [
    "### Hyperparameter tuning for random forest model"
   ]
  },
  {
   "cell_type": "code",
   "execution_count": 139,
   "metadata": {},
   "outputs": [
    {
     "data": {
      "application/vnd.jupyter.widget-view+json": {
       "model_id": "875fe935d6844d858e72a530f2e06495",
       "version_major": 2,
       "version_minor": 0
      },
      "text/plain": [
       "VBox()"
      ]
     },
     "metadata": {},
     "output_type": "display_data"
    },
    {
     "data": {
      "application/vnd.jupyter.widget-view+json": {
       "model_id": "",
       "version_major": 2,
       "version_minor": 0
      },
      "text/plain": [
       "FloatProgress(value=0.0, bar_style='info', description='Progress:', layout=Layout(height='25px', width='50%'),…"
      ]
     },
     "metadata": {},
     "output_type": "display_data"
    }
   ],
   "source": [
    "paramGrid = ParamGridBuilder()\\\n",
    "    .addGrid(rf.maxDepth,[5,10,15])\\\n",
    "    .addGrid(rf.numTrees, [20,50,75,100])\\\n",
    "    .addGrid(rf.impurity,[\"entropy\", \"gini\"])\\\n",
    "    .build()"
   ]
  },
  {
   "cell_type": "code",
   "execution_count": 140,
   "metadata": {},
   "outputs": [
    {
     "data": {
      "application/vnd.jupyter.widget-view+json": {
       "model_id": "8bfad618885548af9c37208686a9bbc8",
       "version_major": 2,
       "version_minor": 0
      },
      "text/plain": [
       "VBox()"
      ]
     },
     "metadata": {},
     "output_type": "display_data"
    },
    {
     "data": {
      "application/vnd.jupyter.widget-view+json": {
       "model_id": "",
       "version_major": 2,
       "version_minor": 0
      },
      "text/plain": [
       "FloatProgress(value=0.0, bar_style='info', description='Progress:', layout=Layout(height='25px', width='50%'),…"
      ]
     },
     "metadata": {},
     "output_type": "display_data"
    },
    {
     "name": "stderr",
     "output_type": "stream",
     "text": [
      "'requirement failed: DecisionTree requires maxBins (= 32) to be at least as large as the number of values in each categorical feature, but categorical feature 8 has 100 values. Considering remove this and other categorical features with a large number of values, or add more training examples.'\n",
      "Traceback (most recent call last):\n",
      "  File \"/usr/lib/spark/python/lib/pyspark.zip/pyspark/ml/base.py\", line 132, in fit\n",
      "    return self._fit(dataset)\n",
      "  File \"/usr/lib/spark/python/lib/pyspark.zip/pyspark/ml/tuning.py\", line 304, in _fit\n",
      "    for j, metric, subModel in pool.imap_unordered(lambda f: f(), tasks):\n",
      "  File \"/usr/lib64/python3.7/multiprocessing/pool.py\", line 748, in next\n",
      "    raise value\n",
      "  File \"/usr/lib64/python3.7/multiprocessing/pool.py\", line 121, in worker\n",
      "    result = (True, func(*args, **kwds))\n",
      "  File \"/usr/lib/spark/python/lib/pyspark.zip/pyspark/ml/tuning.py\", line 304, in <lambda>\n",
      "    for j, metric, subModel in pool.imap_unordered(lambda f: f(), tasks):\n",
      "  File \"/usr/lib/spark/python/lib/pyspark.zip/pyspark/ml/tuning.py\", line 52, in singleTask\n",
      "    index, model = next(modelIter)\n",
      "  File \"/usr/lib/spark/python/lib/pyspark.zip/pyspark/ml/base.py\", line 62, in __next__\n",
      "    return index, self.fitSingleModel(index)\n",
      "  File \"/usr/lib/spark/python/lib/pyspark.zip/pyspark/ml/base.py\", line 106, in fitSingleModel\n",
      "    return estimator.fit(dataset, paramMaps[index])\n",
      "  File \"/usr/lib/spark/python/lib/pyspark.zip/pyspark/ml/base.py\", line 130, in fit\n",
      "    return self.copy(params)._fit(dataset)\n",
      "  File \"/usr/lib/spark/python/lib/pyspark.zip/pyspark/ml/wrapper.py\", line 295, in _fit\n",
      "    java_model = self._fit_java(dataset)\n",
      "  File \"/usr/lib/spark/python/lib/pyspark.zip/pyspark/ml/wrapper.py\", line 292, in _fit_java\n",
      "    return self._java_obj.fit(dataset._jdf)\n",
      "  File \"/usr/lib/spark/python/lib/py4j-0.10.7-src.zip/py4j/java_gateway.py\", line 1257, in __call__\n",
      "    answer, self.gateway_client, self.target_id, self.name)\n",
      "  File \"/usr/lib/spark/python/lib/pyspark.zip/pyspark/sql/utils.py\", line 79, in deco\n",
      "    raise IllegalArgumentException(s.split(': ', 1)[1], stackTrace)\n",
      "pyspark.sql.utils.IllegalArgumentException: 'requirement failed: DecisionTree requires maxBins (= 32) to be at least as large as the number of values in each categorical feature, but categorical feature 8 has 100 values. Considering remove this and other categorical features with a large number of values, or add more training examples.'\n",
      "\n"
     ]
    }
   ],
   "source": [
    "# K-fold cross validation\n",
    "# Create 5-fold CrossValidator\n",
    "cv = CrossValidator(estimator=rf, estimatorParamMaps=paramGrid, evaluator=evaluator, numFolds=3)\n",
    "# Run cross validations\n",
    "cvModel = cv.fit(rest)\n",
    "# this will likely take a fair amount of time because of the amount of models that we're creating and testing\n",
    "predict_rest = cvModel.transform(rest)\n",
    "predict_validation = cvModel.transform(validation)\n",
    "print(\"The area under ROC for train set after CV  is {}\".format(evaluator.evaluate(predict_rest)))\n",
    "print(\"The area under ROC for test set after CV  is {}\".format(evaluator.evaluate(predict_validation)))"
   ]
  },
  {
   "cell_type": "code",
   "execution_count": null,
   "metadata": {},
   "outputs": [],
   "source": []
  },
  {
   "cell_type": "code",
   "execution_count": null,
   "metadata": {},
   "outputs": [],
   "source": []
  }
 ],
 "metadata": {
  "kernelspec": {
   "display_name": "PySpark",
   "language": "",
   "name": "pysparkkernel"
  },
  "language_info": {
   "codemirror_mode": {
    "name": "python",
    "version": 2
   },
   "mimetype": "text/x-python",
   "name": "pyspark",
   "pygments_lexer": "python2"
  }
 },
 "nbformat": 4,
 "nbformat_minor": 4
}
