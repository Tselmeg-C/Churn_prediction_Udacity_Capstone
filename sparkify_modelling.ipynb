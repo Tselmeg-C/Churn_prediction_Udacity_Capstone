{
 "cells": [
  {
   "cell_type": "code",
   "execution_count": 1,
   "metadata": {},
   "outputs": [
    {
     "name": "stdout",
     "output_type": "stream",
     "text": [
      "Welcome to my EMR Notebook!\n"
     ]
    }
   ],
   "source": [
    "# this line is only used on AWS cluster\n",
    "print(\"Welcome to my EMR Notebook!\")"
   ]
  },
  {
   "cell_type": "code",
   "execution_count": 2,
   "metadata": {},
   "outputs": [
    {
     "name": "stderr",
     "output_type": "stream",
     "text": [
      "UsageError: Cell magic `%%info` not found.\n"
     ]
    }
   ],
   "source": [
    "# this line is only used on AWS cluster\n",
    "%%info"
   ]
  },
  {
   "cell_type": "code",
   "execution_count": null,
   "metadata": {},
   "outputs": [],
   "source": [
    "# this line is only used on AWS cluster\n",
    "sc.list_packages()"
   ]
  },
  {
   "cell_type": "code",
   "execution_count": 4,
   "metadata": {
    "scrolled": false
   },
   "outputs": [
    {
     "data": {
      "application/vnd.jupyter.widget-view+json": {
       "model_id": "40f7240b701244b4bf61fc50dfe9a7b2",
       "version_major": 2,
       "version_minor": 0
      },
      "text/plain": [
       "VBox()"
      ]
     },
     "metadata": {},
     "output_type": "display_data"
    },
    {
     "data": {
      "application/vnd.jupyter.widget-view+json": {
       "model_id": "",
       "version_major": 2,
       "version_minor": 0
      },
      "text/plain": [
       "FloatProgress(value=0.0, bar_style='info', description='Progress:', layout=Layout(height='25px', width='50%'),…"
      ]
     },
     "metadata": {},
     "output_type": "display_data"
    },
    {
     "name": "stdout",
     "output_type": "stream",
     "text": [
      "Collecting pandas==0.25.1\n",
      "  Downloading https://files.pythonhosted.org/packages/7e/ab/ea76361f9d3e732e114adcd801d2820d5319c23d0ac5482fa3b412db217e/pandas-0.25.1-cp37-cp37m-manylinux1_x86_64.whl (10.4MB)\n",
      "Requirement already satisfied: pytz>=2017.2 in /usr/local/lib/python3.7/site-packages (from pandas==0.25.1)\n",
      "Requirement already satisfied: numpy>=1.13.3 in /usr/local/lib64/python3.7/site-packages (from pandas==0.25.1)\n",
      "Collecting python-dateutil>=2.6.1 (from pandas==0.25.1)\n",
      "  Downloading https://files.pythonhosted.org/packages/d4/70/d60450c3dd48ef87586924207ae8907090de0b306af2bce5d134d78615cb/python_dateutil-2.8.1-py2.py3-none-any.whl (227kB)\n",
      "Requirement already satisfied: six>=1.5 in /usr/local/lib/python3.7/site-packages (from python-dateutil>=2.6.1->pandas==0.25.1)\n",
      "Installing collected packages: python-dateutil, pandas\n",
      "Successfully installed pandas-0.25.1 python-dateutil-2.8.1\n",
      "\n",
      "Collecting matplotlib\n",
      "  Downloading https://files.pythonhosted.org/packages/f1/b9/712584f12f840968a14969a1fe298ffdeaa9c4b484b3bfd973c74c4a481d/matplotlib-3.3.1-cp37-cp37m-manylinux1_x86_64.whl (11.6MB)\n",
      "Collecting certifi>=2020.06.20 (from matplotlib)\n",
      "  Downloading https://files.pythonhosted.org/packages/5e/c4/6c4fe722df5343c33226f0b4e0bb042e4dc13483228b4718baf286f86d87/certifi-2020.6.20-py2.py3-none-any.whl (156kB)\n",
      "Requirement already satisfied: numpy>=1.15 in /usr/local/lib64/python3.7/site-packages (from matplotlib)\n",
      "Requirement already satisfied: python-dateutil>=2.1 in /mnt/tmp/1597524246795-0/lib/python3.7/site-packages (from matplotlib)\n",
      "Collecting pyparsing!=2.0.4,!=2.1.2,!=2.1.6,>=2.0.3 (from matplotlib)\n",
      "  Downloading https://files.pythonhosted.org/packages/8a/bb/488841f56197b13700afd5658fc279a2025a39e22449b7cf29864669b15d/pyparsing-2.4.7-py2.py3-none-any.whl (67kB)\n",
      "Collecting pillow>=6.2.0 (from matplotlib)\n",
      "  Downloading https://files.pythonhosted.org/packages/e8/f2/6722dd0c22e3a143ac792ccb2424924ac72af4adea756b1165b4cad50da7/Pillow-7.2.0-cp37-cp37m-manylinux1_x86_64.whl (2.2MB)\n",
      "Collecting cycler>=0.10 (from matplotlib)\n",
      "  Downloading https://files.pythonhosted.org/packages/f7/d2/e07d3ebb2bd7af696440ce7e754c59dd546ffe1bbe732c8ab68b9c834e61/cycler-0.10.0-py2.py3-none-any.whl\n",
      "Collecting kiwisolver>=1.0.1 (from matplotlib)\n",
      "  Downloading https://files.pythonhosted.org/packages/31/b9/6202dcae729998a0ade30e80ac00f616542ef445b088ec970d407dfd41c0/kiwisolver-1.2.0-cp37-cp37m-manylinux1_x86_64.whl (88kB)\n",
      "Requirement already satisfied: six>=1.5 in /usr/local/lib/python3.7/site-packages (from python-dateutil>=2.1->matplotlib)\n",
      "Installing collected packages: certifi, pyparsing, pillow, cycler, kiwisolver, matplotlib\n",
      "Successfully installed certifi-2020.6.20 cycler-0.10.0 kiwisolver-1.2.0 matplotlib-3.3.1 pillow-7.2.0 pyparsing-2.4.7\n",
      "\n",
      "Collecting seaborn==0.10.1\n",
      "  Downloading https://files.pythonhosted.org/packages/c7/e6/54aaaafd0b87f51dfba92ba73da94151aa3bc179e5fe88fc5dfb3038e860/seaborn-0.10.1-py3-none-any.whl (215kB)\n",
      "Requirement already satisfied: pandas>=0.22.0 in /mnt/tmp/1597524246795-0/lib/python3.7/site-packages (from seaborn==0.10.1)\n",
      "Requirement already satisfied: numpy>=1.13.3 in /usr/local/lib64/python3.7/site-packages (from seaborn==0.10.1)\n",
      "Collecting scipy>=1.0.1 (from seaborn==0.10.1)\n",
      "  Downloading https://files.pythonhosted.org/packages/65/f9/f7a7e5009711579c72da2725174825e5056741bf4001815d097eef1b2e17/scipy-1.5.2-cp37-cp37m-manylinux1_x86_64.whl (25.9MB)\n",
      "Requirement already satisfied: matplotlib>=2.1.2 in /mnt/tmp/1597524246795-0/lib/python3.7/site-packages (from seaborn==0.10.1)\n",
      "Requirement already satisfied: pytz>=2017.2 in /usr/local/lib/python3.7/site-packages (from pandas>=0.22.0->seaborn==0.10.1)\n",
      "Requirement already satisfied: python-dateutil>=2.6.1 in /mnt/tmp/1597524246795-0/lib/python3.7/site-packages (from pandas>=0.22.0->seaborn==0.10.1)\n",
      "Requirement already satisfied: certifi>=2020.06.20 in /mnt/tmp/1597524246795-0/lib/python3.7/site-packages (from matplotlib>=2.1.2->seaborn==0.10.1)\n",
      "Requirement already satisfied: pyparsing!=2.0.4,!=2.1.2,!=2.1.6,>=2.0.3 in /mnt/tmp/1597524246795-0/lib/python3.7/site-packages (from matplotlib>=2.1.2->seaborn==0.10.1)\n",
      "Requirement already satisfied: pillow>=6.2.0 in /mnt/tmp/1597524246795-0/lib/python3.7/site-packages (from matplotlib>=2.1.2->seaborn==0.10.1)\n",
      "Requirement already satisfied: cycler>=0.10 in /mnt/tmp/1597524246795-0/lib/python3.7/site-packages (from matplotlib>=2.1.2->seaborn==0.10.1)\n",
      "Requirement already satisfied: kiwisolver>=1.0.1 in /mnt/tmp/1597524246795-0/lib/python3.7/site-packages (from matplotlib>=2.1.2->seaborn==0.10.1)\n",
      "Requirement already satisfied: six>=1.5 in /usr/local/lib/python3.7/site-packages (from python-dateutil>=2.6.1->pandas>=0.22.0->seaborn==0.10.1)\n",
      "Installing collected packages: scipy, seaborn\n",
      "Successfully installed scipy-1.5.2 seaborn-0.10.1\n",
      "\n",
      "Collecting ipython==7.17.0\n",
      "  Downloading https://files.pythonhosted.org/packages/e7/ba/0ea438e2acd68ce79fde9cf57b4b1f18386969d8a013cd549254b151dde1/ipython-7.17.0-py3-none-any.whl (786kB)\n",
      "Requirement already satisfied: setuptools>=18.5 in /mnt/tmp/1597524246795-0/lib/python3.7/site-packages (from ipython==7.17.0)\n",
      "Collecting decorator (from ipython==7.17.0)\n",
      "  Downloading https://files.pythonhosted.org/packages/ed/1b/72a1821152d07cf1d8b6fce298aeb06a7eb90f4d6d41acec9861e7cc6df0/decorator-4.4.2-py2.py3-none-any.whl\n",
      "Collecting traitlets>=4.2 (from ipython==7.17.0)\n",
      "  Downloading https://files.pythonhosted.org/packages/ca/ab/872a23e29cec3cf2594af7e857f18b687ad21039c1f9b922fac5b9b142d5/traitlets-4.3.3-py2.py3-none-any.whl (75kB)\n",
      "Collecting pexpect; sys_platform != \"win32\" (from ipython==7.17.0)\n",
      "  Downloading https://files.pythonhosted.org/packages/39/7b/88dbb785881c28a102619d46423cb853b46dbccc70d3ac362d99773a78ce/pexpect-4.8.0-py2.py3-none-any.whl (59kB)\n",
      "Collecting jedi>=0.10 (from ipython==7.17.0)\n",
      "  Downloading https://files.pythonhosted.org/packages/c3/d4/36136b18daae06ad798966735f6c3fb96869c1be9f8245d2a8f556e40c36/jedi-0.17.2-py2.py3-none-any.whl (1.4MB)\n",
      "Collecting prompt-toolkit!=3.0.0,!=3.0.1,<3.1.0,>=2.0.0 (from ipython==7.17.0)\n",
      "  Downloading https://files.pythonhosted.org/packages/72/65/a3ef98b56d57a6d0a04cea5810ecbf3700a225d296ca298b3442dddebb42/prompt_toolkit-3.0.6-py3-none-any.whl (354kB)\n",
      "Collecting pickleshare (from ipython==7.17.0)\n",
      "  Downloading https://files.pythonhosted.org/packages/9a/41/220f49aaea88bc6fa6cba8d05ecf24676326156c23b991e80b3f2fc24c77/pickleshare-0.7.5-py2.py3-none-any.whl\n",
      "Collecting backcall (from ipython==7.17.0)\n",
      "  Downloading https://files.pythonhosted.org/packages/4c/1c/ff6546b6c12603d8dd1070aa3c3d273ad4c07f5771689a7b69a550e8c951/backcall-0.2.0-py2.py3-none-any.whl\n",
      "Collecting pygments (from ipython==7.17.0)\n",
      "  Downloading https://files.pythonhosted.org/packages/2d/68/106af3ae51daf807e9cdcba6a90e518954eb8b70341cee52995540a53ead/Pygments-2.6.1-py3-none-any.whl (914kB)\n",
      "Collecting ipython-genutils (from traitlets>=4.2->ipython==7.17.0)\n",
      "  Downloading https://files.pythonhosted.org/packages/fa/bc/9bd3b5c2b4774d5f33b2d544f1460be9df7df2fe42f352135381c347c69a/ipython_genutils-0.2.0-py2.py3-none-any.whl\n",
      "Requirement already satisfied: six in /usr/local/lib/python3.7/site-packages (from traitlets>=4.2->ipython==7.17.0)\n",
      "Collecting ptyprocess>=0.5 (from pexpect; sys_platform != \"win32\"->ipython==7.17.0)\n",
      "  Downloading https://files.pythonhosted.org/packages/d1/29/605c2cc68a9992d18dada28206eeada56ea4bd07a239669da41674648b6f/ptyprocess-0.6.0-py2.py3-none-any.whl\n",
      "Collecting parso<0.8.0,>=0.7.0 (from jedi>=0.10->ipython==7.17.0)\n",
      "  Downloading https://files.pythonhosted.org/packages/93/d1/e635bdde32890db5aeb2ffbde17e74f68986305a4466b0aa373b861e3f00/parso-0.7.1-py2.py3-none-any.whl (109kB)\n",
      "Collecting wcwidth (from prompt-toolkit!=3.0.0,!=3.0.1,<3.1.0,>=2.0.0->ipython==7.17.0)\n",
      "  Downloading https://files.pythonhosted.org/packages/59/7c/e39aca596badaf1b78e8f547c807b04dae603a433d3e7a7e04d67f2ef3e5/wcwidth-0.2.5-py2.py3-none-any.whl\n",
      "Installing collected packages: decorator, ipython-genutils, traitlets, ptyprocess, pexpect, parso, jedi, wcwidth, prompt-toolkit, pickleshare, backcall, pygments, ipython\n",
      "Successfully installed backcall-0.2.0 decorator-4.4.2 ipython-7.17.0 ipython-genutils-0.2.0 jedi-0.17.2 parso-0.7.1 pexpect-4.8.0 pickleshare-0.7.5 prompt-toolkit-3.0.6 ptyprocess-0.6.0 pygments-2.6.1 traitlets-4.3.3 wcwidth-0.2.5"
     ]
    }
   ],
   "source": [
    "# those lines were only used on AWS cluster\n",
    "sc.install_pypi_package(\"pandas==0.25.1\") #Install pandas version 0.25.1 \n",
    "sc.install_pypi_package(\"matplotlib\") #Install matplotlib from given PyPI repository\n",
    "sc.install_pypi_package(\"seaborn==0.10.1\") #Install seaborn version 0.10.1\n",
    "sc.install_pypi_package(\"ipython==7.17.0\") #install ipython version 7.17.0"
   ]
  },
  {
   "cell_type": "code",
   "execution_count": 5,
   "metadata": {
    "scrolled": true
   },
   "outputs": [
    {
     "data": {
      "application/vnd.jupyter.widget-view+json": {
       "model_id": "",
       "version_major": 2,
       "version_minor": 0
      },
      "text/plain": [
       "VBox()"
      ]
     },
     "metadata": {},
     "output_type": "display_data"
    },
    {
     "data": {
      "application/vnd.jupyter.widget-view+json": {
       "model_id": "",
       "version_major": 2,
       "version_minor": 0
      },
      "text/plain": [
       "FloatProgress(value=0.0, bar_style='info', description='Progress:', layout=Layout(height='25px', width='50%'),…"
      ]
     },
     "metadata": {},
     "output_type": "display_data"
    },
    {
     "name": "stderr",
     "output_type": "stream",
     "text": [
      "'SparkContext' object has no attribute 'list_packages'\n",
      "Traceback (most recent call last):\n",
      "AttributeError: 'SparkContext' object has no attribute 'list_packages'\n",
      "\n"
     ]
    }
   ],
   "source": [
    "# this line is only used on AWS cluster\n",
    "sc.list_packages()"
   ]
  },
  {
   "cell_type": "code",
   "execution_count": 1,
   "metadata": {},
   "outputs": [],
   "source": [
    "# import libraries\n",
    "from pyspark import SparkConf, SparkContext\n",
    "from pyspark.sql import SparkSession,Window\n",
    "from pyspark.sql.types import *\n",
    "from pyspark.sql.functions import *\n",
    "\n",
    "from pyspark.ml import Pipeline\n",
    "from pyspark.ml.classification import LogisticRegression,GBTClassifier, RandomForestClassifier\n",
    "from pyspark.ml.evaluation import BinaryClassificationEvaluator,MulticlassClassificationEvaluator\n",
    "from pyspark.ml.feature import StandardScaler, StringIndexer, VectorAssembler\n",
    "from pyspark.ml.tuning import CrossValidator, ParamGridBuilder\n",
    "\n",
    "import re\n",
    "import datetime\n",
    "\n",
    "import numpy as np\n",
    "import pandas as pd\n",
    "import seaborn as sb\n",
    "import matplotlib.pyplot as plt\n"
   ]
  },
  {
   "cell_type": "code",
   "execution_count": 2,
   "metadata": {},
   "outputs": [],
   "source": [
    "# Create spark session\n",
    "spark = SparkSession \\\n",
    "    .builder \\\n",
    "    .appName(\"Sparkify\") \\\n",
    "    .getOrCreate()"
   ]
  },
  {
   "cell_type": "code",
   "execution_count": 3,
   "metadata": {},
   "outputs": [
    {
     "data": {
      "text/plain": [
       "[('spark.rdd.compress', 'True'),\n",
       " ('spark.driver.host', 'b904597f18a2'),\n",
       " ('spark.app.name', 'Sparkify'),\n",
       " ('spark.serializer.objectStreamReset', '100'),\n",
       " ('spark.driver.port', '43947'),\n",
       " ('spark.master', 'local[*]'),\n",
       " ('spark.app.id', 'local-1598434362042'),\n",
       " ('spark.executor.id', 'driver'),\n",
       " ('spark.submit.deployMode', 'client'),\n",
       " ('spark.ui.showConsoleProgress', 'true')]"
      ]
     },
     "execution_count": 3,
     "metadata": {},
     "output_type": "execute_result"
    }
   ],
   "source": [
    "# session overview\n",
    "spark.sparkContext.getConf().getAll()"
   ]
  },
  {
   "cell_type": "code",
   "execution_count": 4,
   "metadata": {},
   "outputs": [
    {
     "data": {
      "text/html": [
       "\n",
       "            <div>\n",
       "                <p><b>SparkSession - in-memory</b></p>\n",
       "                \n",
       "        <div>\n",
       "            <p><b>SparkContext</b></p>\n",
       "\n",
       "            <p><a href=\"http://b904597f18a2:4040\">Spark UI</a></p>\n",
       "\n",
       "            <dl>\n",
       "              <dt>Version</dt>\n",
       "                <dd><code>v2.4.3</code></dd>\n",
       "              <dt>Master</dt>\n",
       "                <dd><code>local[*]</code></dd>\n",
       "              <dt>AppName</dt>\n",
       "                <dd><code>Sparkify</code></dd>\n",
       "            </dl>\n",
       "        </div>\n",
       "        \n",
       "            </div>\n",
       "        "
      ],
      "text/plain": [
       "<pyspark.sql.session.SparkSession at 0x7f29df7e4eb8>"
      ]
     },
     "execution_count": 4,
     "metadata": {},
     "output_type": "execute_result"
    }
   ],
   "source": [
    "spark"
   ]
  },
  {
   "cell_type": "markdown",
   "metadata": {},
   "source": [
    "## Load and Clean Dataset\n",
    "Load and clean the dataset, checking for invalid or missing data - for example, records without userids or sessionids."
   ]
  },
  {
   "cell_type": "code",
   "execution_count": 5,
   "metadata": {},
   "outputs": [],
   "source": [
    "# Load data \n",
    "# Read in full sparkify dataset\n",
    "#user_log = \"s3n://udacity-dsnd/sparkify/sparkify_event_data.json\" #whole data on cloud\n",
    "#mini data on cloud\n",
    "#user_log = \"s3://aws-emr-resources-057584263306-eu-central-1/notebooks/e-1DYCDZU9IGL1MSTRN75J0HLSI/mini_sparkify_event_data.json\" \n",
    "# mini data local\n",
    "user_log = \"mini_sparkify_event_data.json\" \n",
    "df = spark.read.json(user_log)"
   ]
  },
  {
   "cell_type": "code",
   "execution_count": 6,
   "metadata": {},
   "outputs": [],
   "source": [
    "def clean_data(df):\n",
    "    \"\"\"generate features based on df_clean\n",
    "    \n",
    "    Param:\n",
    "        df: original data set\n",
    "    \n",
    "    Return:\n",
    "        df_clean: data frame with missing userId handeled, timestamp transferred, userAgent and location simplified and extra columns deleted\n",
    "    \"\"\"\n",
    "    \n",
    "    #droping invalid userIds (empty string IDs might represent the visitors of the website who did not register)\n",
    "    df_clean = df.filter(df[\"userId\"] != \"\")     \n",
    "       \n",
    "    # create column \"state\" with Abbreviation of US states extracted from \"location\" column\n",
    "    df_clean = df_clean.withColumn('state', trim(split(col('location'),',').getItem(1)))\n",
    "    \n",
    "    # convert ts to epoch time and create month, date, hour columns out of it\n",
    "    df_clean = df_clean.withColumn('epoch_time', from_unixtime(col('ts').cast(LongType())/1000).cast(TimestampType()))\n",
    "    df_clean = df_clean.withColumn('date', from_unixtime(col('ts')/1000).cast(DateType()))\n",
    "    \n",
    "    # simplify \"userAgent\"\n",
    "    agent = udf(lambda x: str(re.findall(r'\\((.*?)\\)', x)[0].split(\";\")[0].split()[0]) if x is not None else None, StringType())\n",
    "    df_clean = df_clean.withColumn(\"agent\", agent(df_clean.userAgent))\n",
    "    \n",
    "    # drop columns\n",
    "    df_clean = df_clean.drop('location','auth','firstName','lastName','method','status','userAgent')\n",
    "    \n",
    "    return df_clean"
   ]
  },
  {
   "cell_type": "code",
   "execution_count": 7,
   "metadata": {},
   "outputs": [],
   "source": [
    "def define_churn_downgrade(df_clean):\n",
    "    \"\"\"lable churn and downgrade on df_clean\n",
    "    \n",
    "    Param:\n",
    "        df_clean: clean data set\n",
    "    \n",
    "    Return:\n",
    "        df_clean: data frame with churned and downgraded users labeled as \"1\" and stayed and not downgraded users labeled as \"0\"\n",
    "    \"\"\"\n",
    "    \n",
    "    # Using the \"Cancellation Confirmation\" events to define churn with label 1 and 0 for not\n",
    "    flag_churn_event = udf(lambda x: 1 if x == \"Cancellation Confirmation\" else 0, IntegerType())\n",
    "    df_clean = df_clean.withColumn(\"Churn\", flag_churn_event(\"page\"))\n",
    "\n",
    "    # add churn user flag\n",
    "    df_clean = df_clean.withColumn(\"label\", max('Churn').over(Window.partitionBy('UserId')))\n",
    "    \n",
    "    # Flag users who downgraded at least once as 1 and users who never downgraded as 0.\n",
    "    flag_downgrade_event = udf(lambda x: 1 if x == \"Downgrade\" else 0, IntegerType())\n",
    "    df_clean = df_clean.withColumn(\"Downgrade\", flag_downgrade_event(\"page\"))\n",
    "\n",
    "    # add downgraded user flag\n",
    "    df_clean = df_clean.withColumn(\"downgraded\", max('Downgrade').over(Window.partitionBy('UserId')))\n",
    "    \n",
    "    # delete 'Downgrade','Churn' columns\n",
    "    df_clean = df_clean.drop('Downgrade','Churn')\n",
    "    \n",
    "    return df_clean\n",
    "    "
   ]
  },
  {
   "cell_type": "code",
   "execution_count": 8,
   "metadata": {},
   "outputs": [],
   "source": [
    "df_clean = clean_data(df)"
   ]
  },
  {
   "cell_type": "code",
   "execution_count": 9,
   "metadata": {},
   "outputs": [],
   "source": [
    "df_clean = define_churn_downgrade(df_clean)"
   ]
  },
  {
   "cell_type": "code",
   "execution_count": 10,
   "metadata": {},
   "outputs": [
    {
     "name": "stdout",
     "output_type": "stream",
     "text": [
      "+--------------------+------+-------------+---------+-----+---------+-------------+---------+--------------------+-------------+------+-----+-------------------+----------+------+-----+----------+\n",
      "|              artist|gender|itemInSession|   length|level|     page| registration|sessionId|                song|           ts|userId|state|         epoch_time|      date| agent|label|downgraded|\n",
      "+--------------------+------+-------------+---------+-----+---------+-------------+---------+--------------------+-------------+------+-----+-------------------+----------+------+-----+----------+\n",
      "|Sleeping With Sirens|     F|            0|202.97098| free| NextSong|1538016340000|       31|Captain Tyin Knot...|1539003534000|100010|   CT|2018-10-08 12:58:54|2018-10-08|iPhone|    0|         0|\n",
      "|Francesca Battist...|     F|            1|196.54485| free| NextSong|1538016340000|       31|Beautiful_ Beauti...|1539003736000|100010|   CT|2018-10-08 13:02:16|2018-10-08|iPhone|    0|         0|\n",
      "|              Brutha|     F|            2|263.13098| free| NextSong|1538016340000|       31|          She's Gone|1539003932000|100010|   CT|2018-10-08 13:05:32|2018-10-08|iPhone|    0|         0|\n",
      "|                null|     F|            3|     null| free|Thumbs Up|1538016340000|       31|                null|1539003933000|100010|   CT|2018-10-08 13:05:33|2018-10-08|iPhone|    0|         0|\n",
      "|         Josh Ritter|     F|            4|316.23791| free| NextSong|1538016340000|       31|      Folk Bloodbath|1539004195000|100010|   CT|2018-10-08 13:09:55|2018-10-08|iPhone|    0|         0|\n",
      "+--------------------+------+-------------+---------+-----+---------+-------------+---------+--------------------+-------------+------+-----+-------------------+----------+------+-----+----------+\n",
      "only showing top 5 rows\n",
      "\n"
     ]
    }
   ],
   "source": [
    "df_clean.show(5)"
   ]
  },
  {
   "cell_type": "code",
   "execution_count": 11,
   "metadata": {},
   "outputs": [],
   "source": [
    "# subset data\n",
    "df_page = df_clean.select('label','userId','page','date')"
   ]
  },
  {
   "cell_type": "markdown",
   "metadata": {},
   "source": [
    "## Feature Engineering\n",
    "Once you've familiarized yourself with the data, build out the features you find promising to train your model on. To work with the full dataset, you can follow the following steps.\n",
    "- Write a script to extract the necessary features from the smaller subset of data\n",
    "- Ensure that your script is scalable, using the best practices discussed in Lesson 3\n",
    "- Try your script on the full data set, debugging your script if necessary\n",
    "\n",
    "If you are working in the classroom workspace, you can just extract features based on the small subset of data contained here. Be sure to transfer over this work to the larger dataset when you work on your Spark cluster."
   ]
  },
  {
   "cell_type": "code",
   "execution_count": 12,
   "metadata": {},
   "outputs": [],
   "source": [
    "def prepare_features(df_clean):\n",
    "    \"\"\"generate features based on df_clean\n",
    "    \n",
    "    Param:\n",
    "        df_clean: cleaned data frame from which all features are generated\n",
    "    \n",
    "    Return:\n",
    "        df_model: data frame with all necessary features\n",
    "    \"\"\"\n",
    "    \n",
    "    # add feature \"registered days\"\n",
    "    cancellation_df = df_clean.select('userId','ts')\\\n",
    "                              .groupBy('userId')\\\n",
    "                              .agg(max('ts')\\\n",
    "                              .alias('lastinteraction'))\n",
    "    df_clean = cancellation_df.join(df_clean, on='userId')\\\n",
    "                              .withColumn('registered_days', \n",
    "                                          ((col('lastinteraction')-col('registration'))/86400000)\n",
    "                              .cast(IntegerType()))\n",
    "    df_clean = df_clean.drop('lastinteraction','registration')\n",
    "    del cancellation_df\n",
    "    \n",
    "    # add feature \"latest level of users before they churn\"\n",
    "    level_df = df_clean.select('ts','userId','level')\\\n",
    "                       .orderBy('ts', ascending=False)\\\n",
    "                       .groupBy('userId')\\\n",
    "                       .agg(first('level')\\\n",
    "                       .alias('valid_level'))    \n",
    "    df_clean = df_clean.drop('level')\n",
    "    df_clean = df_clean.join(level_df, on='userId')\n",
    "    del level_df\n",
    "    \n",
    "    # add feature \"Number of songs per day\"\n",
    "    temp_daily_song = df_clean.select('userId','date','song')\\\n",
    "                              .groupBy('userId','date')\\\n",
    "                              .agg(countDistinct('song')\\\n",
    "                              .alias('songs'))\\\n",
    "                              .sort('userId')\n",
    "    daily_song = temp_daily_song.groupBy('userId')\\\n",
    "                                .avg('songs')\\\n",
    "                                .withColumnRenamed('avg(songs)',\n",
    "                                                   'avg_daily_song')\n",
    "    df_clean = df_clean.join(daily_song, on='userId')\n",
    "    del temp_daily_song,daily_song\n",
    "   \n",
    "    # add feature \"Number of songs per session\"\n",
    "    # create new feature\n",
    "    song_per_session_df = df_clean.select('page','label', 'userId', 'sessionId')\\\n",
    "                                  .where('page == \"NextSong\"')\\\n",
    "                                  .groupby(['label', 'userId', 'sessionId'])\\\n",
    "                                  .count()\\\n",
    "                                  .groupby(['label', 'userId'])\\\n",
    "                                  .agg({'count': 'avg'})\\\n",
    "                                  .withColumnRenamed('avg(count)', \n",
    "                                                     'songs_per_session')\n",
    "    df_clean = df_clean.join(song_per_session_df.drop('label'), on='userId')\n",
    "    del song_per_session_df\n",
    "    \n",
    "    # add feature \"average session duration\"\n",
    "    # session duration for each user\n",
    "    session_duration = df_clean.select('userId','sessionId','ts')\\\n",
    "                               .groupBy('userId','sessionId')\\\n",
    "                               .agg(((max('ts')-min('ts'))/1000/3600)\\\n",
    "                               .alias('activesession'))\n",
    "    # average session duration for each user\n",
    "    session_duration_df = session_duration.groupBy('userId')\\\n",
    "                                          .avg('activesession')\\\n",
    "                                          .withColumnRenamed('avg(activesession)',\n",
    "                                                             'avg_session')\n",
    "    # join dataframe to create new column\n",
    "    df_clean = df_clean.join(session_duration_df, on='userId')\n",
    "    del session_duration,session_duration_df\n",
    "    \n",
    "    # add feature \"Friends added\"\n",
    "    # average number of friends added daily\n",
    "    daily_friends_df = df_page.where('page == \"Add Friend\"').groupby(['label', 'userId','date']).count()\\\n",
    "        .groupby('label','userId').avg('count').withColumnRenamed('avg(count)', 'friends')\n",
    "    \n",
    "    # join dataframe to create new column \"friends\"\n",
    "    df_clean = df_clean.join(daily_friends_df.drop('label'), on='userId',how='left')\n",
    "    del daily_friends_df\n",
    "    \n",
    "    # add feature \"number of thumb ups\"\n",
    "    # average number of \"thumbs up\" daily\n",
    "    thumbs_up_df = df_page.where('page == \"Thumbs Up\"').groupby(['label', 'userId','date']).count()\\\n",
    "        .groupby('label','userId').avg('count').withColumnRenamed('avg(count)', 'thumbs_ups')\n",
    "\n",
    "    # join dataframe to create new column \"thumbs_ups\"\n",
    "    df_clean = df_clean.join(thumbs_up_df.drop('label'), on='userId',how='left')\n",
    "    del thumbs_up_df\n",
    "    \n",
    "    # add feature \"number of \"thumbs down\"\n",
    "    # average number of \"thumbs down\" daily\n",
    "    thumbs_down_df = df_page.where('page == \"Thumbs Down\"').groupby(['label', 'userId','date']).count()\\\n",
    "        .groupby('label','userId').avg('count').withColumnRenamed('avg(count)', 'thumbs_downs')\n",
    "    \n",
    "    # join dataframe to create new column \"thumbs_down\"\n",
    "    df_clean = df_clean.join(thumbs_down_df.drop('label'), on='userId',how='left')\n",
    "    del thumbs_down_df\n",
    "    \n",
    "    # add feature \"Times to add to playlist\"\n",
    "    # average number of \"add to playlist\" \n",
    "    add_playlist_df = df_page.where('page == \"Add to Playlist\"').groupby(['label', 'userId','date']).count()\\\n",
    "        .groupby('label','userId').avg('count').withColumnRenamed('avg(count)', 'add_playlist')\n",
    "    \n",
    "    # join dataframe to create new column \"add_playlist\"\n",
    "    df_clean = df_clean.join(add_playlist_df.drop('label'), on='userId',how='left')\n",
    "    del add_playlist_df\n",
    "    \n",
    "    # add feature \"times to roll advert\"\n",
    "    # average number of \"roll advert\" \n",
    "    roll_advert_df = df_page.where('page == \"Roll Advert\"').groupby(['label', 'userId','date']).count()\\\n",
    "        .groupby('label','userId').avg('count').withColumnRenamed('avg(count)', 'roll_advert')\n",
    "\n",
    "    # join dataframe to create new column \"roll_advert\"\n",
    "    df_clean = df_clean.join(roll_advert_df.drop('label'), on='userId',how='left')\n",
    "    del roll_advert_df\n",
    "    \n",
    "    # assemble features for modeling\n",
    "    df_model = df_clean.select(['userId',\n",
    "                                   'label',\n",
    "                                   'downgraded',\n",
    "                                   'gender',\n",
    "                                   'valid_level',\n",
    "                                   'agent',\n",
    "                                   'registered_days',\n",
    "                                   'avg_daily_song',\n",
    "                                   'songs_per_session',\n",
    "                                   'avg_session',\n",
    "                                   'friends',\n",
    "                                   'thumbs_ups',\n",
    "                                   'thumbs_downs',\n",
    "                                   'add_playlist',\n",
    "                                   'roll_advert']).dropDuplicates(['userId'])\n",
    "    \n",
    "    # format decimal\n",
    "    df_model = df_model.withColumn(\"daily_song\", bround(df_model.avg_daily_song,1))\n",
    "    df_model = df_model.withColumn(\"session_song\", bround(df_model.songs_per_session,1))\n",
    "    df_model = df_model.withColumn(\"session_duration\", bround(df_model.avg_session,1))\n",
    "\n",
    "    # replace missing value with 0\n",
    "    df_model = df_model.na.fill(0)\n",
    "    \n",
    "    # drop old columns\n",
    "    df_model = df_model.drop('avg_daily_song','songs_per_session','avg_session','userId')\n",
    "\n",
    "    return df_model"
   ]
  },
  {
   "cell_type": "code",
   "execution_count": 13,
   "metadata": {},
   "outputs": [],
   "source": [
    "df_model = prepare_features(df_clean)"
   ]
  },
  {
   "cell_type": "code",
   "execution_count": null,
   "metadata": {},
   "outputs": [],
   "source": [
    "df_model.columns"
   ]
  },
  {
   "cell_type": "markdown",
   "metadata": {},
   "source": [
    "### Transform features for model fitting"
   ]
  },
  {
   "cell_type": "code",
   "execution_count": 14,
   "metadata": {},
   "outputs": [],
   "source": [
    "def transform_features(df_model):\n",
    "    \"\"\"transfrom the features into the form the model can digest\n",
    "    \n",
    "    Param:\n",
    "        df_model: the data frame with all necessary features.\n",
    "        \n",
    "    Return:\n",
    "        df_model: data data frame ready to be used for modeling.\n",
    "    \"\"\"\n",
    "    \n",
    "    # Transform categorical columns with StringIndexer\n",
    "    indexers = [StringIndexer(inputCol=column, outputCol=column+\"_index\").fit(df_model) \n",
    "                    for column in ['gender','valid_level','agent'] ]\n",
    "    pipeline = Pipeline(stages=indexers)\n",
    "    df_r = pipeline.fit(df_model)\\\n",
    "                   .transform(df_model)\n",
    "    df_model = df_r.drop('gender','valid_level','agent')\n",
    "    \n",
    "    # use StandardScaler to scalerize the created “scaled_feature” column\n",
    "    # assembeling numeric features to create a vector\n",
    "    assembler = VectorAssembler(inputCols=['registered_days',\n",
    "                                           'friends',\n",
    "                                           'thumbs_ups',\n",
    "                                           'thumbs_downs',\n",
    "                                           'add_playlist',\n",
    "                                           'roll_advert',\n",
    "                                           'daily_song',\n",
    "                                           'session_song',\n",
    "                                           'session_duration'], \n",
    "                                outputCol=\"features\")\n",
    "    \n",
    "    # use the transform method to transform df\n",
    "    df_model = assembler.transform(df_model)\n",
    "    \n",
    "    # standardize numeric feature vector\n",
    "    standardscaler=StandardScaler().setInputCol(\"features\")\\\n",
    "                                   .setOutputCol(\"Scaled_features\")\n",
    "    df_model = standardscaler.fit(df_model)\\\n",
    "                             .transform(df_model)\n",
    " \n",
    "    # Combine all features in one single feature vector\n",
    "    assembler = VectorAssembler(inputCols=['Scaled_features',\n",
    "                                           'downgraded',\n",
    "                                           'gender_index',\n",
    "                                           'valid_level_index',\n",
    "                                           'agent_index'],\n",
    "                                outputCol='exp_features')\n",
    "    \n",
    "    # use the transform method to transform df\n",
    "    df_model = assembler.transform(df_model)\n",
    "    \n",
    "    return df_model"
   ]
  },
  {
   "cell_type": "code",
   "execution_count": 15,
   "metadata": {},
   "outputs": [],
   "source": [
    "df_model = transform_features(df_model)"
   ]
  },
  {
   "cell_type": "code",
   "execution_count": 16,
   "metadata": {},
   "outputs": [],
   "source": [
    "df_model = df_model.select('label','exp_features')"
   ]
  },
  {
   "cell_type": "code",
   "execution_count": 32,
   "metadata": {},
   "outputs": [
    {
     "name": "stdout",
     "output_type": "stream",
     "text": [
      "+-----+------------------------------------------------------------------------------------------------------------------------------------------------------------------------------------------+\n",
      "|label|exp_features                                                                                                                                                                              |\n",
      "+-----+------------------------------------------------------------------------------------------------------------------------------------------------------------------------------------------+\n",
      "|0    |[1.46095433566683,1.0144883259394453,1.454671131687067,1.6091251519374448,1.089964577268406,4.020176858369638,1.2518757615061304,0.922113675073389,0.8826912851795525,0.0,1.0,1.0,2.0]    |\n",
      "|0    |[1.859396427212329,1.5217324889091681,1.5402400217863064,3.861900364649867,1.245673802592464,0.8117664810169462,1.7609505596633548,1.5133926728303715,1.4937852518423198,1.0,0.0,0.0,2.0] |\n",
      "|1    |(13,[0,5,6,7,8,11,12],[1.8859592333153623,0.4638665605811121,0.2561382632237607,0.18770761833554994,0.16974832407299087,1.0,1.0])                                                         |\n",
      "|0    |[3.4797275994973584,2.815205104481961,3.0273683186834295,2.3990593174340082,3.1678773427998004,0.4638665605811121,3.8772929595496777,3.418624998936203,3.2591678222014244,1.0,1.0,0.0,1.0]|\n",
      "|1    |[0.5046933159576321,2.6630318555910444,4.278444504961962,2.703330255254907,4.048439858425508,0.0,5.074739340120759,4.953134778829324,4.922701398116735,1.0,0.0,0.0,0.0]                   |\n",
      "+-----+------------------------------------------------------------------------------------------------------------------------------------------------------------------------------------------+\n",
      "only showing top 5 rows\n",
      "\n"
     ]
    }
   ],
   "source": [
    "df_model.show(5,False)"
   ]
  },
  {
   "cell_type": "code",
   "execution_count": 18,
   "metadata": {},
   "outputs": [
    {
     "data": {
      "text/plain": [
       "225"
      ]
     },
     "execution_count": 18,
     "metadata": {},
     "output_type": "execute_result"
    }
   ],
   "source": [
    "df_model.count()"
   ]
  },
  {
   "cell_type": "code",
   "execution_count": 19,
   "metadata": {},
   "outputs": [
    {
     "data": {
      "text/plain": [
       "DataFrame[label: int, exp_features: vector]"
      ]
     },
     "execution_count": 19,
     "metadata": {},
     "output_type": "execute_result"
    }
   ],
   "source": [
    "df_model.cache()"
   ]
  },
  {
   "cell_type": "markdown",
   "metadata": {},
   "source": [
    "## Modeling\n",
    "Logistic regression, random forest, and gradient boosted tree models were selected to fit the data set. F1 score and AUC (Area Under The Curve) were selected as evaluation metrics. Because our training data is imbalanced (there are less churned than stayed users, and from the perspective of the company, incorrectly identifying a user who was going to churn is more costly. In this case, F1-score is a better metric than the accuracy, because it provides a better measure of the incorrectly classified cases. AUC gives us a perspective over how good the model is regarding the separability, in another word, distinguishing 1 (churn) from 0 (stay)."
   ]
  },
  {
   "cell_type": "markdown",
   "metadata": {},
   "source": [
    "### Train test split\n",
    "As a first step break your data set into 80% of training data and set aside 20%. Set random seed to `42`."
   ]
  },
  {
   "cell_type": "code",
   "execution_count": 20,
   "metadata": {},
   "outputs": [
    {
     "name": "stdout",
     "output_type": "stream",
     "text": [
      "The number of training examples are 191\n",
      "The number of test examples are 34\n"
     ]
    }
   ],
   "source": [
    "rest, validation = df_model.randomSplit([0.8, 0.2], seed=42)\n",
    "print('The number of training examples are {}'.format(rest.count()))\n",
    "print('The number of test examples are {}'.format(validation.count()))"
   ]
  },
  {
   "cell_type": "markdown",
   "metadata": {},
   "source": [
    "### Check imbalance in the dataset"
   ]
  },
  {
   "cell_type": "code",
   "execution_count": 21,
   "metadata": {},
   "outputs": [
    {
     "name": "stdout",
     "output_type": "stream",
     "text": [
      "The number of ones are 42\n",
      "Percentage of ones are 21.98952879581152\n"
     ]
    }
   ],
   "source": [
    "dataset_size = float(rest.select('label').count())\n",
    "numPositives = rest.select('label').where('label == 1').count()\n",
    "per_ones = (float(numPositives)/float(dataset_size))*100\n",
    "numNegatives = float(dataset_size-numPositives)\n",
    "print('The number of ones are {}'.format(numPositives))\n",
    "print('Percentage of ones are {}'.format(per_ones))"
   ]
  },
  {
   "cell_type": "markdown",
   "metadata": {},
   "source": [
    "### Class weighing"
   ]
  },
  {
   "cell_type": "code",
   "execution_count": 22,
   "metadata": {},
   "outputs": [
    {
     "name": "stdout",
     "output_type": "stream",
     "text": [
      "BalancingRatio = 0.7801047120418848\n"
     ]
    }
   ],
   "source": [
    "BalancingRatio= numNegatives/dataset_size\n",
    "print('BalancingRatio = {}'.format(BalancingRatio))"
   ]
  },
  {
   "cell_type": "code",
   "execution_count": 23,
   "metadata": {},
   "outputs": [
    {
     "name": "stdout",
     "output_type": "stream",
     "text": [
      "+------------------+\n",
      "|      classWeights|\n",
      "+------------------+\n",
      "|0.2198952879581152|\n",
      "|0.7801047120418848|\n",
      "|0.2198952879581152|\n",
      "|0.7801047120418848|\n",
      "|0.7801047120418848|\n",
      "+------------------+\n",
      "only showing top 5 rows\n",
      "\n"
     ]
    }
   ],
   "source": [
    "# creating a new column named “classWeights” in the “rest” dataset\n",
    "rest = rest.withColumn(\"classWeights\", when(rest.label == 1,BalancingRatio).otherwise(1-BalancingRatio))\n",
    "rest.select(\"classWeights\").show(5)"
   ]
  },
  {
   "cell_type": "code",
   "execution_count": 24,
   "metadata": {},
   "outputs": [
    {
     "data": {
      "text/plain": [
       "DataFrame[label: int, exp_features: vector]"
      ]
     },
     "execution_count": 24,
     "metadata": {},
     "output_type": "execute_result"
    }
   ],
   "source": [
    "rest.cache()\n",
    "validation.cache()"
   ]
  },
  {
   "cell_type": "code",
   "execution_count": 35,
   "metadata": {},
   "outputs": [],
   "source": [
    "def model_eval(model, train_data, valid_data,verbose=False):\n",
    "    \"\"\"Train the model given training data set and evaluate on validation data set and return the evaluation metrics\n",
    "    \n",
    "    Param:\n",
    "        model: the spark machine learning model for classification\n",
    "        train_data: spark data frame for training data set\n",
    "        valid_data: spark data frame for validation data set\n",
    "        verbose: boolean indicator of showing the model result or not\n",
    "    Return:\n",
    "        result: a dictionary including F1 score, AUC score and feature importance\n",
    "    \"\"\"\n",
    "    \n",
    "    fitted_model = model.fit(train_data)\n",
    "\n",
    "    \n",
    "    exp_features = ['registered_days',\n",
    "                    'friends',\n",
    "                    'thumbs_ups',\n",
    "                    'thumbs_downs',\n",
    "                    'add_playlist',\n",
    "                    'roll_advert',\n",
    "                    'daily_song',\n",
    "                    'session_song',\n",
    "                    'session_duration',\n",
    "                    'downgraded',\n",
    "                    'gender_index',\n",
    "                    'valid_level_index',\n",
    "                    'agent_index']\n",
    "    \n",
    "    predict_rest = fitted_model.transform(train_data)\n",
    "    predict_val = fitted_model.transform(valid_data)\n",
    "\n",
    "    #F1 score\n",
    "    f1_score_evaluator = MulticlassClassificationEvaluator(metricName='f1')\n",
    "    f1_score_rest = f1_score_evaluator.evaluate(predict_rest.select(col('label'), col('prediction')))\n",
    "    f1_score_val = f1_score_evaluator.evaluate(predict_val.select(col('label'), col('prediction')))\n",
    "\n",
    "    #AUC\n",
    "    auc_evaluator = BinaryClassificationEvaluator()\n",
    "    roc_value_rest = auc_evaluator.evaluate(predict_rest, {auc_evaluator.metricName: \"areaUnderROC\"})\n",
    "    roc_value_val = auc_evaluator.evaluate(predict_val, {auc_evaluator.metricName: \"areaUnderROC\"})\n",
    "    \n",
    "    if verbose:\n",
    "        print('The F1 score on the train set is {:.2%}'.format(f1_score_rest))\n",
    "        print('The F1 score on the test set is {:.2%}'.format(f1_score_val)) \n",
    "        print('The areaUnderROC on the train set is {:.2%}'.format(roc_value_rest))\n",
    "        print('The areaUnderROC on the test set is {:.2%}'.format(roc_value_val))\n",
    "    \n",
    "    ## feature importances\n",
    "    if isinstance(model, LogisticRegression):\n",
    "        FI = fitted_model.coefficients\n",
    "        model_FI = pd.DataFrame(list(zip(exp_features, FI)), \n",
    "                                columns=['Feature', 'Coefficient']).sort_values('Coefficient', ascending=False)\n",
    "        if verbose:\n",
    "            model_FI.plot.bar(x='Feature', y='Coefficient')\n",
    "            plt.ylabel('Coefficient')\n",
    "            \n",
    "    if isinstance(model, RandomForestClassifier) or isinstance(model, GBTClassifier):\n",
    "        FI = fitted_model.featureImportances\n",
    "        model_FI = pd.DataFrame(list(zip(exp_features, FI)), \n",
    "                                columns=['Feature', 'FeatureImportances']).sort_values('FeatureImportances', ascending=False)\n",
    "        if verbose:\n",
    "            model_FI.plot.bar(x='Feature', y='FeatureImportances')\n",
    "            plt.ylabel('FeatureImportances')\n",
    "    if isinstance(model,CrossValidator):\n",
    "        FI = fitted_model.bestModel.featureImportances\n",
    "        model_FI = pd.DataFrame(list(zip(exp_features, FI)), \n",
    "                                columns=['Feature', 'FeatureImportances']).sort_values('FeatureImportances', ascending=False)\n",
    "        if verbose:\n",
    "            model_FI.plot.bar(x='Feature', y='FeatureImportances')\n",
    "            plt.ylabel('FeatureImportances')\n",
    "    \n",
    "    if verbose:\n",
    "        # visualizing fearue importances\n",
    "        plt.title('Feature importance of'+ str(type(model)))\n",
    "        plt.xlabel('Features')\n",
    "        plt.xticks(rotation=45, ha='right')\n",
    "        plt.show()\n",
    "\n",
    "    result = {}\n",
    "    result['f1_score_rest'] = f1_score_rest\n",
    "    result['f1_score_val'] = f1_score_val\n",
    "    result['roc_value_rest'] = roc_value_rest\n",
    "    result['roc_value_val'] = roc_value_val\n",
    "    result['model_FI']=model_FI\n",
    "    \n",
    "    return result"
   ]
  },
  {
   "cell_type": "markdown",
   "metadata": {},
   "source": [
    "### Logistic regression model"
   ]
  },
  {
   "cell_type": "code",
   "execution_count": 36,
   "metadata": {},
   "outputs": [
    {
     "name": "stdout",
     "output_type": "stream",
     "text": [
      "The F1 score on the train set is 74.38%\n",
      "The F1 score on the test set is 73.10%\n",
      "The areaUnderROC on the train set is 79.43%\n",
      "The areaUnderROC on the test set is 76.25%\n"
     ]
    },
    {
     "data": {
      "image/png": "[encoded data removed]",
      "text/plain": [
       "<matplotlib.figure.Figure at 0x7f29d679aa90>"
      ]
     },
     "metadata": {
      "needs_background": "light"
     },
     "output_type": "display_data"
    },
    {
     "data": {
      "text/plain": [
       "{'f1_score_rest': 0.7438047080348289,\n",
       " 'f1_score_val': 0.731029253806786,\n",
       " 'roc_value_rest': 0.7943432406519648,\n",
       " 'roc_value_val': 0.7625000000000001,\n",
       " 'model_FI':               Feature  Coefficient\n",
       " 6          daily_song     1.070573\n",
       " 9          downgraded     0.813533\n",
       " 11  valid_level_index     0.417123\n",
       " 5         roll_advert     0.374592\n",
       " 3        thumbs_downs     0.224694\n",
       " 2          thumbs_ups     0.203438\n",
       " 4        add_playlist     0.052124\n",
       " 1             friends    -0.152221\n",
       " 12        agent_index    -0.198234\n",
       " 10       gender_index    -0.378273\n",
       " 8    session_duration    -0.582143\n",
       " 7        session_song    -0.843315\n",
       " 0     registered_days    -1.095416}"
      ]
     },
     "execution_count": 36,
     "metadata": {},
     "output_type": "execute_result"
    }
   ],
   "source": [
    "lr = LogisticRegression(labelCol=\"label\", featuresCol=\"exp_features\",weightCol=\"classWeights\",maxIter=10)\n",
    "result_lr = model_eval(lr, rest, validation, verbose=True)\n",
    "result_lr"
   ]
  },
  {
   "cell_type": "markdown",
   "metadata": {},
   "source": [
    "### Random forest model"
   ]
  },
  {
   "cell_type": "code",
   "execution_count": 37,
   "metadata": {},
   "outputs": [
    {
     "name": "stdout",
     "output_type": "stream",
     "text": [
      "The F1 score on the train set is 90.21%\n",
      "The F1 score on the test set is 70.31%\n",
      "The areaUnderROC on the train set is 98.21%\n",
      "The areaUnderROC on the test set is 80.00%\n"
     ]
    },
    {
     "data": {
      "image/png": "[encoded data removed]",
      "text/plain": [
       "<matplotlib.figure.Figure at 0x7f29dc0bb1d0>"
      ]
     },
     "metadata": {
      "needs_background": "light"
     },
     "output_type": "display_data"
    },
    {
     "data": {
      "text/plain": [
       "{'f1_score_rest': 0.9021047839833493,\n",
       " 'f1_score_val': 0.7030812324929971,\n",
       " 'roc_value_rest': 0.9821029082774048,\n",
       " 'roc_value_val': 0.7999999999999999,\n",
       " 'model_FI':               Feature  FeatureImportances\n",
       " 0     registered_days            0.297731\n",
       " 1             friends            0.128951\n",
       " 6          daily_song            0.093057\n",
       " 2          thumbs_ups            0.080929\n",
       " 3        thumbs_downs            0.078907\n",
       " 5         roll_advert            0.077164\n",
       " 4        add_playlist            0.074675\n",
       " 8    session_duration            0.057215\n",
       " 7        session_song            0.046073\n",
       " 12        agent_index            0.030209\n",
       " 11  valid_level_index            0.015543\n",
       " 10       gender_index            0.010930\n",
       " 9          downgraded            0.008616}"
      ]
     },
     "execution_count": 37,
     "metadata": {},
     "output_type": "execute_result"
    }
   ],
   "source": [
    "rf = RandomForestClassifier(labelCol=\"label\", featuresCol=\"exp_features\")\n",
    "result_rf = model_eval(rf, rest, validation, verbose=True)\n",
    "result_rf"
   ]
  },
  {
   "cell_type": "markdown",
   "metadata": {},
   "source": [
    "### Gradient boosted tree model"
   ]
  },
  {
   "cell_type": "code",
   "execution_count": 38,
   "metadata": {},
   "outputs": [
    {
     "name": "stdout",
     "output_type": "stream",
     "text": [
      "The F1 score on the train set is 99.47%\n",
      "The F1 score on the test set is 68.04%\n",
      "The areaUnderROC on the train set is 100.00%\n",
      "The areaUnderROC on the test set is 64.58%\n"
     ]
    },
    {
     "data": {
      "image/png": "[encoded data removed]",
      "text/plain": [
       "<matplotlib.figure.Figure at 0x7f29dca9add8>"
      ]
     },
     "metadata": {
      "needs_background": "light"
     },
     "output_type": "display_data"
    },
    {
     "data": {
      "text/plain": [
       "{'f1_score_rest': 0.9947416133215556,\n",
       " 'f1_score_val': 0.6804298642533937,\n",
       " 'roc_value_rest': 1.0,\n",
       " 'roc_value_val': 0.6458333333333334,\n",
       " 'model_FI':               Feature  FeatureImportances\n",
       " 0     registered_days            0.223323\n",
       " 1             friends            0.169686\n",
       " 4        add_playlist            0.101518\n",
       " 2          thumbs_ups            0.100753\n",
       " 6          daily_song            0.095390\n",
       " 5         roll_advert            0.086766\n",
       " 3        thumbs_downs            0.062618\n",
       " 7        session_song            0.060988\n",
       " 12        agent_index            0.042665\n",
       " 11  valid_level_index            0.020857\n",
       " 10       gender_index            0.020020\n",
       " 8    session_duration            0.015416\n",
       " 9          downgraded            0.000000}"
      ]
     },
     "execution_count": 38,
     "metadata": {},
     "output_type": "execute_result"
    }
   ],
   "source": [
    "# Initialize Gradient-Boosted Tree object\n",
    "gbt = GBTClassifier(labelCol=\"label\", featuresCol=\"exp_features\", maxIter=10)\n",
    "result_gbt = model_eval(gbt, rest, validation, verbose=True)\n",
    "result_gbt"
   ]
  },
  {
   "cell_type": "markdown",
   "metadata": {},
   "source": [
    "### Hyperparameter tuning\n",
    "Create a parameter grid for tuning the model and perform cross validation. Because of time limitation this step was only done to GBT model, which gave best scores on the former session."
   ]
  },
  {
   "cell_type": "code",
   "execution_count": 39,
   "metadata": {},
   "outputs": [
    {
     "name": "stdout",
     "output_type": "stream",
     "text": [
      "The F1 score on the train set is 87.73%\n",
      "The F1 score on the test set is 72.74%\n",
      "The areaUnderROC on the train set is 91.27%\n",
      "The areaUnderROC on the test set is 78.33%\n"
     ]
    },
    {
     "data": {
      "image/png": "[encoded data removed]",
      "text/plain": [
       "<matplotlib.figure.Figure at 0x7f29ded86dd8>"
      ]
     },
     "metadata": {
      "needs_background": "light"
     },
     "output_type": "display_data"
    },
    {
     "data": {
      "text/plain": [
       "{'f1_score_rest': 0.8772780459172849,\n",
       " 'f1_score_val': 0.7273576097105509,\n",
       " 'roc_value_rest': 0.9126717801214443,\n",
       " 'roc_value_val': 0.7833333333333334,\n",
       " 'model_FI':               Feature  FeatureImportances\n",
       " 0     registered_days            0.198739\n",
       " 3        thumbs_downs            0.176970\n",
       " 1             friends            0.174326\n",
       " 2          thumbs_ups            0.162058\n",
       " 5         roll_advert            0.097549\n",
       " 10       gender_index            0.073459\n",
       " 6          daily_song            0.054216\n",
       " 8    session_duration            0.048580\n",
       " 4        add_playlist            0.014103\n",
       " 7        session_song            0.000000\n",
       " 9          downgraded            0.000000\n",
       " 11  valid_level_index            0.000000\n",
       " 12        agent_index            0.000000}"
      ]
     },
     "execution_count": 39,
     "metadata": {},
     "output_type": "execute_result"
    }
   ],
   "source": [
    "# logistic regression model parameters\n",
    "lrparamGrid = ParamGridBuilder() \\\n",
    "    .addGrid(lr.elasticNetParam,[0.0, 0.1, 0.5]) \\\n",
    "    .addGrid(lr.regParam,[0.0, 0.05, 0.1]) \\\n",
    "    .build()\n",
    "\n",
    "# Create 3-fold CrossValidator\n",
    "crossval_lr = CrossValidator(estimator=lr,estimatorParamMaps=lrparamGrid,evaluator=evaluator,numFolds=3)\n",
    "result_cv = model_eval(cv, rest, validation, verbose=True)\n",
    "result_cv"
   ]
  },
  {
   "cell_type": "code",
   "execution_count": 40,
   "metadata": {},
   "outputs": [],
   "source": [
    "# for Gradient-Boosted Tree model\n",
    "#gbparamGrid = (ParamGridBuilder()\n",
    "#             .addGrid(gbt.maxDepth, [2, 5, 10])\n",
    "#             .addGrid(gbt.maxIter, [5, 10, 15])\n",
    "#             .build())"
   ]
  },
  {
   "cell_type": "code",
   "execution_count": 42,
   "metadata": {},
   "outputs": [],
   "source": [
    "\n",
    "# Create 3-fold CrossValidator\n",
    "#evaluator = BinaryClassificationEvaluator(rawPredictionCol=\"rawPrediction\",labelCol=\"label\")\n",
    "#cv = CrossValidator(estimator=gbt, estimatorParamMaps=gbparamGrid, evaluator=evaluator, numFolds=3)\n",
    "#result_cv = model_eval(cv, rest, validation, verbose=True)\n",
    "#result_cv"
   ]
  },
  {
   "cell_type": "markdown",
   "metadata": {},
   "source": [
    "## Conclusion\n"
   ]
  },
  {
   "cell_type": "markdown",
   "metadata": {},
   "source": [
    "In this project, churn prediction was performed based on an event data set for a music streaming provider. This was basically a binary classification problem. After loading and cleaning data, I performed some exploratory analysis and provided insights on the next step of feature engineering. All together 13 explanatory features were selected and logistic regression, random forest, and gradient-boosted tree models were fitted respectively to a training data set.\n",
    "The model performance was the best for the logistic regression on small data set, with an F1 score of 73.10 on the test set. The other two models were both suffered from overfitting. Hyperparameter tuning and cross-validation was not very helpful in solving overfitting, probably because of a small number of sample size. Due to time and budget limitations, the final models were not tested on the big data set. However, the completely scalable process shed a light on solving the churn prediction problem on big data with Spark on Cloud.\n"
   ]
  },
  {
   "cell_type": "markdown",
   "metadata": {},
   "source": [
    "## Future work\n",
    "\n",
    "### Finer feature engineering\n",
    "\n",
    "Feature engineering was one of the most important steps on this project, due to the trade-off between better model performance and training time, it was impossible and unnecessary to select as many features as I wanted. At the beginning fewer features were tested on the full data set (refer Sparkify_AWS), as a result, the model performance was not satisfying, that's why I created more features and tested on the small data set. Although there was an improvement in the model performance, it was probably not the ideal result. There are some techniques that might help in the feature selection process. For example, the ChiSqSelector provided by Spark ML for selecting significant features.\n",
    "\n",
    "### Create balanced training data\n",
    "\n",
    "Imbalanced samples (with more \"0\" labeled rows than \"1\") was another factor that holding back our model performance. Introducing weight balance was only possible for the logistic regression algorithm. In future work, we could randomly select the same number of \"0\" rows to \"1\" rows to create balanced training data and fit models, which might improve the model performances. "
   ]
  },
  {
   "cell_type": "code",
   "execution_count": null,
   "metadata": {},
   "outputs": [],
   "source": []
  },
  {
   "cell_type": "code",
   "execution_count": null,
   "metadata": {},
   "outputs": [],
   "source": []
  }
 ],
 "metadata": {
  "kernelspec": {
   "display_name": "Python 3",
   "language": "python",
   "name": "python3"
  },
  "language_info": {
   "codemirror_mode": {
    "name": "ipython",
    "version": 3
   },
   "file_extension": ".py",
   "mimetype": "text/x-python",
   "name": "python",
   "nbconvert_exporter": "python",
   "pygments_lexer": "ipython3",
   "version": "3.6.3"
  }
 },
 "nbformat": 4,
 "nbformat_minor": 4
}
