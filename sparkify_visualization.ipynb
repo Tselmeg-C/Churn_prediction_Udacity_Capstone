{
 "cells": [
  {
   "cell_type": "code",
   "execution_count": 1,
   "metadata": {},
   "outputs": [
    {
     "data": {
      "application/vnd.jupyter.widget-view+json": {
       "model_id": "38ab14ff30a34d45a3de21e893cbd178",
       "version_major": 2,
       "version_minor": 0
      },
      "text/plain": [
       "VBox()"
      ]
     },
     "metadata": {},
     "output_type": "display_data"
    },
    {
     "name": "stdout",
     "output_type": "stream",
     "text": [
      "Starting Spark application\n"
     ]
    },
    {
     "data": {
      "text/html": [
       "<table>\n",
       "<tr><th>ID</th><th>YARN Application ID</th><th>Kind</th><th>State</th><th>Spark UI</th><th>Driver log</th><th>Current session?</th></tr><tr><td>0</td><td>application_1597523960888_0001</td><td>pyspark</td><td>idle</td><td><a target=\"_blank\" href=\"http://ip-172-31-21-69.eu-central-1.compute.internal:20888/proxy/application_1597523960888_0001/\">Link</a></td><td><a target=\"_blank\" href=\"http://ip-172-31-31-195.eu-central-1.compute.internal:8042/node/containerlogs/container_1597523960888_0001_01_000001/livy\">Link</a></td><td>✔</td></tr></table>"
      ],
      "text/plain": [
       "<IPython.core.display.HTML object>"
      ]
     },
     "metadata": {},
     "output_type": "display_data"
    },
    {
     "data": {
      "application/vnd.jupyter.widget-view+json": {
       "model_id": "",
       "version_major": 2,
       "version_minor": 0
      },
      "text/plain": [
       "FloatProgress(value=0.0, bar_style='info', description='Progress:', layout=Layout(height='25px', width='50%'),…"
      ]
     },
     "metadata": {},
     "output_type": "display_data"
    },
    {
     "name": "stdout",
     "output_type": "stream",
     "text": [
      "SparkSession available as 'spark'.\n"
     ]
    },
    {
     "data": {
      "application/vnd.jupyter.widget-view+json": {
       "model_id": "",
       "version_major": 2,
       "version_minor": 0
      },
      "text/plain": [
       "FloatProgress(value=0.0, bar_style='info', description='Progress:', layout=Layout(height='25px', width='50%'),…"
      ]
     },
     "metadata": {},
     "output_type": "display_data"
    },
    {
     "name": "stdout",
     "output_type": "stream",
     "text": [
      "Welcome to my EMR Notebook!"
     ]
    }
   ],
   "source": [
    "print(\"Welcome to my EMR Notebook!\")"
   ]
  },
  {
   "cell_type": "code",
   "execution_count": 2,
   "metadata": {},
   "outputs": [
    {
     "data": {
      "text/html": [
       "Current session configs: <tt>{'conf': {'spark.pyspark.python': 'python3', 'spark.pyspark.virtualenv.enabled': 'true', 'spark.pyspark.virtualenv.type': 'native', 'spark.pyspark.virtualenv.bin.path': '/usr/bin/virtualenv'}, 'kind': 'pyspark'}</tt><br>"
      ],
      "text/plain": [
       "<IPython.core.display.HTML object>"
      ]
     },
     "metadata": {},
     "output_type": "display_data"
    },
    {
     "data": {
      "text/html": [
       "<table>\n",
       "<tr><th>ID</th><th>YARN Application ID</th><th>Kind</th><th>State</th><th>Spark UI</th><th>Driver log</th><th>Current session?</th></tr><tr><td>0</td><td>application_1597523960888_0001</td><td>pyspark</td><td>idle</td><td><a target=\"_blank\" href=\"http://ip-172-31-21-69.eu-central-1.compute.internal:20888/proxy/application_1597523960888_0001/\">Link</a></td><td><a target=\"_blank\" href=\"http://ip-172-31-31-195.eu-central-1.compute.internal:8042/node/containerlogs/container_1597523960888_0001_01_000001/livy\">Link</a></td><td>✔</td></tr></table>"
      ],
      "text/plain": [
       "<IPython.core.display.HTML object>"
      ]
     },
     "metadata": {},
     "output_type": "display_data"
    }
   ],
   "source": [
    "%%info"
   ]
  },
  {
   "cell_type": "code",
   "execution_count": 3,
   "metadata": {},
   "outputs": [
    {
     "data": {
      "application/vnd.jupyter.widget-view+json": {
       "model_id": "014be3b3d5e54856915bcb64d9afa1dd",
       "version_major": 2,
       "version_minor": 0
      },
      "text/plain": [
       "VBox()"
      ]
     },
     "metadata": {},
     "output_type": "display_data"
    },
    {
     "data": {
      "application/vnd.jupyter.widget-view+json": {
       "model_id": "",
       "version_major": 2,
       "version_minor": 0
      },
      "text/plain": [
       "FloatProgress(value=0.0, bar_style='info', description='Progress:', layout=Layout(height='25px', width='50%'),…"
      ]
     },
     "metadata": {},
     "output_type": "display_data"
    },
    {
     "name": "stdout",
     "output_type": "stream",
     "text": [
      "Package                    Version\n",
      "-------------------------- -------\n",
      "beautifulsoup4             4.9.0  \n",
      "boto                       2.49.0 \n",
      "jmespath                   0.9.5  \n",
      "lxml                       4.5.0  \n",
      "mysqlclient                1.4.2  \n",
      "nltk                       3.4.5  \n",
      "nose                       1.3.4  \n",
      "numpy                      1.16.5 \n",
      "pip                        9.0.1  \n",
      "py-dateutil                2.2    \n",
      "python37-sagemaker-pyspark 1.3.0  \n",
      "pytz                       2019.3 \n",
      "PyYAML                     5.3.1  \n",
      "setuptools                 28.8.0 \n",
      "six                        1.13.0 \n",
      "soupsieve                  1.9.5  \n",
      "wheel                      0.29.0 \n",
      "windmill                   1.6"
     ]
    }
   ],
   "source": [
    "sc.list_packages()"
   ]
  },
  {
   "cell_type": "code",
   "execution_count": 4,
   "metadata": {
    "scrolled": false
   },
   "outputs": [
    {
     "data": {
      "application/vnd.jupyter.widget-view+json": {
       "model_id": "40f7240b701244b4bf61fc50dfe9a7b2",
       "version_major": 2,
       "version_minor": 0
      },
      "text/plain": [
       "VBox()"
      ]
     },
     "metadata": {},
     "output_type": "display_data"
    },
    {
     "data": {
      "application/vnd.jupyter.widget-view+json": {
       "model_id": "",
       "version_major": 2,
       "version_minor": 0
      },
      "text/plain": [
       "FloatProgress(value=0.0, bar_style='info', description='Progress:', layout=Layout(height='25px', width='50%'),…"
      ]
     },
     "metadata": {},
     "output_type": "display_data"
    },
    {
     "name": "stdout",
     "output_type": "stream",
     "text": [
      "Collecting pandas==0.25.1\n",
      "  Downloading https://files.pythonhosted.org/packages/7e/ab/ea76361f9d3e732e114adcd801d2820d5319c23d0ac5482fa3b412db217e/pandas-0.25.1-cp37-cp37m-manylinux1_x86_64.whl (10.4MB)\n",
      "Requirement already satisfied: pytz>=2017.2 in /usr/local/lib/python3.7/site-packages (from pandas==0.25.1)\n",
      "Requirement already satisfied: numpy>=1.13.3 in /usr/local/lib64/python3.7/site-packages (from pandas==0.25.1)\n",
      "Collecting python-dateutil>=2.6.1 (from pandas==0.25.1)\n",
      "  Downloading https://files.pythonhosted.org/packages/d4/70/d60450c3dd48ef87586924207ae8907090de0b306af2bce5d134d78615cb/python_dateutil-2.8.1-py2.py3-none-any.whl (227kB)\n",
      "Requirement already satisfied: six>=1.5 in /usr/local/lib/python3.7/site-packages (from python-dateutil>=2.6.1->pandas==0.25.1)\n",
      "Installing collected packages: python-dateutil, pandas\n",
      "Successfully installed pandas-0.25.1 python-dateutil-2.8.1\n",
      "\n",
      "Collecting matplotlib\n",
      "  Downloading https://files.pythonhosted.org/packages/f1/b9/712584f12f840968a14969a1fe298ffdeaa9c4b484b3bfd973c74c4a481d/matplotlib-3.3.1-cp37-cp37m-manylinux1_x86_64.whl (11.6MB)\n",
      "Collecting certifi>=2020.06.20 (from matplotlib)\n",
      "  Downloading https://files.pythonhosted.org/packages/5e/c4/6c4fe722df5343c33226f0b4e0bb042e4dc13483228b4718baf286f86d87/certifi-2020.6.20-py2.py3-none-any.whl (156kB)\n",
      "Requirement already satisfied: numpy>=1.15 in /usr/local/lib64/python3.7/site-packages (from matplotlib)\n",
      "Requirement already satisfied: python-dateutil>=2.1 in /mnt/tmp/1597524246795-0/lib/python3.7/site-packages (from matplotlib)\n",
      "Collecting pyparsing!=2.0.4,!=2.1.2,!=2.1.6,>=2.0.3 (from matplotlib)\n",
      "  Downloading https://files.pythonhosted.org/packages/8a/bb/488841f56197b13700afd5658fc279a2025a39e22449b7cf29864669b15d/pyparsing-2.4.7-py2.py3-none-any.whl (67kB)\n",
      "Collecting pillow>=6.2.0 (from matplotlib)\n",
      "  Downloading https://files.pythonhosted.org/packages/e8/f2/6722dd0c22e3a143ac792ccb2424924ac72af4adea756b1165b4cad50da7/Pillow-7.2.0-cp37-cp37m-manylinux1_x86_64.whl (2.2MB)\n",
      "Collecting cycler>=0.10 (from matplotlib)\n",
      "  Downloading https://files.pythonhosted.org/packages/f7/d2/e07d3ebb2bd7af696440ce7e754c59dd546ffe1bbe732c8ab68b9c834e61/cycler-0.10.0-py2.py3-none-any.whl\n",
      "Collecting kiwisolver>=1.0.1 (from matplotlib)\n",
      "  Downloading https://files.pythonhosted.org/packages/31/b9/6202dcae729998a0ade30e80ac00f616542ef445b088ec970d407dfd41c0/kiwisolver-1.2.0-cp37-cp37m-manylinux1_x86_64.whl (88kB)\n",
      "Requirement already satisfied: six>=1.5 in /usr/local/lib/python3.7/site-packages (from python-dateutil>=2.1->matplotlib)\n",
      "Installing collected packages: certifi, pyparsing, pillow, cycler, kiwisolver, matplotlib\n",
      "Successfully installed certifi-2020.6.20 cycler-0.10.0 kiwisolver-1.2.0 matplotlib-3.3.1 pillow-7.2.0 pyparsing-2.4.7\n",
      "\n",
      "Collecting seaborn==0.10.1\n",
      "  Downloading https://files.pythonhosted.org/packages/c7/e6/54aaaafd0b87f51dfba92ba73da94151aa3bc179e5fe88fc5dfb3038e860/seaborn-0.10.1-py3-none-any.whl (215kB)\n",
      "Requirement already satisfied: pandas>=0.22.0 in /mnt/tmp/1597524246795-0/lib/python3.7/site-packages (from seaborn==0.10.1)\n",
      "Requirement already satisfied: numpy>=1.13.3 in /usr/local/lib64/python3.7/site-packages (from seaborn==0.10.1)\n",
      "Collecting scipy>=1.0.1 (from seaborn==0.10.1)\n",
      "  Downloading https://files.pythonhosted.org/packages/65/f9/f7a7e5009711579c72da2725174825e5056741bf4001815d097eef1b2e17/scipy-1.5.2-cp37-cp37m-manylinux1_x86_64.whl (25.9MB)\n",
      "Requirement already satisfied: matplotlib>=2.1.2 in /mnt/tmp/1597524246795-0/lib/python3.7/site-packages (from seaborn==0.10.1)\n",
      "Requirement already satisfied: pytz>=2017.2 in /usr/local/lib/python3.7/site-packages (from pandas>=0.22.0->seaborn==0.10.1)\n",
      "Requirement already satisfied: python-dateutil>=2.6.1 in /mnt/tmp/1597524246795-0/lib/python3.7/site-packages (from pandas>=0.22.0->seaborn==0.10.1)\n",
      "Requirement already satisfied: certifi>=2020.06.20 in /mnt/tmp/1597524246795-0/lib/python3.7/site-packages (from matplotlib>=2.1.2->seaborn==0.10.1)\n",
      "Requirement already satisfied: pyparsing!=2.0.4,!=2.1.2,!=2.1.6,>=2.0.3 in /mnt/tmp/1597524246795-0/lib/python3.7/site-packages (from matplotlib>=2.1.2->seaborn==0.10.1)\n",
      "Requirement already satisfied: pillow>=6.2.0 in /mnt/tmp/1597524246795-0/lib/python3.7/site-packages (from matplotlib>=2.1.2->seaborn==0.10.1)\n",
      "Requirement already satisfied: cycler>=0.10 in /mnt/tmp/1597524246795-0/lib/python3.7/site-packages (from matplotlib>=2.1.2->seaborn==0.10.1)\n",
      "Requirement already satisfied: kiwisolver>=1.0.1 in /mnt/tmp/1597524246795-0/lib/python3.7/site-packages (from matplotlib>=2.1.2->seaborn==0.10.1)\n",
      "Requirement already satisfied: six>=1.5 in /usr/local/lib/python3.7/site-packages (from python-dateutil>=2.6.1->pandas>=0.22.0->seaborn==0.10.1)\n",
      "Installing collected packages: scipy, seaborn\n",
      "Successfully installed scipy-1.5.2 seaborn-0.10.1\n",
      "\n",
      "Collecting ipython==7.17.0\n",
      "  Downloading https://files.pythonhosted.org/packages/e7/ba/0ea438e2acd68ce79fde9cf57b4b1f18386969d8a013cd549254b151dde1/ipython-7.17.0-py3-none-any.whl (786kB)\n",
      "Requirement already satisfied: setuptools>=18.5 in /mnt/tmp/1597524246795-0/lib/python3.7/site-packages (from ipython==7.17.0)\n",
      "Collecting decorator (from ipython==7.17.0)\n",
      "  Downloading https://files.pythonhosted.org/packages/ed/1b/72a1821152d07cf1d8b6fce298aeb06a7eb90f4d6d41acec9861e7cc6df0/decorator-4.4.2-py2.py3-none-any.whl\n",
      "Collecting traitlets>=4.2 (from ipython==7.17.0)\n",
      "  Downloading https://files.pythonhosted.org/packages/ca/ab/872a23e29cec3cf2594af7e857f18b687ad21039c1f9b922fac5b9b142d5/traitlets-4.3.3-py2.py3-none-any.whl (75kB)\n",
      "Collecting pexpect; sys_platform != \"win32\" (from ipython==7.17.0)\n",
      "  Downloading https://files.pythonhosted.org/packages/39/7b/88dbb785881c28a102619d46423cb853b46dbccc70d3ac362d99773a78ce/pexpect-4.8.0-py2.py3-none-any.whl (59kB)\n",
      "Collecting jedi>=0.10 (from ipython==7.17.0)\n",
      "  Downloading https://files.pythonhosted.org/packages/c3/d4/36136b18daae06ad798966735f6c3fb96869c1be9f8245d2a8f556e40c36/jedi-0.17.2-py2.py3-none-any.whl (1.4MB)\n",
      "Collecting prompt-toolkit!=3.0.0,!=3.0.1,<3.1.0,>=2.0.0 (from ipython==7.17.0)\n",
      "  Downloading https://files.pythonhosted.org/packages/72/65/a3ef98b56d57a6d0a04cea5810ecbf3700a225d296ca298b3442dddebb42/prompt_toolkit-3.0.6-py3-none-any.whl (354kB)\n",
      "Collecting pickleshare (from ipython==7.17.0)\n",
      "  Downloading https://files.pythonhosted.org/packages/9a/41/220f49aaea88bc6fa6cba8d05ecf24676326156c23b991e80b3f2fc24c77/pickleshare-0.7.5-py2.py3-none-any.whl\n",
      "Collecting backcall (from ipython==7.17.0)\n",
      "  Downloading https://files.pythonhosted.org/packages/4c/1c/ff6546b6c12603d8dd1070aa3c3d273ad4c07f5771689a7b69a550e8c951/backcall-0.2.0-py2.py3-none-any.whl\n",
      "Collecting pygments (from ipython==7.17.0)\n",
      "  Downloading https://files.pythonhosted.org/packages/2d/68/106af3ae51daf807e9cdcba6a90e518954eb8b70341cee52995540a53ead/Pygments-2.6.1-py3-none-any.whl (914kB)\n",
      "Collecting ipython-genutils (from traitlets>=4.2->ipython==7.17.0)\n",
      "  Downloading https://files.pythonhosted.org/packages/fa/bc/9bd3b5c2b4774d5f33b2d544f1460be9df7df2fe42f352135381c347c69a/ipython_genutils-0.2.0-py2.py3-none-any.whl\n",
      "Requirement already satisfied: six in /usr/local/lib/python3.7/site-packages (from traitlets>=4.2->ipython==7.17.0)\n",
      "Collecting ptyprocess>=0.5 (from pexpect; sys_platform != \"win32\"->ipython==7.17.0)\n",
      "  Downloading https://files.pythonhosted.org/packages/d1/29/605c2cc68a9992d18dada28206eeada56ea4bd07a239669da41674648b6f/ptyprocess-0.6.0-py2.py3-none-any.whl\n",
      "Collecting parso<0.8.0,>=0.7.0 (from jedi>=0.10->ipython==7.17.0)\n",
      "  Downloading https://files.pythonhosted.org/packages/93/d1/e635bdde32890db5aeb2ffbde17e74f68986305a4466b0aa373b861e3f00/parso-0.7.1-py2.py3-none-any.whl (109kB)\n",
      "Collecting wcwidth (from prompt-toolkit!=3.0.0,!=3.0.1,<3.1.0,>=2.0.0->ipython==7.17.0)\n",
      "  Downloading https://files.pythonhosted.org/packages/59/7c/e39aca596badaf1b78e8f547c807b04dae603a433d3e7a7e04d67f2ef3e5/wcwidth-0.2.5-py2.py3-none-any.whl\n",
      "Installing collected packages: decorator, ipython-genutils, traitlets, ptyprocess, pexpect, parso, jedi, wcwidth, prompt-toolkit, pickleshare, backcall, pygments, ipython\n",
      "Successfully installed backcall-0.2.0 decorator-4.4.2 ipython-7.17.0 ipython-genutils-0.2.0 jedi-0.17.2 parso-0.7.1 pexpect-4.8.0 pickleshare-0.7.5 prompt-toolkit-3.0.6 ptyprocess-0.6.0 pygments-2.6.1 traitlets-4.3.3 wcwidth-0.2.5"
     ]
    }
   ],
   "source": [
    "sc.install_pypi_package(\"pandas==0.25.1\") #Install pandas version 0.25.1 \n",
    "sc.install_pypi_package(\"matplotlib\") #Install matplotlib from given PyPI repository\n",
    "sc.install_pypi_package(\"seaborn==0.10.1\") #Install seaborn version 0.10.1\n",
    "sc.install_pypi_package(\"ipython==7.17.0\") #install ipython version 7.17.0"
   ]
  },
  {
   "cell_type": "code",
   "execution_count": 5,
   "metadata": {
    "scrolled": true
   },
   "outputs": [
    {
     "data": {
      "application/vnd.jupyter.widget-view+json": {
       "model_id": "",
       "version_major": 2,
       "version_minor": 0
      },
      "text/plain": [
       "VBox()"
      ]
     },
     "metadata": {},
     "output_type": "display_data"
    },
    {
     "data": {
      "application/vnd.jupyter.widget-view+json": {
       "model_id": "",
       "version_major": 2,
       "version_minor": 0
      },
      "text/plain": [
       "FloatProgress(value=0.0, bar_style='info', description='Progress:', layout=Layout(height='25px', width='50%'),…"
      ]
     },
     "metadata": {},
     "output_type": "display_data"
    },
    {
     "name": "stderr",
     "output_type": "stream",
     "text": [
      "'SparkContext' object has no attribute 'list_packages'\n",
      "Traceback (most recent call last):\n",
      "AttributeError: 'SparkContext' object has no attribute 'list_packages'\n",
      "\n"
     ]
    }
   ],
   "source": [
    "sc.list_packages()"
   ]
  },
  {
   "cell_type": "code",
   "execution_count": 1,
   "metadata": {},
   "outputs": [],
   "source": [
    "# import libraries\n",
    "from pyspark import SparkConf, SparkContext\n",
    "from pyspark.sql import SparkSession,Window\n",
    "from pyspark.sql.types import *\n",
    "from pyspark.sql.functions import *\n",
    "\n",
    "import re\n",
    "import datetime\n",
    "\n",
    "import numpy as np\n",
    "import pandas as pd\n",
    "import seaborn as sb\n",
    "import matplotlib.pyplot as plt"
   ]
  },
  {
   "cell_type": "code",
   "execution_count": 2,
   "metadata": {},
   "outputs": [],
   "source": [
    "# Create spark session\n",
    "spark = SparkSession \\\n",
    "    .builder \\\n",
    "    .appName(\"Sparkify\") \\\n",
    "    .getOrCreate()"
   ]
  },
  {
   "cell_type": "code",
   "execution_count": 3,
   "metadata": {},
   "outputs": [
    {
     "data": {
      "text/plain": [
       "[('spark.rdd.compress', 'True'),\n",
       " ('spark.driver.host', 'b904597f18a2'),\n",
       " ('spark.app.name', 'Sparkify'),\n",
       " ('spark.app.id', 'local-1598432353507'),\n",
       " ('spark.serializer.objectStreamReset', '100'),\n",
       " ('spark.master', 'local[*]'),\n",
       " ('spark.executor.id', 'driver'),\n",
       " ('spark.submit.deployMode', 'client'),\n",
       " ('spark.ui.showConsoleProgress', 'true'),\n",
       " ('spark.driver.port', '33415')]"
      ]
     },
     "execution_count": 3,
     "metadata": {},
     "output_type": "execute_result"
    }
   ],
   "source": [
    "# session overview\n",
    "spark.sparkContext.getConf().getAll()"
   ]
  },
  {
   "cell_type": "code",
   "execution_count": 4,
   "metadata": {},
   "outputs": [
    {
     "data": {
      "text/html": [
       "\n",
       "            <div>\n",
       "                <p><b>SparkSession - in-memory</b></p>\n",
       "                \n",
       "        <div>\n",
       "            <p><b>SparkContext</b></p>\n",
       "\n",
       "            <p><a href=\"http://b904597f18a2:4041\">Spark UI</a></p>\n",
       "\n",
       "            <dl>\n",
       "              <dt>Version</dt>\n",
       "                <dd><code>v2.4.3</code></dd>\n",
       "              <dt>Master</dt>\n",
       "                <dd><code>local[*]</code></dd>\n",
       "              <dt>AppName</dt>\n",
       "                <dd><code>Sparkify</code></dd>\n",
       "            </dl>\n",
       "        </div>\n",
       "        \n",
       "            </div>\n",
       "        "
      ],
      "text/plain": [
       "<pyspark.sql.session.SparkSession at 0x7f434e6b8b38>"
      ]
     },
     "execution_count": 4,
     "metadata": {},
     "output_type": "execute_result"
    }
   ],
   "source": [
    "spark"
   ]
  },
  {
   "cell_type": "markdown",
   "metadata": {},
   "source": [
    "## Load and Clean Dataset\n",
    "Load and clean the dataset, checking for invalid or missing data - for example, records without userids or sessionids."
   ]
  },
  {
   "cell_type": "code",
   "execution_count": 5,
   "metadata": {},
   "outputs": [
    {
     "data": {
      "text/plain": [
       "Row(artist='Martha Tilston', auth='Logged In', firstName='Colin', gender='M', itemInSession=50, lastName='Freeman', length=277.89016, level='paid', location='Bakersfield, CA', method='PUT', page='NextSong', registration=1538173362000, sessionId=29, song='Rockpools', status=200, ts=1538352117000, userAgent='Mozilla/5.0 (Windows NT 6.1; WOW64; rv:31.0) Gecko/20100101 Firefox/31.0', userId='30')"
      ]
     },
     "execution_count": 5,
     "metadata": {},
     "output_type": "execute_result"
    }
   ],
   "source": [
    "# big data on cloud\n",
    "#user_log = \"s3n://udacity-dsnd/sparkify/sparkify_event_data.json\" \n",
    "\n",
    "#mini data on cloud\n",
    "#user_log = \"s3://aws-emr-resources-057584263306-eu-central-1/notebooks/e-1DYCDZU9IGL1MSTRN75J0HLSI/mini_sparkify_event_data.json\" \n",
    "\n",
    "# mini data local\n",
    "user_log = \"mini_sparkify_event_data.json\" \n",
    "df = spark.read.json(user_log)\n",
    "df.head()"
   ]
  },
  {
   "cell_type": "code",
   "execution_count": 35,
   "metadata": {},
   "outputs": [
    {
     "name": "stdout",
     "output_type": "stream",
     "text": [
      "root\n",
      " |-- artist: string (nullable = true)\n",
      " |-- auth: string (nullable = true)\n",
      " |-- firstName: string (nullable = true)\n",
      " |-- gender: string (nullable = true)\n",
      " |-- itemInSession: long (nullable = true)\n",
      " |-- lastName: string (nullable = true)\n",
      " |-- length: double (nullable = true)\n",
      " |-- level: string (nullable = true)\n",
      " |-- location: string (nullable = true)\n",
      " |-- method: string (nullable = true)\n",
      " |-- page: string (nullable = true)\n",
      " |-- registration: long (nullable = true)\n",
      " |-- sessionId: long (nullable = true)\n",
      " |-- song: string (nullable = true)\n",
      " |-- status: long (nullable = true)\n",
      " |-- ts: long (nullable = true)\n",
      " |-- userAgent: string (nullable = true)\n",
      " |-- userId: string (nullable = true)\n",
      "\n"
     ]
    }
   ],
   "source": [
    "# check columns\n",
    "df.printSchema()"
   ]
  },
  {
   "cell_type": "code",
   "execution_count": 7,
   "metadata": {},
   "outputs": [
    {
     "name": "stdout",
     "output_type": "stream",
     "text": [
      "+----------------+---------+---------+------+-------------+--------+---------+-----+--------------------+------+--------+-------------+---------+--------------------+------+-------------+--------------------+------+\n",
      "|          artist|     auth|firstName|gender|itemInSession|lastName|   length|level|            location|method|    page| registration|sessionId|                song|status|           ts|           userAgent|userId|\n",
      "+----------------+---------+---------+------+-------------+--------+---------+-----+--------------------+------+--------+-------------+---------+--------------------+------+-------------+--------------------+------+\n",
      "|  Martha Tilston|Logged In|    Colin|     M|           50| Freeman|277.89016| paid|     Bakersfield, CA|   PUT|NextSong|1538173362000|       29|           Rockpools|   200|1538352117000|Mozilla/5.0 (Wind...|    30|\n",
      "|Five Iron Frenzy|Logged In|    Micah|     M|           79|    Long|236.09424| free|Boston-Cambridge-...|   PUT|NextSong|1538331630000|        8|              Canada|   200|1538352180000|\"Mozilla/5.0 (Win...|     9|\n",
      "|    Adam Lambert|Logged In|    Colin|     M|           51| Freeman| 282.8273| paid|     Bakersfield, CA|   PUT|NextSong|1538173362000|       29|   Time For Miracles|   200|1538352394000|Mozilla/5.0 (Wind...|    30|\n",
      "|          Enigma|Logged In|    Micah|     M|           80|    Long|262.71302| free|Boston-Cambridge-...|   PUT|NextSong|1538331630000|        8|Knocking On Forbi...|   200|1538352416000|\"Mozilla/5.0 (Win...|     9|\n",
      "|       Daft Punk|Logged In|    Colin|     M|           52| Freeman|223.60771| paid|     Bakersfield, CA|   PUT|NextSong|1538173362000|       29|Harder Better Fas...|   200|1538352676000|Mozilla/5.0 (Wind...|    30|\n",
      "+----------------+---------+---------+------+-------------+--------+---------+-----+--------------------+------+--------+-------------+---------+--------------------+------+-------------+--------------------+------+\n",
      "only showing top 5 rows\n",
      "\n"
     ]
    }
   ],
   "source": [
    "# show first 5 rows\n",
    "df.show(n=5)"
   ]
  },
  {
   "cell_type": "code",
   "execution_count": 8,
   "metadata": {},
   "outputs": [
    {
     "data": {
      "text/plain": [
       "286500"
      ]
     },
     "execution_count": 8,
     "metadata": {},
     "output_type": "execute_result"
    }
   ],
   "source": [
    "# count rows\n",
    "df.count()"
   ]
  },
  {
   "cell_type": "code",
   "execution_count": 9,
   "metadata": {},
   "outputs": [
    {
     "name": "stdout",
     "output_type": "stream",
     "text": [
      "+------+----+---------+------+-------------+--------+------+-----+--------+------+----+------------+---------+-----+------+---+---------+------+\n",
      "|artist|auth|firstName|gender|itemInSession|lastName|length|level|location|method|page|registration|sessionId| song|status| ts|userAgent|userId|\n",
      "+------+----+---------+------+-------------+--------+------+-----+--------+------+----+------------+---------+-----+------+---+---------+------+\n",
      "| 58392|   0|     8346|  8346|            0|    8346| 58392|    0|    8346|     0|   0|        8346|        0|58392|     0|  0|     8346|     0|\n",
      "+------+----+---------+------+-------------+--------+------+-----+--------+------+----+------------+---------+-----+------+---+---------+------+\n",
      "\n"
     ]
    }
   ],
   "source": [
    "### Get count of both null and missing values in pyspark\n",
    "df.select([count(when(isnan(c) | col(c).isNull(), c)).alias(c) for c in df.columns]).show()"
   ]
  },
  {
   "cell_type": "code",
   "execution_count": 10,
   "metadata": {},
   "outputs": [
    {
     "name": "stdout",
     "output_type": "stream",
     "text": [
      "+------+\n",
      "|userId|\n",
      "+------+\n",
      "|      |\n",
      "+------+\n",
      "\n"
     ]
    }
   ],
   "source": [
    "# check \"userId\" with missing \"firstName\"\n",
    "df.select(['userId']).where(df.firstName.isNull()).dropDuplicates().show()"
   ]
  },
  {
   "cell_type": "code",
   "execution_count": 7,
   "metadata": {},
   "outputs": [
    {
     "name": "stdout",
     "output_type": "stream",
     "text": [
      "+------+----------+---------+------+-------------+--------+------+-----+--------+------+-----+------------+---------+----+------+-------------+---------+------+\n",
      "|artist|      auth|firstName|gender|itemInSession|lastName|length|level|location|method| page|registration|sessionId|song|status|           ts|userAgent|userId|\n",
      "+------+----------+---------+------+-------------+--------+------+-----+--------+------+-----+------------+---------+----+------+-------------+---------+------+\n",
      "|  null|Logged Out|     null|  null|          100|    null|  null| free|    null|   GET| Home|        null|        8|null|   200|1538355745000|     null|      |\n",
      "|  null|Logged Out|     null|  null|          101|    null|  null| free|    null|   GET| Help|        null|        8|null|   200|1538355807000|     null|      |\n",
      "|  null|Logged Out|     null|  null|          102|    null|  null| free|    null|   GET| Home|        null|        8|null|   200|1538355841000|     null|      |\n",
      "|  null|Logged Out|     null|  null|          103|    null|  null| free|    null|   PUT|Login|        null|        8|null|   307|1538355842000|     null|      |\n",
      "|  null|Logged Out|     null|  null|            2|    null|  null| free|    null|   GET| Home|        null|      240|null|   200|1538356678000|     null|      |\n",
      "+------+----------+---------+------+-------------+--------+------+-----+--------+------+-----+------------+---------+----+------+-------------+---------+------+\n",
      "only showing top 5 rows\n",
      "\n"
     ]
    }
   ],
   "source": [
    "# show userId who's first name is missing\n",
    "#df.where(df.userId == \"1261737\").show() # on whole data\n",
    "df.where(df.userId == \"\").show(5) # on mini data"
   ]
  },
  {
   "cell_type": "code",
   "execution_count": 8,
   "metadata": {},
   "outputs": [
    {
     "data": {
      "text/plain": [
       "8346"
      ]
     },
     "execution_count": 8,
     "metadata": {},
     "output_type": "execute_result"
    }
   ],
   "source": [
    "# count rows with \"userId\" as 1261737\n",
    "#df.where(df.userId == \"1261737\").count() # on whole data\n",
    "df.where(df.userId == \"\").count() # on mini data"
   ]
  },
  {
   "cell_type": "code",
   "execution_count": 6,
   "metadata": {},
   "outputs": [
    {
     "data": {
      "text/plain": [
       "278154"
      ]
     },
     "execution_count": 6,
     "metadata": {},
     "output_type": "execute_result"
    }
   ],
   "source": [
    "# delete rows with \"userId\" as 1261737\n",
    "#df_clean = df.filter(df.userId != \"1261737\") #on the whole data \n",
    "df_clean = df.filter(df.userId != \"\") #on the mini data \n",
    "df_clean.count()"
   ]
  },
  {
   "cell_type": "code",
   "execution_count": 10,
   "metadata": {},
   "outputs": [
    {
     "data": {
      "text/plain": [
       "225"
      ]
     },
     "execution_count": 10,
     "metadata": {},
     "output_type": "execute_result"
    }
   ],
   "source": [
    "# check unique userId \n",
    "df_clean.select('userId').dropDuplicates().count()"
   ]
  },
  {
   "cell_type": "code",
   "execution_count": 16,
   "metadata": {},
   "outputs": [
    {
     "name": "stdout",
     "output_type": "stream",
     "text": [
      "+------+---------+---------+------+-------------+--------+------+-----+--------------------+------+---------------+-------------+---------+----+------+-------------+--------------------+------+\n",
      "|artist|     auth|firstName|gender|itemInSession|lastName|length|level|            location|method|           page| registration|sessionId|song|status|           ts|           userAgent|userId|\n",
      "+------+---------+---------+------+-------------+--------+------+-----+--------------------+------+---------------+-------------+---------+----+------+-------------+--------------------+------+\n",
      "|  null|Logged In|    Colin|     M|           54| Freeman|  null| paid|     Bakersfield, CA|   PUT|Add to Playlist|1538173362000|       29|null|   200|1538352905000|Mozilla/5.0 (Wind...|    30|\n",
      "|  null|Logged In|    Micah|     M|           84|    Long|  null| free|Boston-Cambridge-...|   GET|    Roll Advert|1538331630000|        8|null|   200|1538353150000|\"Mozilla/5.0 (Win...|     9|\n",
      "|  null|Logged In|    Micah|     M|           86|    Long|  null| free|Boston-Cambridge-...|   PUT|      Thumbs Up|1538331630000|        8|null|   307|1538353376000|\"Mozilla/5.0 (Win...|     9|\n",
      "|  null|Logged In|    Alexi|     F|            4|  Warren|  null| paid|Spokane-Spokane V...|   GET|      Downgrade|1532482662000|       53|null|   200|1538354749000|Mozilla/5.0 (Wind...|    54|\n",
      "|  null|Logged In|    Alexi|     F|            7|  Warren|  null| paid|Spokane-Spokane V...|   PUT|      Thumbs Up|1532482662000|       53|null|   307|1538355255000|Mozilla/5.0 (Wind...|    54|\n",
      "+------+---------+---------+------+-------------+--------+------+-----+--------------------+------+---------------+-------------+---------+----+------+-------------+--------------------+------+\n",
      "only showing top 5 rows\n",
      "\n"
     ]
    }
   ],
   "source": [
    "# check rows with missing value in \"artist\" \n",
    "df_clean.where(df_clean.artist.isNull()).show(5)"
   ]
  },
  {
   "cell_type": "code",
   "execution_count": 11,
   "metadata": {},
   "outputs": [
    {
     "name": "stdout",
     "output_type": "stream",
     "text": [
      "+--------------------+------+---------+---------------+-----+--------------------+\n",
      "|              artist|userId|firstname|           page|level|                song|\n",
      "+--------------------+------+---------+---------------+-----+--------------------+\n",
      "|      Martha Tilston|    30|    Colin|       NextSong| paid|           Rockpools|\n",
      "|        Adam Lambert|    30|    Colin|       NextSong| paid|   Time For Miracles|\n",
      "|           Daft Punk|    30|    Colin|       NextSong| paid|Harder Better Fas...|\n",
      "|        Starflyer 59|    30|    Colin|       NextSong| paid|Passengers (Old A...|\n",
      "|                null|    30|    Colin|Add to Playlist| paid|                null|\n",
      "|            Frumpies|    30|    Colin|       NextSong| paid|          Fuck Kitty|\n",
      "|Edward Sharpe & T...|    30|    Colin|       NextSong| paid|                Jade|\n",
      "|         Stan Mosley|    30|    Colin|       NextSong| paid|   So-Called Friends|\n",
      "|             Orishas|    30|    Colin|       NextSong| paid|           Represent|\n",
      "|            Downhere|    30|    Colin|       NextSong| paid|           Here I Am|\n",
      "|             Skillet|    30|    Colin|       NextSong| paid|Rebirthing (Album...|\n",
      "|Florence + The Ma...|    30|    Colin|       NextSong| paid|Dog Days Are Over...|\n",
      "|          Nick Drake|    30|    Colin|       NextSong| paid|Tomorrow Is A Lon...|\n",
      "|Lambert_ Hendrick...|    30|    Colin|       NextSong| paid|    Halloween Spooks|\n",
      "|          Kanye West|    30|    Colin|       NextSong| paid|            Stronger|\n",
      "|  Redman / Ready Roc|    30|    Colin|       NextSong| paid|   Dis Iz Brick City|\n",
      "|The All-American ...|    30|    Colin|       NextSong| paid|          Move Along|\n",
      "|       Kings Of Leon|    30|    Colin|       NextSong| paid|           Manhattan|\n",
      "|            BjÃÂ¶rk|    30|    Colin|       NextSong| paid|                Undo|\n",
      "|         The Prodigy|    30|    Colin|       NextSong| paid|     The Big Gundown|\n",
      "+--------------------+------+---------+---------------+-----+--------------------+\n",
      "only showing top 20 rows\n",
      "\n"
     ]
    }
   ],
   "source": [
    "# list activities of a user who has a missing value in the artist column 1009070\n",
    "# df_clean.select([\"artist\",\"userId\", \"firstname\", \"page\", \"level\", \"song\"]).where(df_clean.userId == \"1009070\").show() # on whole data\n",
    "df_clean.select([\"artist\",\"userId\", \"firstname\", \"page\", \"level\", \"song\"]).where(df_clean.userId == \"30\").show() # on mini data"
   ]
  },
  {
   "cell_type": "code",
   "execution_count": 52,
   "metadata": {},
   "outputs": [
    {
     "name": "stdout",
     "output_type": "stream",
     "text": [
      "+--------------------+-----+\n",
      "|                page|count|\n",
      "+--------------------+-----+\n",
      "|           Thumbs Up|12551|\n",
      "|                Home|10082|\n",
      "|     Add to Playlist| 6526|\n",
      "|          Add Friend| 4277|\n",
      "|         Roll Advert| 3933|\n",
      "|              Logout| 3226|\n",
      "|         Thumbs Down| 2546|\n",
      "|           Downgrade| 2055|\n",
      "|            Settings| 1514|\n",
      "|                Help| 1454|\n",
      "|             Upgrade|  499|\n",
      "|               About|  495|\n",
      "|       Save Settings|  310|\n",
      "|               Error|  252|\n",
      "|      Submit Upgrade|  159|\n",
      "|    Submit Downgrade|   63|\n",
      "|              Cancel|   52|\n",
      "|Cancellation Conf...|   52|\n",
      "+--------------------+-----+\n",
      "\n"
     ]
    }
   ],
   "source": [
    "#check page related to \"null\" artist\n",
    "page_count = df_clean.select('page').where(df_clean.artist.isNull()).groupBy('page').count()\\\n",
    "    .orderBy('count', ascending=False).show()\n",
    "\n",
    "# there is no \"next song\" page in the listed page categories, artist name is \"null\" for all the other pages, except \"next song\" page"
   ]
  },
  {
   "cell_type": "markdown",
   "metadata": {},
   "source": [
    "### Digging in the missing values"
   ]
  },
  {
   "cell_type": "code",
   "execution_count": 7,
   "metadata": {},
   "outputs": [
    {
     "name": "stdout",
     "output_type": "stream",
     "text": [
      "+------+----+---------+------+-------------+--------+------+-----+--------+------+----+------------+---------+----+------+---+---------+------+\n",
      "|artist|auth|firstName|gender|itemInSession|lastName|length|level|location|method|page|registration|sessionId|song|status| ts|userAgent|userId|\n",
      "+------+----+---------+------+-------------+--------+------+-----+--------+------+----+------------+---------+----+------+---+---------+------+\n",
      "|     0|   0|        0|     0|            0|       0|     0|    0|       0|     0|   0|           0|        0|   0|     0|  0|        0|     0|\n",
      "+------+----+---------+------+-------------+--------+------+-----+--------+------+----+------------+---------+----+------+---+---------+------+\n",
      "\n"
     ]
    },
    {
     "data": {
      "text/plain": [
       "228108"
      ]
     },
     "execution_count": 7,
     "metadata": {},
     "output_type": "execute_result"
    }
   ],
   "source": [
    "# delete missing values in \"artist\" column\n",
    "df_no_null = df_clean.filter(df_clean.artist != \"\")\n",
    "\n",
    "### Get count of both null and missing values\n",
    "df_no_null.select([count(when(isnan(c) | col(c).isNull(), c)).alias(c) for c in df_no_null.columns]).show() \n",
    "# there is no missing value in any column after deleting missing \"artist\"\n",
    "df_no_null.count()"
   ]
  },
  {
   "cell_type": "code",
   "execution_count": 29,
   "metadata": {},
   "outputs": [
    {
     "data": {
      "text/plain": [
       "225"
      ]
     },
     "execution_count": 29,
     "metadata": {},
     "output_type": "execute_result"
    }
   ],
   "source": [
    "# check unique userId \n",
    "df_no_null.select('userId').dropDuplicates().count() # unique userId number did not change"
   ]
  },
  {
   "cell_type": "code",
   "execution_count": 22,
   "metadata": {},
   "outputs": [
    {
     "name": "stdout",
     "output_type": "stream",
     "text": [
      "+---------+\n",
      "|     auth|\n",
      "+---------+\n",
      "|Cancelled|\n",
      "|Logged In|\n",
      "+---------+\n",
      "\n",
      "+------+\n",
      "|gender|\n",
      "+------+\n",
      "|     F|\n",
      "|     M|\n",
      "+------+\n",
      "\n",
      "+-----+\n",
      "|level|\n",
      "+-----+\n",
      "| free|\n",
      "| paid|\n",
      "+-----+\n",
      "\n",
      "+------+\n",
      "|method|\n",
      "+------+\n",
      "|   PUT|\n",
      "|   GET|\n",
      "+------+\n",
      "\n",
      "+--------------------+\n",
      "|                page|\n",
      "+--------------------+\n",
      "|              Cancel|\n",
      "|    Submit Downgrade|\n",
      "|         Thumbs Down|\n",
      "|                Home|\n",
      "|           Downgrade|\n",
      "|         Roll Advert|\n",
      "|              Logout|\n",
      "|       Save Settings|\n",
      "|Cancellation Conf...|\n",
      "|               About|\n",
      "|            Settings|\n",
      "|     Add to Playlist|\n",
      "|          Add Friend|\n",
      "|            NextSong|\n",
      "|           Thumbs Up|\n",
      "|                Help|\n",
      "|             Upgrade|\n",
      "|               Error|\n",
      "|      Submit Upgrade|\n",
      "+--------------------+\n",
      "\n",
      "+---------+\n",
      "|sessionId|\n",
      "+---------+\n",
      "|       29|\n",
      "|       26|\n",
      "|      474|\n",
      "|      964|\n",
      "|     1697|\n",
      "|     1806|\n",
      "|     2040|\n",
      "|     1950|\n",
      "|     2214|\n",
      "|      418|\n",
      "|       65|\n",
      "|      541|\n",
      "|      558|\n",
      "|     1010|\n",
      "|     1224|\n",
      "|     1277|\n",
      "|     1258|\n",
      "|     1360|\n",
      "|     1840|\n",
      "|     2173|\n",
      "+---------+\n",
      "only showing top 20 rows\n",
      "\n",
      "+------+\n",
      "|status|\n",
      "+------+\n",
      "|   307|\n",
      "|   404|\n",
      "|   200|\n",
      "+------+\n",
      "\n",
      "+--------------------+\n",
      "|           userAgent|\n",
      "+--------------------+\n",
      "|\"Mozilla/5.0 (Mac...|\n",
      "|\"Mozilla/5.0 (Win...|\n",
      "|Mozilla/5.0 (X11;...|\n",
      "|\"Mozilla/5.0 (Mac...|\n",
      "|\"Mozilla/5.0 (Mac...|\n",
      "|Mozilla/5.0 (Maci...|\n",
      "|Mozilla/5.0 (Wind...|\n",
      "|Mozilla/5.0 (Wind...|\n",
      "|Mozilla/5.0 (comp...|\n",
      "|\"Mozilla/5.0 (Win...|\n",
      "|Mozilla/5.0 (Maci...|\n",
      "|\"Mozilla/5.0 (Win...|\n",
      "|\"Mozilla/5.0 (iPh...|\n",
      "|\"Mozilla/5.0 (Win...|\n",
      "|Mozilla/5.0 (Wind...|\n",
      "|Mozilla/5.0 (comp...|\n",
      "|Mozilla/5.0 (comp...|\n",
      "|\"Mozilla/5.0 (Mac...|\n",
      "|\"Mozilla/5.0 (Mac...|\n",
      "|\"Mozilla/5.0 (Win...|\n",
      "+--------------------+\n",
      "only showing top 20 rows\n",
      "\n",
      "+--------------------+\n",
      "|            location|\n",
      "+--------------------+\n",
      "|     Gainesville, FL|\n",
      "|Atlantic City-Ham...|\n",
      "|Deltona-Daytona B...|\n",
      "|San Diego-Carlsba...|\n",
      "|Cleveland-Elyria, OH|\n",
      "|Kingsport-Bristol...|\n",
      "|New Haven-Milford...|\n",
      "|Birmingham-Hoover...|\n",
      "|  Corpus Christi, TX|\n",
      "|         Dubuque, IA|\n",
      "|Las Vegas-Henders...|\n",
      "|Indianapolis-Carm...|\n",
      "|Seattle-Tacoma-Be...|\n",
      "|          Albany, OR|\n",
      "|   Winston-Salem, NC|\n",
      "|     Bakersfield, CA|\n",
      "|Los Angeles-Long ...|\n",
      "|Minneapolis-St. P...|\n",
      "|San Francisco-Oak...|\n",
      "|Phoenix-Mesa-Scot...|\n",
      "+--------------------+\n",
      "only showing top 20 rows\n",
      "\n"
     ]
    }
   ],
   "source": [
    "# check tags in categorical columns\n",
    "for item in ['auth','gender','level','method','page','sessionId','status','userAgent','location']:\n",
    "    df_clean.select(item).dropDuplicates().show()"
   ]
  },
  {
   "cell_type": "code",
   "execution_count": 23,
   "metadata": {},
   "outputs": [
    {
     "name": "stdout",
     "output_type": "stream",
     "text": [
      "+--------------------+\n",
      "|            location|\n",
      "+--------------------+\n",
      "|     Gainesville, FL|\n",
      "|Atlantic City-Ham...|\n",
      "|Deltona-Daytona B...|\n",
      "|San Diego-Carlsba...|\n",
      "|Cleveland-Elyria, OH|\n",
      "+--------------------+\n",
      "only showing top 5 rows\n",
      "\n"
     ]
    },
    {
     "data": {
      "text/plain": [
       "114"
      ]
     },
     "execution_count": 23,
     "metadata": {},
     "output_type": "execute_result"
    }
   ],
   "source": [
    "# check location column\n",
    "df_clean.select(\"location\").dropDuplicates().show(5) \n",
    "df_clean.select(\"location\").dropDuplicates().count()"
   ]
  },
  {
   "cell_type": "markdown",
   "metadata": {},
   "source": [
    "### Simplify \"location\""
   ]
  },
  {
   "cell_type": "code",
   "execution_count": 7,
   "metadata": {},
   "outputs": [],
   "source": [
    "# create column \"state\" with Abbreviation of US states extracted from \"location\" column\n",
    "df_clean = df_clean.withColumn('state', trim(split(col('location'),',').getItem(1)))"
   ]
  },
  {
   "cell_type": "code",
   "execution_count": 8,
   "metadata": {},
   "outputs": [
    {
     "data": {
      "text/plain": [
       "58"
      ]
     },
     "execution_count": 8,
     "metadata": {},
     "output_type": "execute_result"
    }
   ],
   "source": [
    "# check unique \"state\" \n",
    "df_clean.select('state').dropDuplicates().count()"
   ]
  },
  {
   "cell_type": "code",
   "execution_count": 8,
   "metadata": {},
   "outputs": [],
   "source": [
    "# drop location column\n",
    "df_clean = df_clean.drop('location','firstName','lastName')"
   ]
  },
  {
   "cell_type": "markdown",
   "metadata": {},
   "source": [
    "### Create 'epoch time' from timestamp"
   ]
  },
  {
   "cell_type": "code",
   "execution_count": 9,
   "metadata": {},
   "outputs": [
    {
     "name": "stdout",
     "output_type": "stream",
     "text": [
      "+----------------+---------+------+-------------+---------+-----+------+--------+-------------+---------+--------------------+------+-------------+--------------------+------+-----+-------------------+----------+\n",
      "|          artist|     auth|gender|itemInSession|   length|level|method|    page| registration|sessionId|                song|status|           ts|           userAgent|userId|state|         epoch_time|      date|\n",
      "+----------------+---------+------+-------------+---------+-----+------+--------+-------------+---------+--------------------+------+-------------+--------------------+------+-----+-------------------+----------+\n",
      "|  Martha Tilston|Logged In|     M|           50|277.89016| paid|   PUT|NextSong|1538173362000|       29|           Rockpools|   200|1538352117000|Mozilla/5.0 (Wind...|    30|   CA|2018-10-01 00:01:57|2018-10-01|\n",
      "|Five Iron Frenzy|Logged In|     M|           79|236.09424| free|   PUT|NextSong|1538331630000|        8|              Canada|   200|1538352180000|\"Mozilla/5.0 (Win...|     9|MA-NH|2018-10-01 00:03:00|2018-10-01|\n",
      "|    Adam Lambert|Logged In|     M|           51| 282.8273| paid|   PUT|NextSong|1538173362000|       29|   Time For Miracles|   200|1538352394000|Mozilla/5.0 (Wind...|    30|   CA|2018-10-01 00:06:34|2018-10-01|\n",
      "|          Enigma|Logged In|     M|           80|262.71302| free|   PUT|NextSong|1538331630000|        8|Knocking On Forbi...|   200|1538352416000|\"Mozilla/5.0 (Win...|     9|MA-NH|2018-10-01 00:06:56|2018-10-01|\n",
      "|       Daft Punk|Logged In|     M|           52|223.60771| paid|   PUT|NextSong|1538173362000|       29|Harder Better Fas...|   200|1538352676000|Mozilla/5.0 (Wind...|    30|   CA|2018-10-01 00:11:16|2018-10-01|\n",
      "+----------------+---------+------+-------------+---------+-----+------+--------+-------------+---------+--------------------+------+-------------+--------------------+------+-----+-------------------+----------+\n",
      "only showing top 5 rows\n",
      "\n"
     ]
    }
   ],
   "source": [
    "# convert ts to epoch time and create month, date, hour columns out of it\n",
    "df_clean = df_clean.withColumn('epoch_time', from_unixtime(col('ts').cast(LongType())/1000).cast(TimestampType()))\n",
    "df_clean = df_clean.withColumn('date', from_unixtime(col('ts')/1000).cast(DateType()))\n",
    "#df_clean = df_clean.withColumn('month', month(col('epoch_time')))\n",
    "#df_clean = df_clean.withColumn('hour', hour(col('epoch_time')))  \n",
    "df_clean.show(5)"
   ]
  },
  {
   "cell_type": "markdown",
   "metadata": {},
   "source": [
    "### Simplify \"userAgent\""
   ]
  },
  {
   "cell_type": "code",
   "execution_count": 10,
   "metadata": {},
   "outputs": [],
   "source": [
    "agent = udf(lambda x: str(re.findall(r'\\((.*?)\\)', x)[0].split(\";\")[0].split()[0]) if x is not None else None, StringType())"
   ]
  },
  {
   "cell_type": "code",
   "execution_count": 11,
   "metadata": {},
   "outputs": [],
   "source": [
    "df_clean = df_clean.withColumn(\"agent\", agent(df_clean.userAgent))"
   ]
  },
  {
   "cell_type": "code",
   "execution_count": 13,
   "metadata": {},
   "outputs": [
    {
     "name": "stdout",
     "output_type": "stream",
     "text": [
      "+----------------+---------+------+-------------+---------+-----+------+--------+-------------+---------+--------------------+------+-------------+------+-----+-------------------+----------+-----+-------+\n",
      "|          artist|     auth|gender|itemInSession|   length|level|method|    page| registration|sessionId|                song|status|           ts|userId|state|         epoch_time|      date|month|  agent|\n",
      "+----------------+---------+------+-------------+---------+-----+------+--------+-------------+---------+--------------------+------+-------------+------+-----+-------------------+----------+-----+-------+\n",
      "|  Martha Tilston|Logged In|     M|           50|277.89016| paid|   PUT|NextSong|1538173362000|       29|           Rockpools|   200|1538352117000|    30|   CA|2018-10-01 00:01:57|2018-10-01|   10|Windows|\n",
      "|Five Iron Frenzy|Logged In|     M|           79|236.09424| free|   PUT|NextSong|1538331630000|        8|              Canada|   200|1538352180000|     9|MA-NH|2018-10-01 00:03:00|2018-10-01|   10|Windows|\n",
      "|    Adam Lambert|Logged In|     M|           51| 282.8273| paid|   PUT|NextSong|1538173362000|       29|   Time For Miracles|   200|1538352394000|    30|   CA|2018-10-01 00:06:34|2018-10-01|   10|Windows|\n",
      "|          Enigma|Logged In|     M|           80|262.71302| free|   PUT|NextSong|1538331630000|        8|Knocking On Forbi...|   200|1538352416000|     9|MA-NH|2018-10-01 00:06:56|2018-10-01|   10|Windows|\n",
      "|       Daft Punk|Logged In|     M|           52|223.60771| paid|   PUT|NextSong|1538173362000|       29|Harder Better Fas...|   200|1538352676000|    30|   CA|2018-10-01 00:11:16|2018-10-01|   10|Windows|\n",
      "+----------------+---------+------+-------------+---------+-----+------+--------+-------------+---------+--------------------+------+-------------+------+-----+-------------------+----------+-----+-------+\n",
      "only showing top 5 rows\n",
      "\n"
     ]
    }
   ],
   "source": [
    "df_clean = df_clean.drop('userAgent')\n",
    "df_clean.show(5)"
   ]
  },
  {
   "cell_type": "markdown",
   "metadata": {},
   "source": [
    "### Define Churn\n",
    "Create a column \"Churn\" to use as the label for model. Using the \"Cancellation Confirmation\" events to define churn, which happen for both paid and free users. "
   ]
  },
  {
   "cell_type": "code",
   "execution_count": 15,
   "metadata": {},
   "outputs": [
    {
     "name": "stdout",
     "output_type": "stream",
     "text": [
      "+------+---------+------+-------------+------+-----+------+-------------------------+-------------+---------+----+------+-------------+------+-----------+-------------------+----------+-----+---------+\n",
      "|artist|auth     |gender|itemInSession|length|level|method|page                     |registration |sessionId|song|status|ts           |userId|state      |epoch_time         |date      |month|agent    |\n",
      "+------+---------+------+-------------+------+-----+------+-------------------------+-------------+---------+----+------+-------------+------+-----------+-------------------+----------+-----+---------+\n",
      "|null  |Cancelled|M     |104          |null  |paid |GET   |Cancellation Confirmation|1535623466000|514      |null|200   |1538943990000|18    |MO-KS      |2018-10-07 20:26:30|2018-10-07|10   |Macintosh|\n",
      "|null  |Cancelled|M     |56           |null  |paid |GET   |Cancellation Confirmation|1537167593000|540      |null|200   |1539033046000|32    |AZ         |2018-10-08 21:10:46|2018-10-08|10   |iPhone   |\n",
      "|null  |Cancelled|M     |10           |null  |free |GET   |Cancellation Confirmation|1533157139000|174      |null|200   |1539318918000|125   |TX         |2018-10-12 04:35:18|2018-10-12|10   |Macintosh|\n",
      "|null  |Cancelled|M     |332          |null  |paid |GET   |Cancellation Confirmation|1536817381000|508      |null|200   |1539375441000|105   |IN         |2018-10-12 20:17:21|2018-10-12|10   |Windows  |\n",
      "|null  |Cancelled|F     |273          |null  |paid |GET   |Cancellation Confirmation|1538333829000|797      |null|200   |1539465584000|17    |PA-NJ-DE-MD|2018-10-13 21:19:44|2018-10-13|10   |Windows  |\n",
      "+------+---------+------+-------------+------+-----+------+-------------------------+-------------+---------+----+------+-------------+------+-----------+-------------------+----------+-----+---------+\n",
      "only showing top 5 rows\n",
      "\n"
     ]
    }
   ],
   "source": [
    "# find out users who churned their service\n",
    "df_clean.filter(\"page = 'Cancellation Confirmation'\").show(5,False)"
   ]
  },
  {
   "cell_type": "code",
   "execution_count": 14,
   "metadata": {},
   "outputs": [
    {
     "name": "stdout",
     "output_type": "stream",
     "text": [
      "+------+-------------+--------+-----+--------------------+\n",
      "|userId|           ts|    page|level|                song|\n",
      "+------+-------------+--------+-----+--------------------+\n",
      "|    18|1538499917000|    Home| paid|                null|\n",
      "|    18|1538499933000|NextSong| paid|A Beggar On A Bea...|\n",
      "|    18|1538500208000|NextSong| paid|...slowdance On T...|\n",
      "|    18|1538500476000|NextSong| paid|       St. Apollonia|\n",
      "|    18|1538500654000|NextSong| paid|      Drunk Stripper|\n",
      "|    18|1538500842000|NextSong| paid|In League With Satan|\n",
      "|    18|1538500856000|Settings| paid|                null|\n",
      "|    18|1538501009000|NextSong| paid|           The Quest|\n",
      "|    18|1538501340000|NextSong| paid|    Waking The Demon|\n",
      "|    18|1538501587000|NextSong| paid|Why Do You Let Me...|\n",
      "|    18|1538501740000|NextSong| paid|High (Album Version)|\n",
      "|    18|1538501984000|NextSong| paid|Remember Me_ I'm ...|\n",
      "|    18|1538502021000|Settings| paid|                null|\n",
      "|    18|1538502124000|NextSong| paid|          Continents|\n",
      "|    18|1538502356000|NextSong| paid|               Girls|\n",
      "|    18|1538502626000|NextSong| paid|       What If I Do?|\n",
      "|    18|1538502928000|NextSong| paid|       Soulful Dress|\n",
      "|    18|1538503097000|NextSong| paid|        Eenie Meenie|\n",
      "|    18|1538503298000|NextSong| paid|          Kabul Shit|\n",
      "|    18|1538503521000|NextSong| paid|Catch You Baby (S...|\n",
      "+------+-------------+--------+-----+--------------------+\n",
      "only showing top 20 rows\n",
      "\n"
     ]
    }
   ],
   "source": [
    "# list activities of a user who churned the service\n",
    "df_clean.select([\"userId\",\"ts\",\"page\", \"level\", \"song\"]).where(df_clean.userId == \"18\").show() #on mini data\n",
    "#df_clean.select([\"userId\", \"ts\", \"auth\",\"page\", \"level\"]).where(df_clean.userId == \"1768454\").sort(\"ts\").show() #on whole data"
   ]
  },
  {
   "cell_type": "code",
   "execution_count": 12,
   "metadata": {},
   "outputs": [],
   "source": [
    "# lable churn event,1 for churn, o for not\n",
    "flag_churn_event = udf(lambda x: 1 if x == \"Cancellation Confirmation\" else 0, IntegerType())\n",
    "df_clean = df_clean.withColumn(\"Churn\", flag_churn_event(\"page\"))\n",
    "\n",
    "# add churn user flag\n",
    "df_clean = df_clean.withColumn(\"label\", max('Churn').over(Window.partitionBy('UserId')))"
   ]
  },
  {
   "cell_type": "code",
   "execution_count": 18,
   "metadata": {},
   "outputs": [
    {
     "name": "stdout",
     "output_type": "stream",
     "text": [
      "+------+-------------+--------+-----+-----+-----+\n",
      "|userId|           ts|    page|level|Churn|label|\n",
      "+------+-------------+--------+-----+-----+-----+\n",
      "|    18|1538499917000|    Home| paid|    0|    1|\n",
      "|    18|1538499933000|NextSong| paid|    0|    1|\n",
      "|    18|1538500208000|NextSong| paid|    0|    1|\n",
      "|    18|1538500476000|NextSong| paid|    0|    1|\n",
      "|    18|1538500654000|NextSong| paid|    0|    1|\n",
      "+------+-------------+--------+-----+-----+-----+\n",
      "only showing top 5 rows\n",
      "\n"
     ]
    }
   ],
   "source": [
    "# list activities of a user who churned the service\n",
    "#df_clean.select([\"userId\", \"ts\",\"page\",\"level\",\"Churn\",\"label\"]).where(df_clean.userId == \"1768454\").show(5) #on whole data\n",
    "df_clean.select([\"userId\", \"ts\",\"page\",\"level\",\"Churn\",\"label\"]).where(df_clean.userId == \"18\").show(5) # on mini data"
   ]
  },
  {
   "cell_type": "code",
   "execution_count": 19,
   "metadata": {},
   "outputs": [
    {
     "name": "stdout",
     "output_type": "stream",
     "text": [
      "+--------------------+---------+------+-------------+---------+-----+------+---------+-------------+---------+--------------------+------+-------------+------+-----+-------------------+----------+-----+------+-----+-----+\n",
      "|              artist|     auth|gender|itemInSession|   length|level|method|     page| registration|sessionId|                song|status|           ts|userId|state|         epoch_time|      date|month| agent|Churn|label|\n",
      "+--------------------+---------+------+-------------+---------+-----+------+---------+-------------+---------+--------------------+------+-------------+------+-----+-------------------+----------+-----+------+-----+-----+\n",
      "|Sleeping With Sirens|Logged In|     F|            0|202.97098| free|   PUT| NextSong|1538016340000|       31|Captain Tyin Knot...|   200|1539003534000|100010|   CT|2018-10-08 12:58:54|2018-10-08|   10|iPhone|    0|    0|\n",
      "|Francesca Battist...|Logged In|     F|            1|196.54485| free|   PUT| NextSong|1538016340000|       31|Beautiful_ Beauti...|   200|1539003736000|100010|   CT|2018-10-08 13:02:16|2018-10-08|   10|iPhone|    0|    0|\n",
      "|              Brutha|Logged In|     F|            2|263.13098| free|   PUT| NextSong|1538016340000|       31|          She's Gone|   200|1539003932000|100010|   CT|2018-10-08 13:05:32|2018-10-08|   10|iPhone|    0|    0|\n",
      "|                null|Logged In|     F|            3|     null| free|   PUT|Thumbs Up|1538016340000|       31|                null|   307|1539003933000|100010|   CT|2018-10-08 13:05:33|2018-10-08|   10|iPhone|    0|    0|\n",
      "|         Josh Ritter|Logged In|     F|            4|316.23791| free|   PUT| NextSong|1538016340000|       31|      Folk Bloodbath|   200|1539004195000|100010|   CT|2018-10-08 13:09:55|2018-10-08|   10|iPhone|    0|    0|\n",
      "+--------------------+---------+------+-------------+---------+-----+------+---------+-------------+---------+--------------------+------+-------------+------+-----+-------------------+----------+-----+------+-----+-----+\n",
      "only showing top 5 rows\n",
      "\n"
     ]
    }
   ],
   "source": [
    "df_clean.show(5)"
   ]
  },
  {
   "cell_type": "markdown",
   "metadata": {},
   "source": [
    "### Define downgrade \n",
    "\n",
    "Create a column \"downgraded\" using the \"Downgrade\" events. Flag users who downgraded at least once as 1 and users who never downgraded as 0. "
   ]
  },
  {
   "cell_type": "code",
   "execution_count": 20,
   "metadata": {},
   "outputs": [
    {
     "name": "stdout",
     "output_type": "stream",
     "text": [
      "+------+---------+------+-------------+------+-----+------+---------+-------------+---------+----+------+-------------+------+--------+-------------------+----------+-----+------+-----+-----+\n",
      "|artist|     auth|gender|itemInSession|length|level|method|     page| registration|sessionId|song|status|           ts|userId|   state|         epoch_time|      date|month| agent|Churn|label|\n",
      "+------+---------+------+-------------+------+-----+------+---------+-------------+---------+----+------+-------------+------+--------+-------------------+----------+-----+------+-----+-----+\n",
      "|  null|Logged In|     M|           55|  null| paid|   GET|Downgrade|1536269906000|      163|null|   200|1539857842000|200002|IL-IN-WI|2018-10-18 10:17:22|2018-10-18|   10|iPhone|    0|    0|\n",
      "+------+---------+------+-------------+------+-----+------+---------+-------------+---------+----+------+-------------+------+--------+-------------------+----------+-----+------+-----+-----+\n",
      "only showing top 1 row\n",
      "\n"
     ]
    }
   ],
   "source": [
    "# find out users who downgraded their service\n",
    "df_clean.filter(\"page = 'Downgrade'\").show(1)"
   ]
  },
  {
   "cell_type": "code",
   "execution_count": 21,
   "metadata": {},
   "outputs": [
    {
     "name": "stdout",
     "output_type": "stream",
     "text": [
      "+------+-------------+---------+---------------+-----+\n",
      "|userId|           ts|     auth|           page|level|\n",
      "+------+-------------+---------+---------------+-----+\n",
      "|200002|1538393430000|Logged In|       NextSong| free|\n",
      "|200002|1538393476000|Logged In|    Roll Advert| free|\n",
      "|200002|1538393635000|Logged In|       NextSong| free|\n",
      "|200002|1538393806000|Logged In|       NextSong| free|\n",
      "|200002|1538393807000|Logged In|      Thumbs Up| free|\n",
      "|200002|1538393977000|Logged In|       NextSong| free|\n",
      "|200002|1538394156000|Logged In|Add to Playlist| free|\n",
      "|200002|1538501988000|Logged In|       NextSong| free|\n",
      "|200002|1538502256000|Logged In|       NextSong| free|\n",
      "|200002|1538502641000|Logged In|       NextSong| free|\n",
      "|200002|1538502773000|Logged In|       NextSong| free|\n",
      "|200002|1538502918000|Logged In|    Roll Advert| free|\n",
      "|200002|1538502945000|Logged In|       NextSong| free|\n",
      "|200002|1538503168000|Logged In|       NextSong| free|\n",
      "|200002|1538503241000|Logged In|          About| free|\n",
      "|200002|1538503242000|Logged In|     Add Friend| free|\n",
      "|200002|1538503248000|Logged In|           Home| free|\n",
      "|200002|1538503391000|Logged In|       Settings| free|\n",
      "|200002|1538503405000|Logged In|       NextSong| free|\n",
      "|200002|1538503456000|Logged In|           Home| free|\n",
      "+------+-------------+---------+---------------+-----+\n",
      "only showing top 20 rows\n",
      "\n"
     ]
    }
   ],
   "source": [
    "# list activities of a user who downgraded the service\n",
    "#df_clean.select([\"userId\", \"ts\", \"auth\",\"page\", \"level\"]).where(df_clean.userId == \"1001393\").sort(\"ts\").show() # on whole data\n",
    "df_clean.select([\"userId\", \"ts\", \"auth\",\"page\", \"level\"]).where(df_clean.userId == \"200002\").sort(\"ts\").show() # on mini data"
   ]
  },
  {
   "cell_type": "code",
   "execution_count": 13,
   "metadata": {},
   "outputs": [],
   "source": [
    "# lable downgrade event,1 for downgraded, 0 for not\n",
    "flag_downgrade_event = udf(lambda x: 1 if x == \"Downgrade\" else 0, IntegerType())\n",
    "df_clean = df_clean.withColumn(\"Downgrade\", flag_downgrade_event(\"page\"))\n",
    "\n",
    "# add downgraded user flag\n",
    "df_clean = df_clean.withColumn(\"downgraded\", max('Downgrade').over(Window.partitionBy('UserId')))"
   ]
  },
  {
   "cell_type": "code",
   "execution_count": 23,
   "metadata": {},
   "outputs": [
    {
     "name": "stdout",
     "output_type": "stream",
     "text": [
      "+------+---------+---------------+-----+----------+-----+\n",
      "|userId|     auth|           page|level|downgraded|label|\n",
      "+------+---------+---------------+-----+----------+-----+\n",
      "|200002|Logged In|       NextSong| free|         1|    0|\n",
      "|200002|Logged In|    Roll Advert| free|         1|    0|\n",
      "|200002|Logged In|       NextSong| free|         1|    0|\n",
      "|200002|Logged In|       NextSong| free|         1|    0|\n",
      "|200002|Logged In|      Thumbs Up| free|         1|    0|\n",
      "|200002|Logged In|       NextSong| free|         1|    0|\n",
      "|200002|Logged In|Add to Playlist| free|         1|    0|\n",
      "|200002|Logged In|       NextSong| free|         1|    0|\n",
      "|200002|Logged In|       NextSong| free|         1|    0|\n",
      "|200002|Logged In|       NextSong| free|         1|    0|\n",
      "|200002|Logged In|       NextSong| free|         1|    0|\n",
      "|200002|Logged In|    Roll Advert| free|         1|    0|\n",
      "|200002|Logged In|       NextSong| free|         1|    0|\n",
      "|200002|Logged In|       NextSong| free|         1|    0|\n",
      "|200002|Logged In|          About| free|         1|    0|\n",
      "|200002|Logged In|     Add Friend| free|         1|    0|\n",
      "|200002|Logged In|           Home| free|         1|    0|\n",
      "|200002|Logged In|       Settings| free|         1|    0|\n",
      "|200002|Logged In|       NextSong| free|         1|    0|\n",
      "|200002|Logged In|           Home| free|         1|    0|\n",
      "+------+---------+---------------+-----+----------+-----+\n",
      "only showing top 20 rows\n",
      "\n"
     ]
    }
   ],
   "source": [
    "# list activities of a user who downgraded the service\n",
    "#df_clean.select([\"userId\", \"auth\",\"page\", \"level\", \"downgraded\",\"label\"]).where(df_clean.userId == \"1001393\").sort(\"ts\").show() # on whole data\n",
    "df_clean.select([\"userId\", \"auth\",\"page\", \"level\", \"downgraded\",\"label\"]).where(df_clean.userId == \"200002\").sort(\"ts\").show() # on whole data\n"
   ]
  },
  {
   "cell_type": "code",
   "execution_count": 14,
   "metadata": {},
   "outputs": [],
   "source": [
    "# delete 'Downgrade','Churn' columns\n",
    "df_clean = df_clean.drop('Downgrade','Churn')"
   ]
  },
  {
   "cell_type": "code",
   "execution_count": 15,
   "metadata": {},
   "outputs": [
    {
     "data": {
      "text/plain": [
       "['artist',\n",
       " 'auth',\n",
       " 'gender',\n",
       " 'itemInSession',\n",
       " 'length',\n",
       " 'level',\n",
       " 'method',\n",
       " 'page',\n",
       " 'registration',\n",
       " 'sessionId',\n",
       " 'song',\n",
       " 'status',\n",
       " 'ts',\n",
       " 'userAgent',\n",
       " 'userId',\n",
       " 'state',\n",
       " 'epoch_time',\n",
       " 'date',\n",
       " 'agent',\n",
       " 'label',\n",
       " 'downgraded']"
      ]
     },
     "execution_count": 15,
     "metadata": {},
     "output_type": "execute_result"
    }
   ],
   "source": [
    "df_clean.columns"
   ]
  },
  {
   "cell_type": "code",
   "execution_count": 55,
   "metadata": {},
   "outputs": [
    {
     "data": {
      "text/plain": [
       "278154"
      ]
     },
     "execution_count": 55,
     "metadata": {},
     "output_type": "execute_result"
    }
   ],
   "source": [
    "df_clean.count()"
   ]
  },
  {
   "cell_type": "markdown",
   "metadata": {},
   "source": [
    "## Explore Data\n",
    "Perform some exploratory data analysis to observe the behavior for users who stayed vs users who churned. Exploring aggregates on these two groups of users, observing how much of a specific action they experienced per a certain time unit or number of songs played."
   ]
  },
  {
   "cell_type": "code",
   "execution_count": 18,
   "metadata": {},
   "outputs": [
    {
     "name": "stdout",
     "output_type": "stream",
     "text": [
      "+-----+----------+\n",
      "|label|user_count|\n",
      "+-----+----------+\n",
      "|    1|        52|\n",
      "|    0|       173|\n",
      "+-----+----------+\n",
      "\n"
     ]
    }
   ],
   "source": [
    "#number of stayed and churned users\n",
    "df_clean.groupBy('label').agg(countDistinct('userId').alias('user_count')).show()"
   ]
  },
  {
   "cell_type": "code",
   "execution_count": 19,
   "metadata": {},
   "outputs": [],
   "source": [
    "# Plotting a bar plot to show gender distribution between stayed and churned users\n",
    "gender_pd = df_clean.drop_duplicates(['userId', 'gender']).groupby(['label', 'gender']).count().sort(\"label\").toPandas()"
   ]
  },
  {
   "cell_type": "code",
   "execution_count": 20,
   "metadata": {},
   "outputs": [
    {
     "data": {
      "image/png": "[encoded data removed]",
      "text/plain": [
       "<matplotlib.figure.Figure at 0x7efc5b70d630>"
      ]
     },
     "metadata": {
      "needs_background": "light"
     },
     "output_type": "display_data"
    },
    {
     "name": "stderr",
     "output_type": "stream",
     "text": [
      "UsageError: Line magic function `%matplot` not found.\n"
     ]
    }
   ],
   "source": [
    "plt.figure()\n",
    "plt.title('Gender of stayed and churned users')\n",
    "sb.barplot(x = 'label', y = 'count',data = gender_pd, hue = 'gender')\n",
    "plt.show()\n",
    "%matplot plt # on AWS cluster"
   ]
  },
  {
   "cell_type": "code",
   "execution_count": 48,
   "metadata": {},
   "outputs": [],
   "source": [
    "# Plotting a bar plot to show downgrade condition between stayed and churned users\n",
    "downgrade_pd = df_clean.drop_duplicates(['userId', 'downgraded']).groupby(['label', 'downgraded']).count().sort(\"label\").toPandas()"
   ]
  },
  {
   "cell_type": "code",
   "execution_count": 49,
   "metadata": {},
   "outputs": [
    {
     "data": {
      "image/png": "[encoded data removed]",
      "text/plain": [
       "<matplotlib.figure.Figure at 0x7f60dc5dc160>"
      ]
     },
     "metadata": {
      "needs_background": "light"
     },
     "output_type": "display_data"
    },
    {
     "name": "stderr",
     "output_type": "stream",
     "text": [
      "UsageError: Line magic function `%matplot` not found.\n"
     ]
    }
   ],
   "source": [
    "plt.figure()\n",
    "plt.title('Downgrade condition of stayed and churned users')\n",
    "sb.barplot(x = 'label', y = 'count',data = downgrade_pd, hue = 'downgraded')\n",
    "plt.show()\n",
    "%matplot plt # on AWS cluster"
   ]
  },
  {
   "cell_type": "markdown",
   "metadata": {},
   "source": [
    "### Registered days\n"
   ]
  },
  {
   "cell_type": "code",
   "execution_count": 21,
   "metadata": {},
   "outputs": [],
   "source": [
    "cancellation_df = df_clean.select('userId','ts').groupBy('userId').agg(max('ts').alias('lastinteraction'))\n",
    "df_clean = cancellation_df.join(df_clean, on='userId').withColumn('registered_days', ((col('lastinteraction')-col('registration'))/86400000).cast(IntegerType()))\n",
    "df_clean = df_clean.drop('lastinteraction','registration')\n",
    "#df_clean.show(2)"
   ]
  },
  {
   "cell_type": "code",
   "execution_count": 22,
   "metadata": {},
   "outputs": [],
   "source": [
    "registered_days = df_clean.select(['userId','registered_days','label']).drop_duplicates(['userId']).sort(\"label\").toPandas()"
   ]
  },
  {
   "cell_type": "code",
   "execution_count": 23,
   "metadata": {},
   "outputs": [
    {
     "data": {
      "image/png": "[encoded data removed]",
      "text/plain": [
       "<matplotlib.figure.Figure at 0x7efc5960b668>"
      ]
     },
     "metadata": {
      "needs_background": "light"
     },
     "output_type": "display_data"
    },
    {
     "name": "stderr",
     "output_type": "stream",
     "text": [
      "UsageError: Line magic function `%matplot` not found.\n"
     ]
    }
   ],
   "source": [
    "plt.figure()\n",
    "sb.boxplot(y=\"registered_days\", x=\"label\", data=registered_days)\n",
    "plt.title('Registered days of stayed and churned users')\n",
    "plt.show()\n",
    "%matplot plt # on AWS cluster"
   ]
  },
  {
   "cell_type": "markdown",
   "metadata": {},
   "source": [
    "### Latest \"level\" of users before they churn"
   ]
  },
  {
   "cell_type": "code",
   "execution_count": 24,
   "metadata": {},
   "outputs": [],
   "source": [
    "level_df = df_clean.select('ts','userId','level').orderBy('ts', ascending=False).groupBy('userId').agg(first('level').alias('valid_level'))    \n",
    "df_clean = df_clean.drop('level')\n",
    "df_clean = df_clean.join(level_df, on='userId')\n",
    "#df_clean.show(2)"
   ]
  },
  {
   "cell_type": "code",
   "execution_count": 25,
   "metadata": {},
   "outputs": [],
   "source": [
    "# Plotting a bar plot to show level of stayed and churned users\n",
    "level_pd = df_clean.drop_duplicates(['userId', 'valid_level']).groupby(['label', 'valid_level']).count().sort(\"label\").toPandas()"
   ]
  },
  {
   "cell_type": "code",
   "execution_count": 26,
   "metadata": {},
   "outputs": [
    {
     "data": {
      "image/png": "[encoded data removed]",
      "text/plain": [
       "<matplotlib.figure.Figure at 0x7efc5959b160>"
      ]
     },
     "metadata": {
      "needs_background": "light"
     },
     "output_type": "display_data"
    },
    {
     "name": "stderr",
     "output_type": "stream",
     "text": [
      "UsageError: Line magic function `%matplot` not found.\n"
     ]
    }
   ],
   "source": [
    "plt.figure()\n",
    "plt.title('Level of stayed and churned users')\n",
    "sb.barplot(x = 'label', y = 'count',data = level_pd, hue = 'valid_level')\n",
    "plt.show()\n",
    "%matplot plt  # on AWS cluster"
   ]
  },
  {
   "cell_type": "markdown",
   "metadata": {},
   "source": [
    "### Number of songs per day"
   ]
  },
  {
   "cell_type": "code",
   "execution_count": 30,
   "metadata": {},
   "outputs": [],
   "source": [
    "temp_daily_song = df_clean.select('userId','date','song').groupBy('userId','date').agg(countDistinct('song').alias('songs')).sort('userId')\n",
    "daily_song = temp_daily_song.groupBy('userId').avg('songs').withColumnRenamed('avg(songs)', 'avg_daily_song')\n",
    "df_clean = df_clean.join(daily_song, on='userId')\n",
    "#df_clean.show(2)"
   ]
  },
  {
   "cell_type": "code",
   "execution_count": 31,
   "metadata": {},
   "outputs": [],
   "source": [
    "# transform to pandas dataframe for plotting\n",
    "avg_daily_song_pd = df_clean.select(['userId','avg_daily_song','label']).drop_duplicates(['userId']).sort(\"label\").toPandas()"
   ]
  },
  {
   "cell_type": "code",
   "execution_count": 32,
   "metadata": {},
   "outputs": [
    {
     "data": {
      "image/png": "[encoded data removed]",
      "text/plain": [
       "<matplotlib.figure.Figure at 0x7efc5948bda0>"
      ]
     },
     "metadata": {
      "needs_background": "light"
     },
     "output_type": "display_data"
    },
    {
     "name": "stderr",
     "output_type": "stream",
     "text": [
      "UsageError: Line magic function `%matplot` not found.\n"
     ]
    }
   ],
   "source": [
    "plt.figure()\n",
    "sb.boxplot(y=\"avg_daily_song\", x=\"label\", data=avg_daily_song_pd)\n",
    "plt.title('Average number of songs played on day ')\n",
    "plt.show()\n",
    "%matplot plt # on AWS cluster"
   ]
  },
  {
   "cell_type": "markdown",
   "metadata": {},
   "source": [
    "### Number of songs per session"
   ]
  },
  {
   "cell_type": "code",
   "execution_count": 33,
   "metadata": {},
   "outputs": [],
   "source": [
    "# create new feature\n",
    "song_per_session_df = df_clean.select('page','label', 'userId', 'sessionId').where('page == \"NextSong\"').groupby(['label', 'userId', 'sessionId']).count()\\\n",
    "    .groupby(['label', 'userId']).agg({'count': 'avg'})\\\n",
    "    .withColumnRenamed('avg(count)', 'songs_per_session')"
   ]
  },
  {
   "cell_type": "code",
   "execution_count": 34,
   "metadata": {},
   "outputs": [],
   "source": [
    "# transform to pandas dataframe for plotting\n",
    "song_per_session_pd = song_per_session_df.toPandas()"
   ]
  },
  {
   "cell_type": "code",
   "execution_count": 35,
   "metadata": {},
   "outputs": [
    {
     "data": {
      "image/png": "[encoded data removed]",
      "text/plain": [
       "<matplotlib.figure.Figure at 0x7efc5946b358>"
      ]
     },
     "metadata": {
      "needs_background": "light"
     },
     "output_type": "display_data"
    },
    {
     "name": "stderr",
     "output_type": "stream",
     "text": [
      "UsageError: Line magic function `%matplot` not found.\n"
     ]
    }
   ],
   "source": [
    "plt.figure()\n",
    "plt.title('Comparision of average songs played per session')\n",
    "sb.boxplot(y='songs_per_session', x=\"label\", data=song_per_session_pd)\n",
    "plt.show()\n",
    "%matplot plt"
   ]
  },
  {
   "cell_type": "markdown",
   "metadata": {},
   "source": [
    "### Daily average item per session"
   ]
  },
  {
   "cell_type": "code",
   "execution_count": 27,
   "metadata": {},
   "outputs": [],
   "source": [
    "# create new feature\n",
    "daily_item_df = df_clean.select('userId','date','itemInSession').groupby('userId','date').agg(max('itemInSession')).groupBy('userId').avg('max(itemInSession)').\\\n",
    "    withColumnRenamed('avg(max(itemInSession))', 'avg_daily_items')\n",
    "\n",
    "# join 'avg_daily_items' column and delete 'itemInSession' column\n",
    "df_clean = df_clean.join(daily_item_df, on='userId')\n",
    "df_clean = df_clean.drop('itemInSession')\n",
    "#df_clean.show(2)"
   ]
  },
  {
   "cell_type": "code",
   "execution_count": 28,
   "metadata": {},
   "outputs": [],
   "source": [
    "# turn dataframe into pandas dataframe for plotting\n",
    "avg_daily_items_pd = df_clean.select(['userId','avg_daily_items','label']).drop_duplicates(['userId']).sort(\"label\").toPandas()"
   ]
  },
  {
   "cell_type": "code",
   "execution_count": 29,
   "metadata": {},
   "outputs": [
    {
     "data": {
      "image/png": "[encoded data removed]",
      "text/plain": [
       "<matplotlib.figure.Figure at 0x7efc59585d68>"
      ]
     },
     "metadata": {
      "needs_background": "light"
     },
     "output_type": "display_data"
    },
    {
     "name": "stderr",
     "output_type": "stream",
     "text": [
      "UsageError: Line magic function `%matplot` not found.\n"
     ]
    }
   ],
   "source": [
    "plt.figure()\n",
    "sb.boxplot(y=\"avg_daily_items\", x=\"label\", data=avg_daily_items_pd)\n",
    "plt.title('Average daily items between stayed and churned users')\n",
    "plt.show()\n",
    "%matplot plt"
   ]
  },
  {
   "cell_type": "markdown",
   "metadata": {},
   "source": [
    "### Average session duration"
   ]
  },
  {
   "cell_type": "code",
   "execution_count": 36,
   "metadata": {},
   "outputs": [],
   "source": [
    "# session duration for each user\n",
    "session_duration = df_clean.select('userId','sessionId','ts').groupBy('userId','sessionId').agg(((max('ts')-min('ts'))/1000/3600).alias('activesession'))\n",
    "# average session duration for each user\n",
    "session_duration_df = session_duration.groupBy('userId').avg('activesession').withColumnRenamed('avg(activesession)', 'avg_session')\n",
    "\n",
    "# join dataframe to create new column\n",
    "df_clean = df_clean.join(session_duration_df, on='userId')"
   ]
  },
  {
   "cell_type": "code",
   "execution_count": 37,
   "metadata": {},
   "outputs": [],
   "source": [
    "# create pandas dataframe for plotting\n",
    "avg_session_pd = df_clean.select(['userId','avg_session','label']).drop_duplicates(['userId']).sort(\"label\").toPandas()"
   ]
  },
  {
   "cell_type": "code",
   "execution_count": 38,
   "metadata": {},
   "outputs": [
    {
     "data": {
      "image/png": "[encoded data removed]",
      "text/plain": [
       "<matplotlib.figure.Figure at 0x7efc5938cb70>"
      ]
     },
     "metadata": {
      "needs_background": "light"
     },
     "output_type": "display_data"
    },
    {
     "name": "stderr",
     "output_type": "stream",
     "text": [
      "UsageError: Line magic function `%matplot` not found.\n"
     ]
    }
   ],
   "source": [
    "plt.figure()\n",
    "sb.boxplot(y=\"avg_session\", x=\"label\", data=avg_session_pd)\n",
    "plt.title('Average session duration between stayed and churned users')\n",
    "plt.show()\n",
    "%matplot plt"
   ]
  },
  {
   "cell_type": "markdown",
   "metadata": {},
   "source": [
    "### Friends added"
   ]
  },
  {
   "cell_type": "code",
   "execution_count": 18,
   "metadata": {},
   "outputs": [],
   "source": [
    "# subset data\n",
    "df_page = df_clean.select('label','userId','page','date')"
   ]
  },
  {
   "cell_type": "code",
   "execution_count": 31,
   "metadata": {},
   "outputs": [],
   "source": [
    "# average number of friends added daily\n",
    "daily_friends_df = df_page.where('page == \"Add Friend\"').groupby(['label', 'userId','date']).count()\\\n",
    "    .groupby('label','userId').avg('count').withColumnRenamed('avg(count)', 'friends')\n"
   ]
  },
  {
   "cell_type": "code",
   "execution_count": 32,
   "metadata": {},
   "outputs": [
    {
     "name": "stdout",
     "output_type": "stream",
     "text": [
      "+-----+------+------------------+\n",
      "|label|userId|           friends|\n",
      "+-----+------+------------------+\n",
      "|    0|100010|1.3333333333333333|\n",
      "|    0|200002|               2.0|\n",
      "|    0|   124|               3.7|\n",
      "|    1|    51|               3.5|\n",
      "|    0|     7|               1.0|\n",
      "|    0|    15| 2.066666666666667|\n",
      "|    1|    54| 2.357142857142857|\n",
      "|    0|   155|               2.2|\n",
      "|    1|100014|               1.5|\n",
      "|    0|   132|2.9285714285714284|\n",
      "|    0|   154|               3.0|\n",
      "|    1|   101|3.2222222222222223|\n",
      "|    0|    11|               1.2|\n",
      "|    0|   138|               4.1|\n",
      "|    0|300017|2.1724137931034484|\n",
      "|    1|100021|               3.5|\n",
      "|    1|    29| 3.357142857142857|\n",
      "|    0|    69|1.7142857142857142|\n",
      "|    0|   112|              1.75|\n",
      "|    0|    42| 2.260869565217391|\n",
      "+-----+------+------------------+\n",
      "only showing top 20 rows\n",
      "\n"
     ]
    }
   ],
   "source": [
    "daily_friends_df.show()"
   ]
  },
  {
   "cell_type": "code",
   "execution_count": 33,
   "metadata": {},
   "outputs": [],
   "source": [
    "# turn to pandas dataframe for plotting\n",
    "friends_pd = daily_friends_df.toPandas()"
   ]
  },
  {
   "cell_type": "code",
   "execution_count": 34,
   "metadata": {},
   "outputs": [
    {
     "data": {
      "image/png": "[encoded data removed]",
      "text/plain": [
       "<matplotlib.figure.Figure at 0x7f434ddee748>"
      ]
     },
     "metadata": {
      "needs_background": "light"
     },
     "output_type": "display_data"
    },
    {
     "name": "stderr",
     "output_type": "stream",
     "text": [
      "UsageError: Line magic function `%matplot` not found.\n"
     ]
    }
   ],
   "source": [
    "plt.figure()\n",
    "plt.title('Friends added daily by stayed and churned users')\n",
    "sb.boxplot(y=\"friends\", x=\"label\", data=friends_pd)\n",
    "plt.show()\n",
    "%matplot plt"
   ]
  },
  {
   "cell_type": "markdown",
   "metadata": {},
   "source": [
    "### Number of \"thumbs up\""
   ]
  },
  {
   "cell_type": "code",
   "execution_count": 35,
   "metadata": {},
   "outputs": [],
   "source": [
    "# average number of \"thumbs up\" daily\n",
    "thumbs_up_df = df_page.where('page == \"Thumbs Up\"').groupby(['label', 'userId','date']).count()\\\n",
    "    .groupby('label','userId').avg('count').withColumnRenamed('avg(count)', 'thumbs_ups')"
   ]
  },
  {
   "cell_type": "code",
   "execution_count": 36,
   "metadata": {},
   "outputs": [
    {
     "name": "stdout",
     "output_type": "stream",
     "text": [
      "+-----+------+------------------+\n",
      "|label|userId|        thumbs_ups|\n",
      "+-----+------+------------------+\n",
      "|    0|100010|2.8333333333333335|\n",
      "|    0|200002|               3.0|\n",
      "|    0|   124| 5.896551724137931|\n",
      "|    1|    51| 8.333333333333334|\n",
      "|    0|     7|              1.75|\n",
      "+-----+------+------------------+\n",
      "only showing top 5 rows\n",
      "\n"
     ]
    }
   ],
   "source": [
    "thumbs_up_df.show(5)"
   ]
  },
  {
   "cell_type": "code",
   "execution_count": 37,
   "metadata": {},
   "outputs": [],
   "source": [
    "# turn to pandas dataframe for plotting\n",
    "thumbs_up_pd = thumbs_up_df.toPandas()"
   ]
  },
  {
   "cell_type": "code",
   "execution_count": 38,
   "metadata": {},
   "outputs": [
    {
     "data": {
      "image/png": "[encoded data removed]",
      "text/plain": [
       "<matplotlib.figure.Figure at 0x7f434dcbefd0>"
      ]
     },
     "metadata": {
      "needs_background": "light"
     },
     "output_type": "display_data"
    },
    {
     "name": "stderr",
     "output_type": "stream",
     "text": [
      "UsageError: Line magic function `%matplot` not found.\n"
     ]
    }
   ],
   "source": [
    "plt.figure()\n",
    "plt.title('Daily number of \"Thumbs Up\" of stayed and churned users')\n",
    "sb.boxplot(y=\"thumbs_ups\", x=\"label\", data=thumbs_up_pd)\n",
    "plt.show()\n",
    "%matplot plt"
   ]
  },
  {
   "cell_type": "markdown",
   "metadata": {},
   "source": [
    "### Number of \"thumbs down\""
   ]
  },
  {
   "cell_type": "code",
   "execution_count": 39,
   "metadata": {},
   "outputs": [],
   "source": [
    "# average number of \"thumbs down\" daily\n",
    "thumbs_down_df = df_page.where('page == \"Thumbs Down\"').groupby(['label', 'userId','date']).count()\\\n",
    "    .groupby('label','userId').avg('count').withColumnRenamed('avg(count)', 'thumbs_downs')"
   ]
  },
  {
   "cell_type": "code",
   "execution_count": 40,
   "metadata": {},
   "outputs": [],
   "source": [
    "# turn to pandas dataframe for plotting\n",
    "thumbs_down_pd = thumbs_down_df.toPandas()"
   ]
  },
  {
   "cell_type": "code",
   "execution_count": 41,
   "metadata": {},
   "outputs": [
    {
     "data": {
      "image/png": "[encoded data removed]",
      "text/plain": [
       "<matplotlib.figure.Figure at 0x7f434dc5ac18>"
      ]
     },
     "metadata": {
      "needs_background": "light"
     },
     "output_type": "display_data"
    },
    {
     "name": "stderr",
     "output_type": "stream",
     "text": [
      "UsageError: Line magic function `%matplot` not found.\n"
     ]
    }
   ],
   "source": [
    "plt.figure()\n",
    "plt.title('Daily number of \"Thumbs Down\" of stayed and churned users')\n",
    "sb.boxplot(y=\"thumbs_downs\", x=\"label\", data=thumbs_down_pd)\n",
    "plt.show()\n",
    "%matplot plt"
   ]
  },
  {
   "cell_type": "markdown",
   "metadata": {},
   "source": [
    "### Times \"add to playlist\""
   ]
  },
  {
   "cell_type": "code",
   "execution_count": 42,
   "metadata": {},
   "outputs": [],
   "source": [
    "# average number of \"add to playlist\" \n",
    "add_playlist_df = df_page.where('page == \"Add to Playlist\"').groupby(['label', 'userId','date']).count()\\\n",
    "    .groupby('label','userId').avg('count').withColumnRenamed('avg(count)', 'add_playlist')"
   ]
  },
  {
   "cell_type": "code",
   "execution_count": 43,
   "metadata": {},
   "outputs": [],
   "source": [
    "# turn to pandas dataframe for plotting\n",
    "add_playlist_pd = add_playlist_df.toPandas()"
   ]
  },
  {
   "cell_type": "code",
   "execution_count": 44,
   "metadata": {},
   "outputs": [
    {
     "data": {
      "image/png": "[encoded data removed]",
      "text/plain": [
       "<matplotlib.figure.Figure at 0x7f434dbcf198>"
      ]
     },
     "metadata": {
      "needs_background": "light"
     },
     "output_type": "display_data"
    },
    {
     "name": "stderr",
     "output_type": "stream",
     "text": [
      "UsageError: Line magic function `%matplot` not found.\n"
     ]
    }
   ],
   "source": [
    "plt.figure()\n",
    "plt.title('Daily number of \"add to playlist\" of stayed and churned users')\n",
    "sb.boxplot(y=\"add_playlist\", x=\"label\", data=add_playlist_pd)\n",
    "plt.show()\n",
    "%matplot plt"
   ]
  },
  {
   "cell_type": "markdown",
   "metadata": {},
   "source": [
    "### Times \"Roll Advert\""
   ]
  },
  {
   "cell_type": "code",
   "execution_count": 45,
   "metadata": {},
   "outputs": [],
   "source": [
    "# average number of \"roll advert\" \n",
    "roll_advert_df = df_page.where('page == \"Roll Advert\"').groupby(['label', 'userId','date']).count()\\\n",
    "    .groupby('label','userId').avg('count').withColumnRenamed('avg(count)', 'roll_advert')"
   ]
  },
  {
   "cell_type": "code",
   "execution_count": 46,
   "metadata": {},
   "outputs": [],
   "source": [
    "# turn to pandas dataframe for plotting\n",
    "roll_advert_pd = roll_advert_df.toPandas()"
   ]
  },
  {
   "cell_type": "code",
   "execution_count": 47,
   "metadata": {},
   "outputs": [
    {
     "data": {
      "image/png": "[encoded data removed]",
      "text/plain": [
       "<matplotlib.figure.Figure at 0x7f434db527b8>"
      ]
     },
     "metadata": {
      "needs_background": "light"
     },
     "output_type": "display_data"
    },
    {
     "name": "stderr",
     "output_type": "stream",
     "text": [
      "UsageError: Line magic function `%matplot` not found.\n"
     ]
    }
   ],
   "source": [
    "plt.figure()\n",
    "plt.title('Daily number of \"Roll Advert\" of stayed and churned users')\n",
    "sb.boxplot(y=\"roll_advert\", x=\"label\", data=roll_advert_pd)\n",
    "plt.show()\n",
    "%matplot plt"
   ]
  },
  {
   "cell_type": "markdown",
   "metadata": {},
   "source": [
    "### Agent used by stayed and churned users"
   ]
  },
  {
   "cell_type": "code",
   "execution_count": null,
   "metadata": {},
   "outputs": [],
   "source": [
    "# count agent frequency\n",
    "device_pd = df_clean.groupBy(\"agent\", \"label\").agg(countDistinct(\"UserId\").alias(\"users\")).sort(col(\"users\").desc()).toPandas()"
   ]
  },
  {
   "cell_type": "code",
   "execution_count": 115,
   "metadata": {},
   "outputs": [
    {
     "data": {
      "application/vnd.jupyter.widget-view+json": {
       "model_id": "6d23fe52928f4128b2a7c2c1429e864b",
       "version_major": 2,
       "version_minor": 0
      },
      "text/plain": [
       "VBox()"
      ]
     },
     "metadata": {},
     "output_type": "display_data"
    },
    {
     "data": {
      "application/vnd.jupyter.widget-view+json": {
       "model_id": "",
       "version_major": 2,
       "version_minor": 0
      },
      "text/plain": [
       "FloatProgress(value=0.0, bar_style='info', description='Progress:', layout=Layout(height='25px', width='50%'),…"
      ]
     },
     "metadata": {},
     "output_type": "display_data"
    },
    {
     "data": {
      "image/png": "[encoded data removed]",
      "text/plain": [
       "<IPython.core.display.Image object>"
      ]
     },
     "metadata": {},
     "output_type": "display_data"
    }
   ],
   "source": [
    "plt.figure()\n",
    "sb.barplot(x=\"agent\", y=\"users\", hue=\"label\", data=device_pd)\n",
    "plt.show()\n",
    "%matplot plt"
   ]
  },
  {
   "cell_type": "markdown",
   "metadata": {},
   "source": [
    "### State of stayed and churned users"
   ]
  },
  {
   "cell_type": "code",
   "execution_count": 116,
   "metadata": {},
   "outputs": [
    {
     "data": {
      "application/vnd.jupyter.widget-view+json": {
       "model_id": "17fa5659788e45ec830cd22cb6e7d8f2",
       "version_major": 2,
       "version_minor": 0
      },
      "text/plain": [
       "VBox()"
      ]
     },
     "metadata": {},
     "output_type": "display_data"
    },
    {
     "data": {
      "application/vnd.jupyter.widget-view+json": {
       "model_id": "",
       "version_major": 2,
       "version_minor": 0
      },
      "text/plain": [
       "FloatProgress(value=0.0, bar_style='info', description='Progress:', layout=Layout(height='25px', width='50%'),…"
      ]
     },
     "metadata": {},
     "output_type": "display_data"
    }
   ],
   "source": [
    "# count state frequency\n",
    "state_pd = df_clean.groupBy(\"state\", \"label\").agg(countDistinct(\"UserId\").alias(\"users\")).sort(col(\"users\").desc()).toPandas()"
   ]
  },
  {
   "cell_type": "code",
   "execution_count": 117,
   "metadata": {},
   "outputs": [
    {
     "data": {
      "application/vnd.jupyter.widget-view+json": {
       "model_id": "c944e98aa4354c81a67ca28838c31384",
       "version_major": 2,
       "version_minor": 0
      },
      "text/plain": [
       "VBox()"
      ]
     },
     "metadata": {},
     "output_type": "display_data"
    },
    {
     "data": {
      "application/vnd.jupyter.widget-view+json": {
       "model_id": "",
       "version_major": 2,
       "version_minor": 0
      },
      "text/plain": [
       "FloatProgress(value=0.0, bar_style='info', description='Progress:', layout=Layout(height='25px', width='50%'),…"
      ]
     },
     "metadata": {},
     "output_type": "display_data"
    },
    {
     "data": {
      "image/png": "[encoded data removed]",
      "text/plain": [
       "<IPython.core.display.Image object>"
      ]
     },
     "metadata": {},
     "output_type": "display_data"
    }
   ],
   "source": [
    "plt.figure(figsize=(25,25))\n",
    "ax = sb.barplot(y=\"state\", x=\"users\", hue=\"label\", data=state_pd)\n",
    "plt.xlabel('users',fontsize=24)\n",
    "plt.ylabel('state',fontsize=24)\n",
    "plt.legend(title='label', loc='best',fontsize=20)\n",
    "plt.title('User state location count',fontsize=26)\n",
    "plt.xticks(fontsize=20)\n",
    "plt.yticks(fontsize=20)\n",
    "sb.despine(ax=ax)\n",
    "plt.show()\n",
    "%matplot plt"
   ]
  }
 ],
 "metadata": {
  "kernelspec": {
   "display_name": "Python 3",
   "language": "python",
   "name": "python3"
  },
  "language_info": {
   "codemirror_mode": {
    "name": "ipython",
    "version": 3
   },
   "file_extension": ".py",
   "mimetype": "text/x-python",
   "name": "python",
   "nbconvert_exporter": "python",
   "pygments_lexer": "ipython3",
   "version": "3.6.3"
  }
 },
 "nbformat": 4,
 "nbformat_minor": 4
}
